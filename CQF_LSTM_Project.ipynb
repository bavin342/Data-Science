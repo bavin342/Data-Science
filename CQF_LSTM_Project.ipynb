{
  "nbformat": 4,
  "nbformat_minor": 0,
  "metadata": {
    "colab": {
      "name": "CQF LSTM Project.ipynb",
      "provenance": [],
      "collapsed_sections": [],
      "authorship_tag": "ABX9TyPDoDvfCmBo+cTlRHODvMBk",
      "include_colab_link": true
    },
    "kernelspec": {
      "name": "python3",
      "display_name": "Python 3"
    },
    "language_info": {
      "name": "python"
    }
  },
  "cells": [
    {
      "cell_type": "markdown",
      "metadata": {
        "id": "view-in-github",
        "colab_type": "text"
      },
      "source": [
        "<a href=\"https://colab.research.google.com/github/bavin342/Data-Science/blob/main/CQF_LSTM_Project.ipynb\" target=\"_parent\"><img src=\"https://colab.research.google.com/assets/colab-badge.svg\" alt=\"Open In Colab\"/></a>"
      ]
    },
    {
      "cell_type": "markdown",
      "source": [
        "In this notebook we are going to use LSTM to predict stock movement. This is going to be a classifcation problem, i.e if the stock price goes up then we classify it as 1, if it goes down then we classify it as 0. \n",
        "\n",
        "We are going to be using netflix data.\n",
        "\n"
      ],
      "metadata": {
        "id": "0IGM6Ey0X6bw"
      }
    },
    {
      "cell_type": "code",
      "source": [
        "# Imports\n",
        "!pip install yfinance \n",
        "!pip install keras-tuner --upgrade\n",
        "import seaborn as sns\n",
        "import math\n",
        "import pandas as pd\n",
        "import numpy as np \n",
        "from pandas_datareader import data as pdr\n",
        "import matplotlib.pyplot as plt\n",
        "import datetime\n",
        "import os\n",
        "import numpy as np\n",
        "import tensorflow as tf \n",
        "from sklearn.preprocessing import MinMaxScaler\n",
        "import time\n",
        "from keras.models import Sequential\n",
        "from keras.layers.core import Dense, Activation, Dropout\n",
        "from keras.layers import Dense\n",
        "from keras.layers import LSTM\n",
        "from sklearn.metrics import mean_squared_error\n",
        "from sklearn.preprocessing import MinMaxScaler\n",
        "import yfinance as yf\n",
        "from tensorflow.keras.utils import plot_model\n",
        "from tensorflow.keras.callbacks import EarlyStopping, ModelCheckpoint, TensorBoard\n",
        "import keras_tuner as kt\n",
        "from keras_tuner import HyperParameter, HyperParameters\n",
        "from keras_tuner import BayesianOptimization, RandomSearch, Hyperband\n",
        "from sklearn.metrics import confusion_matrix\n",
        "from sklearn.metrics import ConfusionMatrixDisplay\n",
        "\n",
        "%matplotlib inline\n",
        "\n",
        "!pip install -U git+https://github.com/twopirllc/pandas-ta"
      ],
      "metadata": {
        "colab": {
          "base_uri": "https://localhost:8080/"
        },
        "id": "QFj3OG9oX-Ni",
        "outputId": "dc4bbee3-7cdc-4140-8a6e-0395a83bb57b"
      },
      "execution_count": 89,
      "outputs": [
        {
          "output_type": "stream",
          "name": "stdout",
          "text": [
            "Requirement already satisfied: yfinance in /usr/local/lib/python3.7/dist-packages (0.1.70)\n",
            "Requirement already satisfied: requests>=2.26 in /usr/local/lib/python3.7/dist-packages (from yfinance) (2.27.1)\n",
            "Requirement already satisfied: multitasking>=0.0.7 in /usr/local/lib/python3.7/dist-packages (from yfinance) (0.0.10)\n",
            "Requirement already satisfied: pandas>=0.24.0 in /usr/local/lib/python3.7/dist-packages (from yfinance) (1.3.5)\n",
            "Requirement already satisfied: lxml>=4.5.1 in /usr/local/lib/python3.7/dist-packages (from yfinance) (4.8.0)\n",
            "Requirement already satisfied: numpy>=1.15 in /usr/local/lib/python3.7/dist-packages (from yfinance) (1.21.6)\n",
            "Requirement already satisfied: python-dateutil>=2.7.3 in /usr/local/lib/python3.7/dist-packages (from pandas>=0.24.0->yfinance) (2.8.2)\n",
            "Requirement already satisfied: pytz>=2017.3 in /usr/local/lib/python3.7/dist-packages (from pandas>=0.24.0->yfinance) (2022.1)\n",
            "Requirement already satisfied: six>=1.5 in /usr/local/lib/python3.7/dist-packages (from python-dateutil>=2.7.3->pandas>=0.24.0->yfinance) (1.15.0)\n",
            "Requirement already satisfied: urllib3<1.27,>=1.21.1 in /usr/local/lib/python3.7/dist-packages (from requests>=2.26->yfinance) (1.24.3)\n",
            "Requirement already satisfied: idna<4,>=2.5 in /usr/local/lib/python3.7/dist-packages (from requests>=2.26->yfinance) (2.10)\n",
            "Requirement already satisfied: certifi>=2017.4.17 in /usr/local/lib/python3.7/dist-packages (from requests>=2.26->yfinance) (2021.10.8)\n",
            "Requirement already satisfied: charset-normalizer~=2.0.0 in /usr/local/lib/python3.7/dist-packages (from requests>=2.26->yfinance) (2.0.12)\n",
            "Requirement already satisfied: keras-tuner in /usr/local/lib/python3.7/dist-packages (1.1.2)\n",
            "Requirement already satisfied: packaging in /usr/local/lib/python3.7/dist-packages (from keras-tuner) (21.3)\n",
            "Requirement already satisfied: kt-legacy in /usr/local/lib/python3.7/dist-packages (from keras-tuner) (1.0.4)\n",
            "Requirement already satisfied: requests in /usr/local/lib/python3.7/dist-packages (from keras-tuner) (2.27.1)\n",
            "Requirement already satisfied: ipython in /usr/local/lib/python3.7/dist-packages (from keras-tuner) (5.5.0)\n",
            "Requirement already satisfied: numpy in /usr/local/lib/python3.7/dist-packages (from keras-tuner) (1.21.6)\n",
            "Requirement already satisfied: tensorboard in /usr/local/lib/python3.7/dist-packages (from keras-tuner) (2.8.0)\n",
            "Requirement already satisfied: pexpect in /usr/local/lib/python3.7/dist-packages (from ipython->keras-tuner) (4.8.0)\n",
            "Requirement already satisfied: setuptools>=18.5 in /usr/local/lib/python3.7/dist-packages (from ipython->keras-tuner) (57.4.0)\n",
            "Requirement already satisfied: traitlets>=4.2 in /usr/local/lib/python3.7/dist-packages (from ipython->keras-tuner) (5.2.0)\n",
            "Requirement already satisfied: pygments in /usr/local/lib/python3.7/dist-packages (from ipython->keras-tuner) (2.6.1)\n",
            "Requirement already satisfied: decorator in /usr/local/lib/python3.7/dist-packages (from ipython->keras-tuner) (4.4.2)\n",
            "Requirement already satisfied: pickleshare in /usr/local/lib/python3.7/dist-packages (from ipython->keras-tuner) (0.7.5)\n",
            "Requirement already satisfied: prompt-toolkit<2.0.0,>=1.0.4 in /usr/local/lib/python3.7/dist-packages (from ipython->keras-tuner) (1.0.18)\n",
            "Requirement already satisfied: simplegeneric>0.8 in /usr/local/lib/python3.7/dist-packages (from ipython->keras-tuner) (0.8.1)\n",
            "Requirement already satisfied: wcwidth in /usr/local/lib/python3.7/dist-packages (from prompt-toolkit<2.0.0,>=1.0.4->ipython->keras-tuner) (0.2.5)\n",
            "Requirement already satisfied: six>=1.9.0 in /usr/local/lib/python3.7/dist-packages (from prompt-toolkit<2.0.0,>=1.0.4->ipython->keras-tuner) (1.15.0)\n",
            "Requirement already satisfied: pyparsing!=3.0.5,>=2.0.2 in /usr/local/lib/python3.7/dist-packages (from packaging->keras-tuner) (3.0.9)\n",
            "Requirement already satisfied: ptyprocess>=0.5 in /usr/local/lib/python3.7/dist-packages (from pexpect->ipython->keras-tuner) (0.7.0)\n",
            "Requirement already satisfied: certifi>=2017.4.17 in /usr/local/lib/python3.7/dist-packages (from requests->keras-tuner) (2021.10.8)\n",
            "Requirement already satisfied: charset-normalizer~=2.0.0 in /usr/local/lib/python3.7/dist-packages (from requests->keras-tuner) (2.0.12)\n",
            "Requirement already satisfied: urllib3<1.27,>=1.21.1 in /usr/local/lib/python3.7/dist-packages (from requests->keras-tuner) (1.24.3)\n",
            "Requirement already satisfied: idna<4,>=2.5 in /usr/local/lib/python3.7/dist-packages (from requests->keras-tuner) (2.10)\n",
            "Requirement already satisfied: absl-py>=0.4 in /usr/local/lib/python3.7/dist-packages (from tensorboard->keras-tuner) (1.0.0)\n",
            "Requirement already satisfied: google-auth<3,>=1.6.3 in /usr/local/lib/python3.7/dist-packages (from tensorboard->keras-tuner) (1.35.0)\n",
            "Requirement already satisfied: protobuf>=3.6.0 in /usr/local/lib/python3.7/dist-packages (from tensorboard->keras-tuner) (3.17.3)\n",
            "Requirement already satisfied: tensorboard-plugin-wit>=1.6.0 in /usr/local/lib/python3.7/dist-packages (from tensorboard->keras-tuner) (1.8.1)\n",
            "Requirement already satisfied: werkzeug>=0.11.15 in /usr/local/lib/python3.7/dist-packages (from tensorboard->keras-tuner) (1.0.1)\n",
            "Requirement already satisfied: tensorboard-data-server<0.7.0,>=0.6.0 in /usr/local/lib/python3.7/dist-packages (from tensorboard->keras-tuner) (0.6.1)\n",
            "Requirement already satisfied: google-auth-oauthlib<0.5,>=0.4.1 in /usr/local/lib/python3.7/dist-packages (from tensorboard->keras-tuner) (0.4.6)\n",
            "Requirement already satisfied: wheel>=0.26 in /usr/local/lib/python3.7/dist-packages (from tensorboard->keras-tuner) (0.37.1)\n",
            "Requirement already satisfied: grpcio>=1.24.3 in /usr/local/lib/python3.7/dist-packages (from tensorboard->keras-tuner) (1.46.1)\n",
            "Requirement already satisfied: markdown>=2.6.8 in /usr/local/lib/python3.7/dist-packages (from tensorboard->keras-tuner) (3.3.7)\n",
            "Requirement already satisfied: cachetools<5.0,>=2.0.0 in /usr/local/lib/python3.7/dist-packages (from google-auth<3,>=1.6.3->tensorboard->keras-tuner) (4.2.4)\n",
            "Requirement already satisfied: pyasn1-modules>=0.2.1 in /usr/local/lib/python3.7/dist-packages (from google-auth<3,>=1.6.3->tensorboard->keras-tuner) (0.2.8)\n",
            "Requirement already satisfied: rsa<5,>=3.1.4 in /usr/local/lib/python3.7/dist-packages (from google-auth<3,>=1.6.3->tensorboard->keras-tuner) (4.8)\n",
            "Requirement already satisfied: requests-oauthlib>=0.7.0 in /usr/local/lib/python3.7/dist-packages (from google-auth-oauthlib<0.5,>=0.4.1->tensorboard->keras-tuner) (1.3.1)\n",
            "Requirement already satisfied: importlib-metadata>=4.4 in /usr/local/lib/python3.7/dist-packages (from markdown>=2.6.8->tensorboard->keras-tuner) (4.11.3)\n",
            "Requirement already satisfied: typing-extensions>=3.6.4 in /usr/local/lib/python3.7/dist-packages (from importlib-metadata>=4.4->markdown>=2.6.8->tensorboard->keras-tuner) (4.2.0)\n",
            "Requirement already satisfied: zipp>=0.5 in /usr/local/lib/python3.7/dist-packages (from importlib-metadata>=4.4->markdown>=2.6.8->tensorboard->keras-tuner) (3.8.0)\n",
            "Requirement already satisfied: pyasn1<0.5.0,>=0.4.6 in /usr/local/lib/python3.7/dist-packages (from pyasn1-modules>=0.2.1->google-auth<3,>=1.6.3->tensorboard->keras-tuner) (0.4.8)\n",
            "Requirement already satisfied: oauthlib>=3.0.0 in /usr/local/lib/python3.7/dist-packages (from requests-oauthlib>=0.7.0->google-auth-oauthlib<0.5,>=0.4.1->tensorboard->keras-tuner) (3.2.0)\n",
            "Collecting git+https://github.com/twopirllc/pandas-ta\n",
            "  Cloning https://github.com/twopirllc/pandas-ta to /tmp/pip-req-build-bpbc46m_\n",
            "  Running command git clone -q https://github.com/twopirllc/pandas-ta /tmp/pip-req-build-bpbc46m_\n",
            "Requirement already satisfied: pandas in /usr/local/lib/python3.7/dist-packages (from pandas-ta==0.3.14b0) (1.3.5)\n",
            "Requirement already satisfied: python-dateutil>=2.7.3 in /usr/local/lib/python3.7/dist-packages (from pandas->pandas-ta==0.3.14b0) (2.8.2)\n",
            "Requirement already satisfied: pytz>=2017.3 in /usr/local/lib/python3.7/dist-packages (from pandas->pandas-ta==0.3.14b0) (2022.1)\n",
            "Requirement already satisfied: numpy>=1.17.3 in /usr/local/lib/python3.7/dist-packages (from pandas->pandas-ta==0.3.14b0) (1.21.6)\n",
            "Requirement already satisfied: six>=1.5 in /usr/local/lib/python3.7/dist-packages (from python-dateutil>=2.7.3->pandas->pandas-ta==0.3.14b0) (1.15.0)\n"
          ]
        }
      ]
    },
    {
      "cell_type": "code",
      "source": [
        "# Functions Script\n",
        "\n",
        "def get_plot(df, x_column: str, y_column: str, title: str):\n",
        "\n",
        "    plt.figure(figsize = (18,9))\n",
        "    plt.xlabel(x_column)\n",
        "    plt.ylabel(y_column)\n",
        "    plt.title('{}'.format(title))\n",
        "    return plt.plot(df[y_column], \n",
        "                    \"-b\", \n",
        "                    label = '{}'.format(y_column)), plt.legend('{} Price'.format(y_column)) \n",
        "\n",
        "\n",
        "def PE(symbol: str):\n",
        "    data = yf.Ticker(symbol).info\n",
        "    return (data[\"trailingPE\"], data[\"forwardPE\"])\n",
        "\n",
        "\n",
        "def class_ratio(df_work):\n",
        "    df = df_work.copy()\n",
        "\n",
        "    df = Features.get_target(df)\n",
        "    df = df[['target']]\n",
        "    class_check = df.value_counts()\n",
        "    return class_check\n",
        "\n",
        "def check_NA(data, \n",
        "            ):\n",
        "    df = data.copy()\n",
        "    for col in df.columns:\n",
        "        if df[col].isnull().sum() > 0:\n",
        "            print('{} had {} null values'.format(col, df[col].isnull().sum()))\n",
        "    for i in df:\n",
        "        print(\"Cleaned df is given below\")\n",
        "        df = df.dropna(axis=1, how=\"any\", thresh=None, subset=None, inplace=False)\n",
        "        return df\n",
        "\n",
        "\n",
        "def get_full_df(df):\n",
        "    df = df_work.copy()\n",
        "    \n",
        "    df = Features.get_log_return(df)\n",
        "    rsi_df = Features.get_rsi(df.Close, 14)\n",
        "    df = df.merge(rsi_df, how = 'inner', on = 'Date').reset_index()\n",
        "    df = Features.get_CCI(df, 14)\n",
        "    df = Features.get_SO(df)\n",
        "    df = Features.get_SMA(df)\n",
        "    df = Features.get_ATR(df)\n",
        "    df = Features.get_Momentum(df,20)\n",
        "    df = Features.get_EMA(df)\n",
        "    df = Features.get_VWAP(df)\n",
        "    df = Features.get_target(df)\n",
        "    df = df.dropna().reset_index(drop=True)\n",
        "    return df\n",
        "\n",
        "\n",
        "def target_df(df_work):\n",
        "    df = df_work.copy()\n",
        "    df = Features.get_target(df)\n",
        "    return df[df['target']]\n",
        "\n",
        "\n",
        "\n",
        "def get_features_df(df_work):\n",
        "    df = df_work.copy()\n",
        "\n",
        "    df = Features.get_log_return(df)\n",
        "    rsi_df = Features.get_rsi(df.Close, 14)\n",
        "    df = df.merge(rsi_df, how = 'inner', on = 'Date').reset_index()\n",
        "    df = Features.get_CCI(df, 14)\n",
        "    df = Features.get_SO(df)\n",
        "    df = Features.get_SMA(df)\n",
        "    df = Features.get_ATR(df)\n",
        "    df = Features.get_Momentum(df,20)\n",
        "    df = Features.get_EMA(df)\n",
        "    df = Features.get_VWAP(df)\n",
        "    df = Features.get_target(df)\n",
        "    df = df.dropna().reset_index(drop=True)\n",
        "    features_df = df.drop(['target'],axis=1)\n",
        "    features_df = features_df.set_index('Date')\n",
        "    return features_df"
      ],
      "metadata": {
        "id": "-spH8lKcX-SG"
      },
      "execution_count": 102,
      "outputs": []
    },
    {
      "cell_type": "code",
      "source": [
        "class Features:\n",
        "    \" A class for all the features used which will be parsed into the LSTM for our classification problem \"\n",
        "    \n",
        "    def get_log_return(df):\n",
        "      df['return'] = np.log(df.Close).diff().fillna(0)\n",
        "      return df\n",
        "\n",
        "\n",
        "    # def get_YZ_vol(df, lookback=10):\n",
        "    #     o = df.Open\n",
        "    #     h = df.High\n",
        "    #     l = df.Low\n",
        "    #     c = df.Close\n",
        "        \n",
        "    #     k = 0.34 / (1.34 + (lookback+1)/(lookback-1))\n",
        "    #     cc = np.log(c/c.shift(1))\n",
        "    #     ho = np.log(h/o)\n",
        "    #     lo = np.log(l/o)\n",
        "    #     co = np.log(c/o)\n",
        "    #     oc = np.log(o/c.shift(1))\n",
        "    #     oc_sq = oc**2\n",
        "    #     cc_sq = cc**2\n",
        "    #     rs = ho*(ho-co)+lo*(lo-co)\n",
        "    #     close_vol = pd.rolling().sum(cc_sq, window=lookback) * (1.0 / (lookback - 1.0))\n",
        "    #     open_vol = pd.rolling().sum(oc_sq, window=lookback) * (1.0 / (lookback - 1.0))\n",
        "    #     window_rs = pd.rolling().sum(rs, window=lookback) * (1.0 / (lookback - 1.0))\n",
        "    #     result = (open_vol + k * close_vol + (1-k) * window_rs).apply(np.sqrt) * np.sqrt(252)\n",
        "    #     result[:lookback-1] = np.nan\n",
        "    #     return result * 100\n",
        "\n",
        "    def get_rsi(close, lookback):\n",
        "        ret = close.diff()\n",
        "        up = []\n",
        "        down = []\n",
        "        for i in range(len(ret)):\n",
        "            if ret[i] < 0:\n",
        "                up.append(0)\n",
        "                down.append(ret[i])\n",
        "            else:\n",
        "                up.append(ret[i])\n",
        "                down.append(0)\n",
        "        up_series = pd.Series(up)\n",
        "        down_series = pd.Series(down).abs()\n",
        "        up_ewm = up_series.ewm(com = lookback - 1, adjust = False).mean()\n",
        "        down_ewm = down_series.ewm(com = lookback - 1, adjust = False).mean()\n",
        "        rs = up_ewm/down_ewm\n",
        "        rsi = 100 - (100 / (1 + rs))\n",
        "        rsi_df = pd.DataFrame(rsi).rename(columns = {0:'rsi'}).set_index(close.index)\n",
        "        rsi_df = rsi_df.dropna()\n",
        "        return rsi_df\n",
        "\n",
        "\n",
        "    def get_CCI(df, ndays):\n",
        "        df['TP'] = (df['High'] + df['Low'] + df['Close']) / 3 \n",
        "        df['sma'] = df['TP'].rolling(ndays).mean()\n",
        "        df['mad'] = df['TP'].rolling(ndays).apply(lambda x: pd.Series(x).mad())\n",
        "        df['CCI'] = (df['TP'] - df['sma']) / (0.015 * df['mad']) \n",
        "        df = df.drop(['TP', 'sma', 'mad'], axis=1)\n",
        "        df = df.dropna() \n",
        "        return df\n",
        "\n",
        "    def get_SO(df):\n",
        "        df['14-high'] = df['High'].rolling(14).max()\n",
        "        df['14-low'] = df['Low'].rolling(14).min()\n",
        "        df['%K'] = (df['Close'] - df['14-low'])*100/(df['14-high'] - df['14-low'])\n",
        "        df['%D'] = df['%K'].rolling(3).mean()\n",
        "        df = df.drop(['14-high', '14-low'], axis=1)\n",
        "        df = df.dropna()\n",
        "        return df\n",
        "\n",
        "\n",
        "    def get_SMA(df, period=30,column='Close'):\n",
        "        df['SMA'] = df[column].rolling(window=period).mean()\n",
        "        df = df.dropna()\n",
        "        return df\n",
        "    \n",
        "    def get_ATR(df, period=14):\n",
        "        high_low = df['High'] - df['Low']\n",
        "        high_cp = np.abs(df['High'] - df['Close'].shift())\n",
        "        low_cp = np.abs(df['High'] - df['Close'].shift())\n",
        "        tr=pd.concat([high_low, high_cp, low_cp], axis=1) \n",
        "        true_range = np.max(tr, axis=1)\n",
        "        df['ATR'] = true_range.rolling(window=period).mean()\n",
        "        df = df.dropna()\n",
        "        return df\n",
        "        \n",
        "    def get_Momentum(df, n):\n",
        "        M = pd.Series(df['Close'].diff(n), name='Momentum_' + str(n))\n",
        "        df = df.join(M)\n",
        "        df = df.dropna()\n",
        "        return df\n",
        "    \n",
        "    def get_EMA(df):\n",
        "        df['EMA'] = df['Close'].ewm(span=14).mean()\n",
        "        return df\n",
        "        \n",
        "    def get_VWAP(df):\n",
        "        df['VWAP'] = (df.Volume * (df.High + df.Low) / 2).cumsum() / df.Volume.cumsum()\n",
        "        return df\n",
        "\n",
        "    \n",
        "    def get_target(df):\n",
        "      df['target'] = df['Close'] - df['Close'].shift(-1)\n",
        "      df['target'] = df['target'].apply(lambda x: 1 if x > 0 else 0)\n",
        "      return df"
      ],
      "metadata": {
        "id": "J5UTrMcC6IDZ"
      },
      "execution_count": 91,
      "outputs": []
    },
    {
      "cell_type": "code",
      "source": [
        "class FS:\n",
        "\n",
        "    def __init__(self, df):\n",
        "        self.df = df\n",
        "\n",
        "\n",
        "    def get_"
      ],
      "metadata": {
        "colab": {
          "base_uri": "https://localhost:8080/",
          "height": 130
        },
        "id": "SuQTEFBh6IFd",
        "outputId": "cea2f924-595a-49bc-8321-756f86ad39c3"
      },
      "execution_count": null,
      "outputs": [
        {
          "output_type": "error",
          "ename": "SyntaxError",
          "evalue": "ignored",
          "traceback": [
            "\u001b[0;36m  File \u001b[0;32m\"<ipython-input-8-aff8631b82c8>\"\u001b[0;36m, line \u001b[0;32m7\u001b[0m\n\u001b[0;31m    def get_\u001b[0m\n\u001b[0m            ^\u001b[0m\n\u001b[0;31mSyntaxError\u001b[0m\u001b[0;31m:\u001b[0m invalid syntax\n"
          ]
        }
      ]
    },
    {
      "cell_type": "markdown",
      "source": [
        "Building a class for all the features we are going to use for our LSTM"
      ],
      "metadata": {
        "id": "pGfDOLL46SaX"
      }
    },
    {
      "cell_type": "code",
      "source": [
        "class LSTM:\n",
        "  \n",
        "  \"\"A Keras tuner for LSTM classifier\"\"\n",
        "\n",
        "    def get_\n",
        "\n",
        "\n",
        "\n",
        "    def get_\n",
        "\n",
        "\n",
        "    def get_\n",
        "\n",
        "    def get_"
      ],
      "metadata": {
        "id": "iv7Zww7l6RF5"
      },
      "execution_count": null,
      "outputs": []
    },
    {
      "cell_type": "code",
      "source": [
        "# Get the data via yahoo finance\n",
        "yf.pdr_override()\n",
        "start = datetime.datetime(2007, 1, 1)\n",
        "end = datetime.datetime(2022, 1, 1)\n",
        "\n",
        "df = pdr.get_data_yahoo('NFLX', start, end) # Data for Netflix inc\n",
        "display(df), get_plot(df,'Date', 'Close', 'Netflix Stock Price')"
      ],
      "metadata": {
        "colab": {
          "base_uri": "https://localhost:8080/",
          "height": 235
        },
        "id": "hNO6ydXRXRAq",
        "outputId": "8d1aceb6-5ecd-4bbd-afe7-76b7a7fcbe31"
      },
      "execution_count": 103,
      "outputs": [
        {
          "output_type": "error",
          "ename": "AttributeError",
          "evalue": "ignored",
          "traceback": [
            "\u001b[0;31m---------------------------------------------------------------------------\u001b[0m",
            "\u001b[0;31mAttributeError\u001b[0m                            Traceback (most recent call last)",
            "\u001b[0;32m<ipython-input-103-448ec0d0acd2>\u001b[0m in \u001b[0;36m<module>\u001b[0;34m()\u001b[0m\n\u001b[1;32m      1\u001b[0m \u001b[0;31m# Get the data via yahoo finance\u001b[0m\u001b[0;34m\u001b[0m\u001b[0;34m\u001b[0m\u001b[0;34m\u001b[0m\u001b[0m\n\u001b[1;32m      2\u001b[0m \u001b[0myf\u001b[0m\u001b[0;34m.\u001b[0m\u001b[0mpdr_override\u001b[0m\u001b[0;34m(\u001b[0m\u001b[0;34m)\u001b[0m\u001b[0;34m\u001b[0m\u001b[0;34m\u001b[0m\u001b[0m\n\u001b[0;32m----> 3\u001b[0;31m \u001b[0mstart\u001b[0m \u001b[0;34m=\u001b[0m \u001b[0mdatetime\u001b[0m\u001b[0;34m.\u001b[0m\u001b[0mdatetime\u001b[0m\u001b[0;34m(\u001b[0m\u001b[0;36m2007\u001b[0m\u001b[0;34m,\u001b[0m \u001b[0;36m1\u001b[0m\u001b[0;34m,\u001b[0m \u001b[0;36m1\u001b[0m\u001b[0;34m)\u001b[0m\u001b[0;34m\u001b[0m\u001b[0;34m\u001b[0m\u001b[0m\n\u001b[0m\u001b[1;32m      4\u001b[0m \u001b[0mend\u001b[0m \u001b[0;34m=\u001b[0m \u001b[0mdatetime\u001b[0m\u001b[0;34m.\u001b[0m\u001b[0mdatetime\u001b[0m\u001b[0;34m(\u001b[0m\u001b[0;36m2022\u001b[0m\u001b[0;34m,\u001b[0m \u001b[0;36m1\u001b[0m\u001b[0;34m,\u001b[0m \u001b[0;36m1\u001b[0m\u001b[0;34m)\u001b[0m\u001b[0;34m\u001b[0m\u001b[0;34m\u001b[0m\u001b[0m\n\u001b[1;32m      5\u001b[0m \u001b[0;34m\u001b[0m\u001b[0m\n",
            "\u001b[0;31mAttributeError\u001b[0m: type object 'datetime.datetime' has no attribute 'datetime'"
          ]
        }
      ]
    },
    {
      "cell_type": "code",
      "source": [
        "features = get_features_df(df)\n",
        "features.dtypes"
      ],
      "metadata": {
        "colab": {
          "base_uri": "https://localhost:8080/"
        },
        "id": "wJjkgfrsr_oa",
        "outputId": "e6a0b2f5-156c-4565-df01-3a0320efd52e"
      },
      "execution_count": 104,
      "outputs": [
        {
          "output_type": "execute_result",
          "data": {
            "text/plain": [
              "Open           float64\n",
              "High           float64\n",
              "Low            float64\n",
              "Close          float64\n",
              "Adj Close      float64\n",
              "Volume           int64\n",
              "return         float64\n",
              "rsi            float64\n",
              "CCI            float64\n",
              "%K             float64\n",
              "%D             float64\n",
              "SMA            float64\n",
              "ATR            float64\n",
              "Momentum_20    float64\n",
              "EMA            float64\n",
              "VWAP           float64\n",
              "dtype: object"
            ]
          },
          "metadata": {},
          "execution_count": 104
        }
      ]
    },
    {
      "cell_type": "markdown",
      "source": [
        "Checking if any missing values (NaN) are dropped"
      ],
      "metadata": {
        "id": "N9W9HawtcZsM"
      }
    },
    {
      "cell_type": "code",
      "source": [
        "np.isnan(features.any()).sum()"
      ],
      "metadata": {
        "colab": {
          "base_uri": "https://localhost:8080/"
        },
        "id": "GirZFn9TcXUQ",
        "outputId": "c5e7fddc-c111-48d6-ea9a-7875d2ad52ce"
      },
      "execution_count": 105,
      "outputs": [
        {
          "output_type": "execute_result",
          "data": {
            "text/plain": [
              "0"
            ]
          },
          "metadata": {},
          "execution_count": 105
        }
      ]
    },
    {
      "cell_type": "markdown",
      "source": [
        "**Elbow Plot**"
      ],
      "metadata": {
        "id": "41cHuaPcdAWa"
      }
    },
    {
      "cell_type": "code",
      "source": [
        "# Import sklearn modules\n",
        "from sklearn.preprocessing import MinMaxScaler\n",
        "from sklearn.model_selection import train_test_split\n",
        "from sklearn.cluster import KMeans\n",
        "from sklearn.pipeline import Pipeline\n",
        "\n",
        "# import yfinance as yf\n",
        "from datetime import datetime"
      ],
      "metadata": {
        "id": "6DvVRZGzcXW6"
      },
      "execution_count": 106,
      "outputs": []
    },
    {
      "cell_type": "code",
      "source": [
        "n_clusters = range(2, 30)\n",
        "inertia = []\n",
        "\n",
        "for n in n_clusters:\n",
        "    kmeans = KMeans(n_clusters=n)\n",
        "    kmeans.fit(features)\n",
        "    inertia.append(kmeans.inertia_)\n",
        "\n",
        "plt.plot(n_clusters, np.divide(inertia,inertia[0]))\n",
        "plt.hlines(0.1, n_clusters[0], n_clusters[-1], 'r', linestyles='dashed')\n",
        "plt.hlines(0.05, n_clusters[0], n_clusters[-1], 'r', linestyles='dashed')\n",
        "plt.xlabel('clusters')\n",
        "plt.ylabel('relative inertia')\n",
        "plt.legend(['inertia', '10% relative inertia', '5% relative inertia']);"
      ],
      "metadata": {
        "colab": {
          "base_uri": "https://localhost:8080/",
          "height": 279
        },
        "id": "bygR0Et6dJMj",
        "outputId": "e218692b-12eb-48b5-ee6c-7cd6423fa895"
      },
      "execution_count": 107,
      "outputs": [
        {
          "output_type": "display_data",
          "data": {
            "text/plain": [
              "<Figure size 432x288 with 1 Axes>"
            ],
            "image/png": "[encoded data removed]"
          },
          "metadata": {
            "needs_background": "light"
          }
        }
      ]
    },
    {
      "cell_type": "markdown",
      "source": [
        "We can deduce that we want to reduce our features to around 10, as thats where the line sits below the 5% relative inertia level. "
      ],
      "metadata": {
        "id": "-58LQVcBdz8P"
      }
    },
    {
      "cell_type": "code",
      "source": [
        "# Manipulate dataframe: drop and resample\n",
        "daily_stock = features.resample('M').last()\n",
        "daily_stock = daily_stock.T\n",
        "\n",
        "# Check output\n",
        "daily_stock.head()"
      ],
      "metadata": {
        "colab": {
          "base_uri": "https://localhost:8080/",
          "height": 334
        },
        "id": "qEBwzbsth_QY",
        "outputId": "155b366a-1f22-4457-9c82-849a50d0267f"
      },
      "execution_count": 110,
      "outputs": [
        {
          "output_type": "execute_result",
          "data": {
            "text/plain": [
              "Date       2007-05-31  2007-06-30  2007-07-31  2007-08-31  2007-09-30  \\\n",
              "Open         3.142857    2.867143    2.528571    2.478571    3.057143   \n",
              "High         3.182857    2.881429    2.528571    2.511429    3.085714   \n",
              "Low          3.124286    2.765714    2.442857    2.450000    2.950000   \n",
              "Close        3.128571    2.770000    2.461429    2.502857    2.964286   \n",
              "Adj Close    3.128571    2.770000    2.461429    2.502857    2.964286   \n",
              "\n",
              "Date       2007-10-31  2007-11-30  2007-12-31  2008-01-31  2008-02-29  ...  \\\n",
              "Open         3.782857    3.364286    3.850000    3.221429    4.547143  ...   \n",
              "High         3.787143    3.420000    3.897143    3.621429    4.571429  ...   \n",
              "Low          3.682857    3.224286    3.701429    3.158571    4.302857  ...   \n",
              "Close        3.781429    3.300000    3.802857    3.592857    4.511429  ...   \n",
              "Adj Close    3.781429    3.300000    3.802857    3.592857    4.511429  ...   \n",
              "\n",
              "Date       2021-03-31  2021-04-30  2021-05-31  2021-06-30  2021-07-31  \\\n",
              "Open       515.669983  505.000000  504.399994  534.059998  512.690002   \n",
              "High       528.130005  514.549988  511.760010  534.380005  519.789978   \n",
              "Low        515.440002  505.000000  502.529999  526.820007  510.959991   \n",
              "Close      521.659973  513.469971  502.809998  528.210022  517.570007   \n",
              "Adj Close  521.659973  513.469971  502.809998  528.210022  517.570007   \n",
              "\n",
              "Date       2021-08-31  2021-09-30  2021-10-31  2021-11-30  2021-12-31  \n",
              "Open       566.119995  608.049988  673.059998  668.200012  610.010010  \n",
              "High       569.479980  619.000000  690.969971  675.380005  614.080017  \n",
              "Low        561.609985  608.049988  671.239990  640.010010  602.049988  \n",
              "Close      569.190002  610.340027  690.309998  641.900024  602.440002  \n",
              "Adj Close  569.190002  610.340027  690.309998  641.900024  602.440002  \n",
              "\n",
              "[5 rows x 176 columns]"
            ],
            "text/html": [
              "\n",
              "  <div id=\"df-49a728e7-ecfa-45f9-8260-e01e5e612ec5\">\n",
              "    <div class=\"colab-df-container\">\n",
              "      <div>\n",
              "<style scoped>\n",
              "    .dataframe tbody tr th:only-of-type {\n",
              "        vertical-align: middle;\n",
              "    }\n",
              "\n",
              "    .dataframe tbody tr th {\n",
              "        vertical-align: top;\n",
              "    }\n",
              "\n",
              "    .dataframe thead th {\n",
              "        text-align: right;\n",
              "    }\n",
              "</style>\n",
              "<table border=\"1\" class=\"dataframe\">\n",
              "  <thead>\n",
              "    <tr style=\"text-align: right;\">\n",
              "      <th>Date</th>\n",
              "      <th>2007-05-31</th>\n",
              "      <th>2007-06-30</th>\n",
              "      <th>2007-07-31</th>\n",
              "      <th>2007-08-31</th>\n",
              "      <th>2007-09-30</th>\n",
              "      <th>2007-10-31</th>\n",
              "      <th>2007-11-30</th>\n",
              "      <th>2007-12-31</th>\n",
              "      <th>2008-01-31</th>\n",
              "      <th>2008-02-29</th>\n",
              "      <th>...</th>\n",
              "      <th>2021-03-31</th>\n",
              "      <th>2021-04-30</th>\n",
              "      <th>2021-05-31</th>\n",
              "      <th>2021-06-30</th>\n",
              "      <th>2021-07-31</th>\n",
              "      <th>2021-08-31</th>\n",
              "      <th>2021-09-30</th>\n",
              "      <th>2021-10-31</th>\n",
              "      <th>2021-11-30</th>\n",
              "      <th>2021-12-31</th>\n",
              "    </tr>\n",
              "  </thead>\n",
              "  <tbody>\n",
              "    <tr>\n",
              "      <th>Open</th>\n",
              "      <td>3.142857</td>\n",
              "      <td>2.867143</td>\n",
              "      <td>2.528571</td>\n",
              "      <td>2.478571</td>\n",
              "      <td>3.057143</td>\n",
              "      <td>3.782857</td>\n",
              "      <td>3.364286</td>\n",
              "      <td>3.850000</td>\n",
              "      <td>3.221429</td>\n",
              "      <td>4.547143</td>\n",
              "      <td>...</td>\n",
              "      <td>515.669983</td>\n",
              "      <td>505.000000</td>\n",
              "      <td>504.399994</td>\n",
              "      <td>534.059998</td>\n",
              "      <td>512.690002</td>\n",
              "      <td>566.119995</td>\n",
              "      <td>608.049988</td>\n",
              "      <td>673.059998</td>\n",
              "      <td>668.200012</td>\n",
              "      <td>610.010010</td>\n",
              "    </tr>\n",
              "    <tr>\n",
              "      <th>High</th>\n",
              "      <td>3.182857</td>\n",
              "      <td>2.881429</td>\n",
              "      <td>2.528571</td>\n",
              "      <td>2.511429</td>\n",
              "      <td>3.085714</td>\n",
              "      <td>3.787143</td>\n",
              "      <td>3.420000</td>\n",
              "      <td>3.897143</td>\n",
              "      <td>3.621429</td>\n",
              "      <td>4.571429</td>\n",
              "      <td>...</td>\n",
              "      <td>528.130005</td>\n",
              "      <td>514.549988</td>\n",
              "      <td>511.760010</td>\n",
              "      <td>534.380005</td>\n",
              "      <td>519.789978</td>\n",
              "      <td>569.479980</td>\n",
              "      <td>619.000000</td>\n",
              "      <td>690.969971</td>\n",
              "      <td>675.380005</td>\n",
              "      <td>614.080017</td>\n",
              "    </tr>\n",
              "    <tr>\n",
              "      <th>Low</th>\n",
              "      <td>3.124286</td>\n",
              "      <td>2.765714</td>\n",
              "      <td>2.442857</td>\n",
              "      <td>2.450000</td>\n",
              "      <td>2.950000</td>\n",
              "      <td>3.682857</td>\n",
              "      <td>3.224286</td>\n",
              "      <td>3.701429</td>\n",
              "      <td>3.158571</td>\n",
              "      <td>4.302857</td>\n",
              "      <td>...</td>\n",
              "      <td>515.440002</td>\n",
              "      <td>505.000000</td>\n",
              "      <td>502.529999</td>\n",
              "      <td>526.820007</td>\n",
              "      <td>510.959991</td>\n",
              "      <td>561.609985</td>\n",
              "      <td>608.049988</td>\n",
              "      <td>671.239990</td>\n",
              "      <td>640.010010</td>\n",
              "      <td>602.049988</td>\n",
              "    </tr>\n",
              "    <tr>\n",
              "      <th>Close</th>\n",
              "      <td>3.128571</td>\n",
              "      <td>2.770000</td>\n",
              "      <td>2.461429</td>\n",
              "      <td>2.502857</td>\n",
              "      <td>2.964286</td>\n",
              "      <td>3.781429</td>\n",
              "      <td>3.300000</td>\n",
              "      <td>3.802857</td>\n",
              "      <td>3.592857</td>\n",
              "      <td>4.511429</td>\n",
              "      <td>...</td>\n",
              "      <td>521.659973</td>\n",
              "      <td>513.469971</td>\n",
              "      <td>502.809998</td>\n",
              "      <td>528.210022</td>\n",
              "      <td>517.570007</td>\n",
              "      <td>569.190002</td>\n",
              "      <td>610.340027</td>\n",
              "      <td>690.309998</td>\n",
              "      <td>641.900024</td>\n",
              "      <td>602.440002</td>\n",
              "    </tr>\n",
              "    <tr>\n",
              "      <th>Adj Close</th>\n",
              "      <td>3.128571</td>\n",
              "      <td>2.770000</td>\n",
              "      <td>2.461429</td>\n",
              "      <td>2.502857</td>\n",
              "      <td>2.964286</td>\n",
              "      <td>3.781429</td>\n",
              "      <td>3.300000</td>\n",
              "      <td>3.802857</td>\n",
              "      <td>3.592857</td>\n",
              "      <td>4.511429</td>\n",
              "      <td>...</td>\n",
              "      <td>521.659973</td>\n",
              "      <td>513.469971</td>\n",
              "      <td>502.809998</td>\n",
              "      <td>528.210022</td>\n",
              "      <td>517.570007</td>\n",
              "      <td>569.190002</td>\n",
              "      <td>610.340027</td>\n",
              "      <td>690.309998</td>\n",
              "      <td>641.900024</td>\n",
              "      <td>602.440002</td>\n",
              "    </tr>\n",
              "  </tbody>\n",
              "</table>\n",
              "<p>5 rows × 176 columns</p>\n",
              "</div>\n",
              "      <button class=\"colab-df-convert\" onclick=\"convertToInteractive('df-49a728e7-ecfa-45f9-8260-e01e5e612ec5')\"\n",
              "              title=\"Convert this dataframe to an interactive table.\"\n",
              "              style=\"display:none;\">\n",
              "        \n",
              "  <svg xmlns=\"http://www.w3.org/2000/svg\" height=\"24px\"viewBox=\"0 0 24 24\"\n",
              "       width=\"24px\">\n",
              "    <path d=\"M0 0h24v24H0V0z\" fill=\"none\"/>\n",
              "    <path d=\"M18.56 5.44l.94 2.06.94-2.06 2.06-.94-2.06-.94-.94-2.06-.94 2.06-2.06.94zm-11 1L8.5 8.5l.94-2.06 2.06-.94-2.06-.94L8.5 2.5l-.94 2.06-2.06.94zm10 10l.94 2.06.94-2.06 2.06-.94-2.06-.94-.94-2.06-.94 2.06-2.06.94z\"/><path d=\"M17.41 7.96l-1.37-1.37c-.4-.4-.92-.59-1.43-.59-.52 0-1.04.2-1.43.59L10.3 9.45l-7.72 7.72c-.78.78-.78 2.05 0 2.83L4 21.41c.39.39.9.59 1.41.59.51 0 1.02-.2 1.41-.59l7.78-7.78 2.81-2.81c.8-.78.8-2.07 0-2.86zM5.41 20L4 18.59l7.72-7.72 1.47 1.35L5.41 20z\"/>\n",
              "  </svg>\n",
              "      </button>\n",
              "      \n",
              "  <style>\n",
              "    .colab-df-container {\n",
              "      display:flex;\n",
              "      flex-wrap:wrap;\n",
              "      gap: 12px;\n",
              "    }\n",
              "\n",
              "    .colab-df-convert {\n",
              "      background-color: #E8F0FE;\n",
              "      border: none;\n",
              "      border-radius: 50%;\n",
              "      cursor: pointer;\n",
              "      display: none;\n",
              "      fill: #1967D2;\n",
              "      height: 32px;\n",
              "      padding: 0 0 0 0;\n",
              "      width: 32px;\n",
              "    }\n",
              "\n",
              "    .colab-df-convert:hover {\n",
              "      background-color: #E2EBFA;\n",
              "      box-shadow: 0px 1px 2px rgba(60, 64, 67, 0.3), 0px 1px 3px 1px rgba(60, 64, 67, 0.15);\n",
              "      fill: #174EA6;\n",
              "    }\n",
              "\n",
              "    [theme=dark] .colab-df-convert {\n",
              "      background-color: #3B4455;\n",
              "      fill: #D2E3FC;\n",
              "    }\n",
              "\n",
              "    [theme=dark] .colab-df-convert:hover {\n",
              "      background-color: #434B5C;\n",
              "      box-shadow: 0px 1px 3px 1px rgba(0, 0, 0, 0.15);\n",
              "      filter: drop-shadow(0px 1px 2px rgba(0, 0, 0, 0.3));\n",
              "      fill: #FFFFFF;\n",
              "    }\n",
              "  </style>\n",
              "\n",
              "      <script>\n",
              "        const buttonEl =\n",
              "          document.querySelector('#df-49a728e7-ecfa-45f9-8260-e01e5e612ec5 button.colab-df-convert');\n",
              "        buttonEl.style.display =\n",
              "          google.colab.kernel.accessAllowed ? 'block' : 'none';\n",
              "\n",
              "        async function convertToInteractive(key) {\n",
              "          const element = document.querySelector('#df-49a728e7-ecfa-45f9-8260-e01e5e612ec5');\n",
              "          const dataTable =\n",
              "            await google.colab.kernel.invokeFunction('convertToInteractive',\n",
              "                                                     [key], {});\n",
              "          if (!dataTable) return;\n",
              "\n",
              "          const docLinkHtml = 'Like what you see? Visit the ' +\n",
              "            '<a target=\"_blank\" href=https://colab.research.google.com/notebooks/data_table.ipynb>data table notebook</a>'\n",
              "            + ' to learn more about interactive tables.';\n",
              "          element.innerHTML = '';\n",
              "          dataTable['output_type'] = 'display_data';\n",
              "          await google.colab.output.renderOutput(dataTable, element);\n",
              "          const docLink = document.createElement('div');\n",
              "          docLink.innerHTML = docLinkHtml;\n",
              "          element.appendChild(docLink);\n",
              "        }\n",
              "      </script>\n",
              "    </div>\n",
              "  </div>\n",
              "  "
            ]
          },
          "metadata": {},
          "execution_count": 110
        }
      ]
    },
    {
      "cell_type": "markdown",
      "source": [
        "**Build Clusters**"
      ],
      "metadata": {
        "id": "GOSWW85Od_JN"
      }
    },
    {
      "cell_type": "code",
      "source": [
        "# Normalize and fit the model\n",
        "pipe = Pipeline([(\"normalization\", MinMaxScaler()), (\"cluster\", KMeans(n_clusters=16))])"
      ],
      "metadata": {
        "id": "kFGSRCsTd_pv"
      },
      "execution_count": 111,
      "outputs": []
    },
    {
      "cell_type": "code",
      "source": [
        "# Fit Model\n",
        "pipe.fit(daily_stock)\n",
        "\n",
        "# Assign Label\n",
        "labels = pipe.predict(daily_stock)"
      ],
      "metadata": {
        "colab": {
          "base_uri": "https://localhost:8080/"
        },
        "id": "zOj9u9cTdJOx",
        "outputId": "528ad61d-7c1d-46e7-cefd-025296cddcb6"
      },
      "execution_count": 112,
      "outputs": [
        {
          "output_type": "stream",
          "name": "stderr",
          "text": [
            "/usr/local/lib/python3.7/dist-packages/sklearn/utils/validation.py:1692: FutureWarning: Feature names only support names that are all strings. Got feature names with dtypes: ['Timestamp']. An error will be raised in 1.2.\n",
            "  FutureWarning,\n",
            "/usr/local/lib/python3.7/dist-packages/sklearn/utils/validation.py:1692: FutureWarning: Feature names only support names that are all strings. Got feature names with dtypes: ['Timestamp']. An error will be raised in 1.2.\n",
            "  FutureWarning,\n",
            "/usr/local/lib/python3.7/dist-packages/sklearn/pipeline.py:394: ConvergenceWarning: Number of distinct clusters (15) found smaller than n_clusters (16). Possibly due to duplicate points in X.\n",
            "  self._final_estimator.fit(Xt, y, **fit_params_last_step)\n",
            "/usr/local/lib/python3.7/dist-packages/sklearn/utils/validation.py:1692: FutureWarning: Feature names only support names that are all strings. Got feature names with dtypes: ['Timestamp']. An error will be raised in 1.2.\n",
            "  FutureWarning,\n"
          ]
        }
      ]
    },
    {
      "cell_type": "code",
      "source": [
        "len(labels), len(indicators)"
      ],
      "metadata": {
        "colab": {
          "base_uri": "https://localhost:8080/"
        },
        "id": "MGVDQA92goGZ",
        "outputId": "af63fa7e-ff2e-479f-e2b0-3ac7784b12d4"
      },
      "execution_count": 118,
      "outputs": [
        {
          "output_type": "execute_result",
          "data": {
            "text/plain": [
              "(16, 16)"
            ]
          },
          "metadata": {},
          "execution_count": 118
        }
      ]
    },
    {
      "cell_type": "code",
      "source": [
        "labels"
      ],
      "metadata": {
        "colab": {
          "base_uri": "https://localhost:8080/"
        },
        "id": "hXFgwMbFuMLp",
        "outputId": "277d0b10-b7e9-417b-eb0d-3b976a64f5d9"
      },
      "execution_count": 115,
      "outputs": [
        {
          "output_type": "execute_result",
          "data": {
            "text/plain": [
              "array([ 2, 13, 14, 12, 12,  1, 11,  0,  4,  7,  9,  8,  3,  6, 10,  5],\n",
              "      dtype=int32)"
            ]
          },
          "metadata": {},
          "execution_count": 115
        }
      ]
    },
    {
      "cell_type": "code",
      "source": [
        "df2 = pd.DataFrame({ 'Clusters': labels, \n",
        "                      'Features': indicators}\n",
        "                      ).sort_values(by=['Clusters'], axis=0)\n",
        "\n",
        "cluster_df = df2.reset_index(drop=True)\n",
        "cluster_df"
      ],
      "metadata": {
        "colab": {
          "base_uri": "https://localhost:8080/",
          "height": 551
        },
        "id": "SQuCUCKYfPi5",
        "outputId": "0695a777-2dc4-49d2-8d6f-8d09213ec8a5"
      },
      "execution_count": 120,
      "outputs": [
        {
          "output_type": "execute_result",
          "data": {
            "text/plain": [
              "    Clusters     Features\n",
              "0          0          rsi\n",
              "1          1       Volume\n",
              "2          2         Open\n",
              "3          3          ATR\n",
              "4          4          CCI\n",
              "5          5         VWAP\n",
              "6          6  Momentum_20\n",
              "7          7           %K\n",
              "8          8          SMA\n",
              "9          9           %D\n",
              "10        10          EMA\n",
              "11        11       return\n",
              "12        12        Close\n",
              "13        12    Adj Close\n",
              "14        13         High\n",
              "15        14          Low"
            ],
            "text/html": [
              "\n",
              "  <div id=\"df-98773144-6152-4956-93c2-22de58cb051b\">\n",
              "    <div class=\"colab-df-container\">\n",
              "      <div>\n",
              "<style scoped>\n",
              "    .dataframe tbody tr th:only-of-type {\n",
              "        vertical-align: middle;\n",
              "    }\n",
              "\n",
              "    .dataframe tbody tr th {\n",
              "        vertical-align: top;\n",
              "    }\n",
              "\n",
              "    .dataframe thead th {\n",
              "        text-align: right;\n",
              "    }\n",
              "</style>\n",
              "<table border=\"1\" class=\"dataframe\">\n",
              "  <thead>\n",
              "    <tr style=\"text-align: right;\">\n",
              "      <th></th>\n",
              "      <th>Clusters</th>\n",
              "      <th>Features</th>\n",
              "    </tr>\n",
              "  </thead>\n",
              "  <tbody>\n",
              "    <tr>\n",
              "      <th>0</th>\n",
              "      <td>0</td>\n",
              "      <td>rsi</td>\n",
              "    </tr>\n",
              "    <tr>\n",
              "      <th>1</th>\n",
              "      <td>1</td>\n",
              "      <td>Volume</td>\n",
              "    </tr>\n",
              "    <tr>\n",
              "      <th>2</th>\n",
              "      <td>2</td>\n",
              "      <td>Open</td>\n",
              "    </tr>\n",
              "    <tr>\n",
              "      <th>3</th>\n",
              "      <td>3</td>\n",
              "      <td>ATR</td>\n",
              "    </tr>\n",
              "    <tr>\n",
              "      <th>4</th>\n",
              "      <td>4</td>\n",
              "      <td>CCI</td>\n",
              "    </tr>\n",
              "    <tr>\n",
              "      <th>5</th>\n",
              "      <td>5</td>\n",
              "      <td>VWAP</td>\n",
              "    </tr>\n",
              "    <tr>\n",
              "      <th>6</th>\n",
              "      <td>6</td>\n",
              "      <td>Momentum_20</td>\n",
              "    </tr>\n",
              "    <tr>\n",
              "      <th>7</th>\n",
              "      <td>7</td>\n",
              "      <td>%K</td>\n",
              "    </tr>\n",
              "    <tr>\n",
              "      <th>8</th>\n",
              "      <td>8</td>\n",
              "      <td>SMA</td>\n",
              "    </tr>\n",
              "    <tr>\n",
              "      <th>9</th>\n",
              "      <td>9</td>\n",
              "      <td>%D</td>\n",
              "    </tr>\n",
              "    <tr>\n",
              "      <th>10</th>\n",
              "      <td>10</td>\n",
              "      <td>EMA</td>\n",
              "    </tr>\n",
              "    <tr>\n",
              "      <th>11</th>\n",
              "      <td>11</td>\n",
              "      <td>return</td>\n",
              "    </tr>\n",
              "    <tr>\n",
              "      <th>12</th>\n",
              "      <td>12</td>\n",
              "      <td>Close</td>\n",
              "    </tr>\n",
              "    <tr>\n",
              "      <th>13</th>\n",
              "      <td>12</td>\n",
              "      <td>Adj Close</td>\n",
              "    </tr>\n",
              "    <tr>\n",
              "      <th>14</th>\n",
              "      <td>13</td>\n",
              "      <td>High</td>\n",
              "    </tr>\n",
              "    <tr>\n",
              "      <th>15</th>\n",
              "      <td>14</td>\n",
              "      <td>Low</td>\n",
              "    </tr>\n",
              "  </tbody>\n",
              "</table>\n",
              "</div>\n",
              "      <button class=\"colab-df-convert\" onclick=\"convertToInteractive('df-98773144-6152-4956-93c2-22de58cb051b')\"\n",
              "              title=\"Convert this dataframe to an interactive table.\"\n",
              "              style=\"display:none;\">\n",
              "        \n",
              "  <svg xmlns=\"http://www.w3.org/2000/svg\" height=\"24px\"viewBox=\"0 0 24 24\"\n",
              "       width=\"24px\">\n",
              "    <path d=\"M0 0h24v24H0V0z\" fill=\"none\"/>\n",
              "    <path d=\"M18.56 5.44l.94 2.06.94-2.06 2.06-.94-2.06-.94-.94-2.06-.94 2.06-2.06.94zm-11 1L8.5 8.5l.94-2.06 2.06-.94-2.06-.94L8.5 2.5l-.94 2.06-2.06.94zm10 10l.94 2.06.94-2.06 2.06-.94-2.06-.94-.94-2.06-.94 2.06-2.06.94z\"/><path d=\"M17.41 7.96l-1.37-1.37c-.4-.4-.92-.59-1.43-.59-.52 0-1.04.2-1.43.59L10.3 9.45l-7.72 7.72c-.78.78-.78 2.05 0 2.83L4 21.41c.39.39.9.59 1.41.59.51 0 1.02-.2 1.41-.59l7.78-7.78 2.81-2.81c.8-.78.8-2.07 0-2.86zM5.41 20L4 18.59l7.72-7.72 1.47 1.35L5.41 20z\"/>\n",
              "  </svg>\n",
              "      </button>\n",
              "      \n",
              "  <style>\n",
              "    .colab-df-container {\n",
              "      display:flex;\n",
              "      flex-wrap:wrap;\n",
              "      gap: 12px;\n",
              "    }\n",
              "\n",
              "    .colab-df-convert {\n",
              "      background-color: #E8F0FE;\n",
              "      border: none;\n",
              "      border-radius: 50%;\n",
              "      cursor: pointer;\n",
              "      display: none;\n",
              "      fill: #1967D2;\n",
              "      height: 32px;\n",
              "      padding: 0 0 0 0;\n",
              "      width: 32px;\n",
              "    }\n",
              "\n",
              "    .colab-df-convert:hover {\n",
              "      background-color: #E2EBFA;\n",
              "      box-shadow: 0px 1px 2px rgba(60, 64, 67, 0.3), 0px 1px 3px 1px rgba(60, 64, 67, 0.15);\n",
              "      fill: #174EA6;\n",
              "    }\n",
              "\n",
              "    [theme=dark] .colab-df-convert {\n",
              "      background-color: #3B4455;\n",
              "      fill: #D2E3FC;\n",
              "    }\n",
              "\n",
              "    [theme=dark] .colab-df-convert:hover {\n",
              "      background-color: #434B5C;\n",
              "      box-shadow: 0px 1px 3px 1px rgba(0, 0, 0, 0.15);\n",
              "      filter: drop-shadow(0px 1px 2px rgba(0, 0, 0, 0.3));\n",
              "      fill: #FFFFFF;\n",
              "    }\n",
              "  </style>\n",
              "\n",
              "      <script>\n",
              "        const buttonEl =\n",
              "          document.querySelector('#df-98773144-6152-4956-93c2-22de58cb051b button.colab-df-convert');\n",
              "        buttonEl.style.display =\n",
              "          google.colab.kernel.accessAllowed ? 'block' : 'none';\n",
              "\n",
              "        async function convertToInteractive(key) {\n",
              "          const element = document.querySelector('#df-98773144-6152-4956-93c2-22de58cb051b');\n",
              "          const dataTable =\n",
              "            await google.colab.kernel.invokeFunction('convertToInteractive',\n",
              "                                                     [key], {});\n",
              "          if (!dataTable) return;\n",
              "\n",
              "          const docLinkHtml = 'Like what you see? Visit the ' +\n",
              "            '<a target=\"_blank\" href=https://colab.research.google.com/notebooks/data_table.ipynb>data table notebook</a>'\n",
              "            + ' to learn more about interactive tables.';\n",
              "          element.innerHTML = '';\n",
              "          dataTable['output_type'] = 'display_data';\n",
              "          await google.colab.output.renderOutput(dataTable, element);\n",
              "          const docLink = document.createElement('div');\n",
              "          docLink.innerHTML = docLinkHtml;\n",
              "          element.appendChild(docLink);\n",
              "        }\n",
              "      </script>\n",
              "    </div>\n",
              "  </div>\n",
              "  "
            ]
          },
          "metadata": {},
          "execution_count": 120
        }
      ]
    },
    {
      "cell_type": "code",
      "source": [
        "plt.figure(figsize=(20,10))\n",
        "plt.scatter(cluster_df.Features, cluster_df.Clusters)\n",
        "plt.xlabel('Features')\n",
        "plt.ylabel('Cluster')\n",
        "plt.title('Netflix Stock Clustering');"
      ],
      "metadata": {
        "colab": {
          "base_uri": "https://localhost:8080/",
          "height": 622
        },
        "id": "CjiCmmG6u6lU",
        "outputId": "2ea1efec-455f-4097-be2b-5ccc6cde123b"
      },
      "execution_count": 122,
      "outputs": [
        {
          "output_type": "display_data",
          "data": {
            "text/plain": [
              "<Figure size 1440x720 with 1 Axes>"
            ],
            "image/png": "[encoded data removed]"
          },
          "metadata": {
            "needs_background": "light"
          }
        }
      ]
    },
    {
      "cell_type": "code",
      "source": [
        "pipe.get_params()"
      ],
      "metadata": {
        "colab": {
          "base_uri": "https://localhost:8080/"
        },
        "id": "vBhF17SYvLIv",
        "outputId": "9ee16b14-f220-418e-a404-dc93a3ed3b33"
      },
      "execution_count": 123,
      "outputs": [
        {
          "output_type": "execute_result",
          "data": {
            "text/plain": [
              "{'cluster': KMeans(n_clusters=16),\n",
              " 'cluster__algorithm': 'auto',\n",
              " 'cluster__copy_x': True,\n",
              " 'cluster__init': 'k-means++',\n",
              " 'cluster__max_iter': 300,\n",
              " 'cluster__n_clusters': 16,\n",
              " 'cluster__n_init': 10,\n",
              " 'cluster__random_state': None,\n",
              " 'cluster__tol': 0.0001,\n",
              " 'cluster__verbose': 0,\n",
              " 'memory': None,\n",
              " 'normalization': MinMaxScaler(),\n",
              " 'normalization__clip': False,\n",
              " 'normalization__copy': True,\n",
              " 'normalization__feature_range': (0, 1),\n",
              " 'steps': [('normalization', MinMaxScaler()),\n",
              "  ('cluster', KMeans(n_clusters=16))],\n",
              " 'verbose': False}"
            ]
          },
          "metadata": {},
          "execution_count": 123
        }
      ]
    },
    {
      "cell_type": "code",
      "source": [
        "pipe['cluster'].cluster_centers_"
      ],
      "metadata": {
        "colab": {
          "base_uri": "https://localhost:8080/"
        },
        "id": "-e48OXIuxoqj",
        "outputId": "0cc6a1e0-1501-4564-befc-d280ffa50ddf"
      },
      "execution_count": 124,
      "outputs": [
        {
          "output_type": "execute_result",
          "data": {
            "text/plain": [
              "array([[9.72528020e-06, 8.42411014e-06, 9.47112288e-06, ...,\n",
              "        1.92763908e-05, 2.41907335e-05, 2.77560332e-05],\n",
              "       [1.00000000e+00, 1.00000000e+00, 1.00000000e+00, ...,\n",
              "        1.00000000e+00, 1.00000000e+00, 1.00000000e+00],\n",
              "       [3.90962151e-06, 5.33485122e-06, 5.91308570e-06, ...,\n",
              "        1.75943368e-04, 1.35672918e-04, 3.12658746e-04],\n",
              "       ...,\n",
              "       [3.91531301e-06, 5.33603343e-06, 5.91308570e-06, ...,\n",
              "        1.80625347e-04, 1.36953004e-04, 3.14697916e-04],\n",
              "       [3.90697907e-06, 5.32645767e-06, 5.90420753e-06, ...,\n",
              "        1.75467586e-04, 1.30647060e-04, 3.08670587e-04],\n",
              "       [6.25042027e-02, 6.25049873e-02, 6.25057436e-02, ...,\n",
              "        6.25859012e-02, 6.25671187e-02, 6.26480276e-02]])"
            ]
          },
          "metadata": {},
          "execution_count": 124
        }
      ]
    },
    {
      "cell_type": "code",
      "source": [
        "pipe['cluster'].cluster_centers_.shape"
      ],
      "metadata": {
        "colab": {
          "base_uri": "https://localhost:8080/"
        },
        "id": "QoXyMlnuxosn",
        "outputId": "cf02a1f0-7d70-49cb-e771-7868219315e5"
      },
      "execution_count": 125,
      "outputs": [
        {
          "output_type": "execute_result",
          "data": {
            "text/plain": [
              "(16, 176)"
            ]
          },
          "metadata": {},
          "execution_count": 125
        }
      ]
    },
    {
      "cell_type": "code",
      "source": [
        "#Save locally to be used in SOM\n",
        "cluster_df.to_csv('data/cluster.csv')"
      ],
      "metadata": {
        "id": "6YW4Z8yM6xAx"
      },
      "execution_count": 196,
      "outputs": []
    },
    {
      "cell_type": "markdown",
      "source": [
        "Checking Class Imbalance "
      ],
      "metadata": {
        "id": "ITvRpEgxe5VV"
      }
    },
    {
      "cell_type": "code",
      "source": [
        "class_ratio(df)"
      ],
      "metadata": {
        "colab": {
          "base_uri": "https://localhost:8080/"
        },
        "id": "t69BnUhoes3_",
        "outputId": "25cae1fb-6037-48e5-826e-72ad8d21ebf3"
      },
      "execution_count": null,
      "outputs": [
        {
          "output_type": "execute_result",
          "data": {
            "text/plain": [
              "target\n",
              "0         1939\n",
              "1         1838\n",
              "dtype: int64"
            ]
          },
          "metadata": {},
          "execution_count": 23
        }
      ]
    },
    {
      "cell_type": "markdown",
      "source": [
        "There is about 100 more class 0 samples, however because there are almost somewhat equal, and not heavily imbalanced, I will not aim to do oversampling/undersampling. "
      ],
      "metadata": {
        "id": "yuiAc8jF9UWI"
      }
    },
    {
      "cell_type": "markdown",
      "source": [
        "# **Feature Selection**"
      ],
      "metadata": {
        "id": "Fre4jiOw9qeb"
      }
    },
    {
      "cell_type": "markdown",
      "source": [
        "This section we will be doing feature selection and see what features are most effecitve for our model. This part of the code will also contain, feature engineering and transfomation. "
      ],
      "metadata": {
        "id": "yfx3IgPQ9wZY"
      }
    },
    {
      "cell_type": "code",
      "source": [
        "# Split the data from 2015\n",
        "df_train = features[features.index <= datetime(2014,1,1)]\n",
        "df_test  = features[features.index > datetime(2015,1,1)]"
      ],
      "metadata": {
        "id": "Yb9WI0MO9wfC"
      },
      "execution_count": 169,
      "outputs": []
    },
    {
      "cell_type": "code",
      "source": [
        "# Define train and test with two features\n",
        "X_train = df_train[['Close','ATR']]\n",
        "X_test = df_test[['Close','ATR']]"
      ],
      "metadata": {
        "id": "FRoJhzMAyldR"
      },
      "execution_count": 170,
      "outputs": []
    },
    {
      "cell_type": "markdown",
      "source": [
        "K - Means Cluster Algo \n",
        "\n",
        "- Here we are trying to find the optimal number of features needed for the model as the number of features (clusters) is a hyperparameter. \n"
      ],
      "metadata": {
        "id": "Z6eWFTqfetNA"
      }
    },
    {
      "cell_type": "code",
      "source": [
        "# Training with 8 clusters\n",
        "kmeans = KMeans(n_clusters=8).fit(X_train)\n",
        "df_train['Target']  = kmeans.predict(X_train)"
      ],
      "metadata": {
        "id": "XzM6azfgABSf",
        "colab": {
          "base_uri": "https://localhost:8080/"
        },
        "outputId": "e6b83cf6-0fde-43fd-d174-24a91b2711ee"
      },
      "execution_count": 171,
      "outputs": [
        {
          "output_type": "stream",
          "name": "stderr",
          "text": [
            "/usr/local/lib/python3.7/dist-packages/ipykernel_launcher.py:3: SettingWithCopyWarning: \n",
            "A value is trying to be set on a copy of a slice from a DataFrame.\n",
            "Try using .loc[row_indexer,col_indexer] = value instead\n",
            "\n",
            "See the caveats in the documentation: https://pandas.pydata.org/pandas-docs/stable/user_guide/indexing.html#returning-a-view-versus-a-copy\n",
            "  This is separate from the ipykernel package so we can avoid doing imports until\n"
          ]
        }
      ]
    },
    {
      "cell_type": "code",
      "source": [
        "# Train plot\n",
        "centers = kmeans.cluster_centers_\n",
        "plt.scatter(X_train['Close'], X_train['ATR']),\n",
        "plt.scatter(centers[:,0], centers[:,1], c='red', s=100, marker='x')\n",
        "plt.xlabel('Close')\n",
        "plt.ylabel('ATR')\n",
        "plt.title('Cluster Analysis on Training Data')\n",
        "plt.show()"
      ],
      "metadata": {
        "id": "2hoAnIjPABU4",
        "colab": {
          "base_uri": "https://localhost:8080/",
          "height": 295
        },
        "outputId": "479613af-34cc-4af2-9e64-72d8cfa12520"
      },
      "execution_count": 174,
      "outputs": [
        {
          "output_type": "display_data",
          "data": {
            "text/plain": [
              "<Figure size 432x288 with 1 Axes>"
            ],
            "image/png": "[encoded data removed]"
          },
          "metadata": {
            "needs_background": "light"
          }
        }
      ]
    },
    {
      "cell_type": "markdown",
      "source": [
        "\n",
        "  **Testing**"
      ],
      "metadata": {
        "id": "4vKOFAqZz3BQ"
      }
    },
    {
      "cell_type": "code",
      "source": [
        "df_test['Target']  = kmeans.predict(X_test)"
      ],
      "metadata": {
        "id": "Q24EkqPdABXb",
        "colab": {
          "base_uri": "https://localhost:8080/"
        },
        "outputId": "970fecc1-5c25-4bc9-951b-99bd39a78717"
      },
      "execution_count": 175,
      "outputs": [
        {
          "output_type": "stream",
          "name": "stderr",
          "text": [
            "/usr/local/lib/python3.7/dist-packages/ipykernel_launcher.py:1: SettingWithCopyWarning: \n",
            "A value is trying to be set on a copy of a slice from a DataFrame.\n",
            "Try using .loc[row_indexer,col_indexer] = value instead\n",
            "\n",
            "See the caveats in the documentation: https://pandas.pydata.org/pandas-docs/stable/user_guide/indexing.html#returning-a-view-versus-a-copy\n",
            "  \"\"\"Entry point for launching an IPython kernel.\n"
          ]
        }
      ]
    },
    {
      "cell_type": "code",
      "source": [
        "# Test plot\n",
        "centers = kmeans.cluster_centers_\n",
        "plt.scatter(X_test['Close'], X_test['ATR'], c=df_test['Target'])\n",
        "plt.scatter(centers[:,0],centers[:,1], c='red', s=100, marker='x')\n",
        "plt.xlabel('Close')\n",
        "plt.ylabel('ATR')\n",
        "plt.title('Cluster Analysis on Test Data')\n",
        "plt.show()"
      ],
      "metadata": {
        "id": "J9vWU10eABZo",
        "colab": {
          "base_uri": "https://localhost:8080/",
          "height": 295
        },
        "outputId": "e10452ea-7c1b-48e9-ad19-9e1727ffa5bd"
      },
      "execution_count": 178,
      "outputs": [
        {
          "output_type": "display_data",
          "data": {
            "text/plain": [
              "<Figure size 432x288 with 1 Axes>"
            ],
            "image/png": "[encoded data removed]"
          },
          "metadata": {
            "needs_background": "light"
          }
        }
      ]
    },
    {
      "cell_type": "code",
      "source": [
        "features"
      ],
      "metadata": {
        "colab": {
          "base_uri": "https://localhost:8080/",
          "height": 455
        },
        "id": "vY19XGQ60fMX",
        "outputId": "c7a48b6c-9262-421f-d91d-5ad2fe6b3667"
      },
      "execution_count": 179,
      "outputs": [
        {
          "output_type": "execute_result",
          "data": {
            "text/plain": [
              "                  Open        High         Low       Close   Adj Close  \\\n",
              "Date                                                                     \n",
              "2007-05-15    3.134286    3.148571    3.088571    3.107143    3.107143   \n",
              "2007-05-16    3.108571    3.141429    3.031429    3.102857    3.102857   \n",
              "2007-05-17    3.081429    3.140000    3.074286    3.117143    3.117143   \n",
              "2007-05-18    3.121429    3.144286    3.101429    3.134286    3.134286   \n",
              "2007-05-21    3.130000    3.234286    3.122857    3.214286    3.214286   \n",
              "...                ...         ...         ...         ...         ...   \n",
              "2021-12-27  615.000000  615.000000  609.250000  613.119995  613.119995   \n",
              "2021-12-28  614.950012  618.409973  609.690002  610.710022  610.710022   \n",
              "2021-12-29  610.710022  613.979980  604.679993  610.539978  610.539978   \n",
              "2021-12-30  612.989990  620.609985  611.239990  612.090027  612.090027   \n",
              "2021-12-31  610.010010  614.080017  602.049988  602.440002  602.440002   \n",
              "\n",
              "             Volume    return        rsi         CCI         %K         %D  \\\n",
              "Date                                                                         \n",
              "2007-05-15  4726400 -0.009609  39.401832 -149.461529  17.360954  32.948057   \n",
              "2007-05-16  5036500 -0.001380  38.998516 -180.612349  29.069599  27.869984   \n",
              "2007-05-17  5142200  0.004594  41.160506 -101.827758  34.883597  27.104717   \n",
              "2007-05-18  4446400  0.005485  43.737421  -51.447906  41.860413  35.271203   \n",
              "2007-05-21  6663300  0.025204  53.886902   95.227308  74.418663  50.387558   \n",
              "...             ...       ...        ...         ...        ...        ...   \n",
              "2021-12-27  2061500 -0.001581  46.207667   39.987688  61.869056  63.242627   \n",
              "2021-12-28  1882800 -0.003938  45.155476   50.956376  57.117535  60.922723   \n",
              "2021-12-29  1287200 -0.000278  45.077480   42.507785  59.381418  59.456003   \n",
              "2021-12-30  1625100  0.002536  45.993237   86.588681  78.080886  64.859946   \n",
              "2021-12-31  1995900 -0.015891  41.368688   19.079345  53.254476  63.572260   \n",
              "\n",
              "                   SMA        ATR  Momentum_20         EMA       VWAP  Target  \n",
              "Date                                                                           \n",
              "2007-05-15    3.255143   0.069694    -0.315714    3.107143   3.118571       0  \n",
              "2007-05-16    3.245333   0.069796     0.002857    3.104847   3.101990       0  \n",
              "2007-05-17    3.232429   0.070918     0.044286    3.109544   3.103767       0  \n",
              "2007-05-18    3.221667   0.070918    -0.022857    3.117113   3.108154       0  \n",
              "2007-05-21    3.212905   0.074082     0.110000    3.142466   3.126190       0  \n",
              "...                ...        ...          ...         ...        ...     ...  \n",
              "2021-12-27  633.188334  13.797141   -52.520020  611.112988  76.968868       0  \n",
              "2021-12-28  630.791669  13.170711   -53.130005  611.059259  76.984453       0  \n",
              "2021-12-29  628.498667  13.173567   -31.360046  610.990022  76.995014       0  \n",
              "2021-12-30  625.988334  12.478568    -5.679993  611.136689  77.008512       0  \n",
              "2021-12-31  623.013334  12.490714   -14.029968  609.977131  77.024847       0  \n",
              "\n",
              "[3686 rows x 17 columns]"
            ],
            "text/html": [
              "\n",
              "  <div id=\"df-34869cd8-198a-4823-a52c-c353dd96a960\">\n",
              "    <div class=\"colab-df-container\">\n",
              "      <div>\n",
              "<style scoped>\n",
              "    .dataframe tbody tr th:only-of-type {\n",
              "        vertical-align: middle;\n",
              "    }\n",
              "\n",
              "    .dataframe tbody tr th {\n",
              "        vertical-align: top;\n",
              "    }\n",
              "\n",
              "    .dataframe thead th {\n",
              "        text-align: right;\n",
              "    }\n",
              "</style>\n",
              "<table border=\"1\" class=\"dataframe\">\n",
              "  <thead>\n",
              "    <tr style=\"text-align: right;\">\n",
              "      <th></th>\n",
              "      <th>Open</th>\n",
              "      <th>High</th>\n",
              "      <th>Low</th>\n",
              "      <th>Close</th>\n",
              "      <th>Adj Close</th>\n",
              "      <th>Volume</th>\n",
              "      <th>return</th>\n",
              "      <th>rsi</th>\n",
              "      <th>CCI</th>\n",
              "      <th>%K</th>\n",
              "      <th>%D</th>\n",
              "      <th>SMA</th>\n",
              "      <th>ATR</th>\n",
              "      <th>Momentum_20</th>\n",
              "      <th>EMA</th>\n",
              "      <th>VWAP</th>\n",
              "      <th>Target</th>\n",
              "    </tr>\n",
              "    <tr>\n",
              "      <th>Date</th>\n",
              "      <th></th>\n",
              "      <th></th>\n",
              "      <th></th>\n",
              "      <th></th>\n",
              "      <th></th>\n",
              "      <th></th>\n",
              "      <th></th>\n",
              "      <th></th>\n",
              "      <th></th>\n",
              "      <th></th>\n",
              "      <th></th>\n",
              "      <th></th>\n",
              "      <th></th>\n",
              "      <th></th>\n",
              "      <th></th>\n",
              "      <th></th>\n",
              "      <th></th>\n",
              "    </tr>\n",
              "  </thead>\n",
              "  <tbody>\n",
              "    <tr>\n",
              "      <th>2007-05-15</th>\n",
              "      <td>3.134286</td>\n",
              "      <td>3.148571</td>\n",
              "      <td>3.088571</td>\n",
              "      <td>3.107143</td>\n",
              "      <td>3.107143</td>\n",
              "      <td>4726400</td>\n",
              "      <td>-0.009609</td>\n",
              "      <td>39.401832</td>\n",
              "      <td>-149.461529</td>\n",
              "      <td>17.360954</td>\n",
              "      <td>32.948057</td>\n",
              "      <td>3.255143</td>\n",
              "      <td>0.069694</td>\n",
              "      <td>-0.315714</td>\n",
              "      <td>3.107143</td>\n",
              "      <td>3.118571</td>\n",
              "      <td>0</td>\n",
              "    </tr>\n",
              "    <tr>\n",
              "      <th>2007-05-16</th>\n",
              "      <td>3.108571</td>\n",
              "      <td>3.141429</td>\n",
              "      <td>3.031429</td>\n",
              "      <td>3.102857</td>\n",
              "      <td>3.102857</td>\n",
              "      <td>5036500</td>\n",
              "      <td>-0.001380</td>\n",
              "      <td>38.998516</td>\n",
              "      <td>-180.612349</td>\n",
              "      <td>29.069599</td>\n",
              "      <td>27.869984</td>\n",
              "      <td>3.245333</td>\n",
              "      <td>0.069796</td>\n",
              "      <td>0.002857</td>\n",
              "      <td>3.104847</td>\n",
              "      <td>3.101990</td>\n",
              "      <td>0</td>\n",
              "    </tr>\n",
              "    <tr>\n",
              "      <th>2007-05-17</th>\n",
              "      <td>3.081429</td>\n",
              "      <td>3.140000</td>\n",
              "      <td>3.074286</td>\n",
              "      <td>3.117143</td>\n",
              "      <td>3.117143</td>\n",
              "      <td>5142200</td>\n",
              "      <td>0.004594</td>\n",
              "      <td>41.160506</td>\n",
              "      <td>-101.827758</td>\n",
              "      <td>34.883597</td>\n",
              "      <td>27.104717</td>\n",
              "      <td>3.232429</td>\n",
              "      <td>0.070918</td>\n",
              "      <td>0.044286</td>\n",
              "      <td>3.109544</td>\n",
              "      <td>3.103767</td>\n",
              "      <td>0</td>\n",
              "    </tr>\n",
              "    <tr>\n",
              "      <th>2007-05-18</th>\n",
              "      <td>3.121429</td>\n",
              "      <td>3.144286</td>\n",
              "      <td>3.101429</td>\n",
              "      <td>3.134286</td>\n",
              "      <td>3.134286</td>\n",
              "      <td>4446400</td>\n",
              "      <td>0.005485</td>\n",
              "      <td>43.737421</td>\n",
              "      <td>-51.447906</td>\n",
              "      <td>41.860413</td>\n",
              "      <td>35.271203</td>\n",
              "      <td>3.221667</td>\n",
              "      <td>0.070918</td>\n",
              "      <td>-0.022857</td>\n",
              "      <td>3.117113</td>\n",
              "      <td>3.108154</td>\n",
              "      <td>0</td>\n",
              "    </tr>\n",
              "    <tr>\n",
              "      <th>2007-05-21</th>\n",
              "      <td>3.130000</td>\n",
              "      <td>3.234286</td>\n",
              "      <td>3.122857</td>\n",
              "      <td>3.214286</td>\n",
              "      <td>3.214286</td>\n",
              "      <td>6663300</td>\n",
              "      <td>0.025204</td>\n",
              "      <td>53.886902</td>\n",
              "      <td>95.227308</td>\n",
              "      <td>74.418663</td>\n",
              "      <td>50.387558</td>\n",
              "      <td>3.212905</td>\n",
              "      <td>0.074082</td>\n",
              "      <td>0.110000</td>\n",
              "      <td>3.142466</td>\n",
              "      <td>3.126190</td>\n",
              "      <td>0</td>\n",
              "    </tr>\n",
              "    <tr>\n",
              "      <th>...</th>\n",
              "      <td>...</td>\n",
              "      <td>...</td>\n",
              "      <td>...</td>\n",
              "      <td>...</td>\n",
              "      <td>...</td>\n",
              "      <td>...</td>\n",
              "      <td>...</td>\n",
              "      <td>...</td>\n",
              "      <td>...</td>\n",
              "      <td>...</td>\n",
              "      <td>...</td>\n",
              "      <td>...</td>\n",
              "      <td>...</td>\n",
              "      <td>...</td>\n",
              "      <td>...</td>\n",
              "      <td>...</td>\n",
              "      <td>...</td>\n",
              "    </tr>\n",
              "    <tr>\n",
              "      <th>2021-12-27</th>\n",
              "      <td>615.000000</td>\n",
              "      <td>615.000000</td>\n",
              "      <td>609.250000</td>\n",
              "      <td>613.119995</td>\n",
              "      <td>613.119995</td>\n",
              "      <td>2061500</td>\n",
              "      <td>-0.001581</td>\n",
              "      <td>46.207667</td>\n",
              "      <td>39.987688</td>\n",
              "      <td>61.869056</td>\n",
              "      <td>63.242627</td>\n",
              "      <td>633.188334</td>\n",
              "      <td>13.797141</td>\n",
              "      <td>-52.520020</td>\n",
              "      <td>611.112988</td>\n",
              "      <td>76.968868</td>\n",
              "      <td>0</td>\n",
              "    </tr>\n",
              "    <tr>\n",
              "      <th>2021-12-28</th>\n",
              "      <td>614.950012</td>\n",
              "      <td>618.409973</td>\n",
              "      <td>609.690002</td>\n",
              "      <td>610.710022</td>\n",
              "      <td>610.710022</td>\n",
              "      <td>1882800</td>\n",
              "      <td>-0.003938</td>\n",
              "      <td>45.155476</td>\n",
              "      <td>50.956376</td>\n",
              "      <td>57.117535</td>\n",
              "      <td>60.922723</td>\n",
              "      <td>630.791669</td>\n",
              "      <td>13.170711</td>\n",
              "      <td>-53.130005</td>\n",
              "      <td>611.059259</td>\n",
              "      <td>76.984453</td>\n",
              "      <td>0</td>\n",
              "    </tr>\n",
              "    <tr>\n",
              "      <th>2021-12-29</th>\n",
              "      <td>610.710022</td>\n",
              "      <td>613.979980</td>\n",
              "      <td>604.679993</td>\n",
              "      <td>610.539978</td>\n",
              "      <td>610.539978</td>\n",
              "      <td>1287200</td>\n",
              "      <td>-0.000278</td>\n",
              "      <td>45.077480</td>\n",
              "      <td>42.507785</td>\n",
              "      <td>59.381418</td>\n",
              "      <td>59.456003</td>\n",
              "      <td>628.498667</td>\n",
              "      <td>13.173567</td>\n",
              "      <td>-31.360046</td>\n",
              "      <td>610.990022</td>\n",
              "      <td>76.995014</td>\n",
              "      <td>0</td>\n",
              "    </tr>\n",
              "    <tr>\n",
              "      <th>2021-12-30</th>\n",
              "      <td>612.989990</td>\n",
              "      <td>620.609985</td>\n",
              "      <td>611.239990</td>\n",
              "      <td>612.090027</td>\n",
              "      <td>612.090027</td>\n",
              "      <td>1625100</td>\n",
              "      <td>0.002536</td>\n",
              "      <td>45.993237</td>\n",
              "      <td>86.588681</td>\n",
              "      <td>78.080886</td>\n",
              "      <td>64.859946</td>\n",
              "      <td>625.988334</td>\n",
              "      <td>12.478568</td>\n",
              "      <td>-5.679993</td>\n",
              "      <td>611.136689</td>\n",
              "      <td>77.008512</td>\n",
              "      <td>0</td>\n",
              "    </tr>\n",
              "    <tr>\n",
              "      <th>2021-12-31</th>\n",
              "      <td>610.010010</td>\n",
              "      <td>614.080017</td>\n",
              "      <td>602.049988</td>\n",
              "      <td>602.440002</td>\n",
              "      <td>602.440002</td>\n",
              "      <td>1995900</td>\n",
              "      <td>-0.015891</td>\n",
              "      <td>41.368688</td>\n",
              "      <td>19.079345</td>\n",
              "      <td>53.254476</td>\n",
              "      <td>63.572260</td>\n",
              "      <td>623.013334</td>\n",
              "      <td>12.490714</td>\n",
              "      <td>-14.029968</td>\n",
              "      <td>609.977131</td>\n",
              "      <td>77.024847</td>\n",
              "      <td>0</td>\n",
              "    </tr>\n",
              "  </tbody>\n",
              "</table>\n",
              "<p>3686 rows × 17 columns</p>\n",
              "</div>\n",
              "      <button class=\"colab-df-convert\" onclick=\"convertToInteractive('df-34869cd8-198a-4823-a52c-c353dd96a960')\"\n",
              "              title=\"Convert this dataframe to an interactive table.\"\n",
              "              style=\"display:none;\">\n",
              "        \n",
              "  <svg xmlns=\"http://www.w3.org/2000/svg\" height=\"24px\"viewBox=\"0 0 24 24\"\n",
              "       width=\"24px\">\n",
              "    <path d=\"M0 0h24v24H0V0z\" fill=\"none\"/>\n",
              "    <path d=\"M18.56 5.44l.94 2.06.94-2.06 2.06-.94-2.06-.94-.94-2.06-.94 2.06-2.06.94zm-11 1L8.5 8.5l.94-2.06 2.06-.94-2.06-.94L8.5 2.5l-.94 2.06-2.06.94zm10 10l.94 2.06.94-2.06 2.06-.94-2.06-.94-.94-2.06-.94 2.06-2.06.94z\"/><path d=\"M17.41 7.96l-1.37-1.37c-.4-.4-.92-.59-1.43-.59-.52 0-1.04.2-1.43.59L10.3 9.45l-7.72 7.72c-.78.78-.78 2.05 0 2.83L4 21.41c.39.39.9.59 1.41.59.51 0 1.02-.2 1.41-.59l7.78-7.78 2.81-2.81c.8-.78.8-2.07 0-2.86zM5.41 20L4 18.59l7.72-7.72 1.47 1.35L5.41 20z\"/>\n",
              "  </svg>\n",
              "      </button>\n",
              "      \n",
              "  <style>\n",
              "    .colab-df-container {\n",
              "      display:flex;\n",
              "      flex-wrap:wrap;\n",
              "      gap: 12px;\n",
              "    }\n",
              "\n",
              "    .colab-df-convert {\n",
              "      background-color: #E8F0FE;\n",
              "      border: none;\n",
              "      border-radius: 50%;\n",
              "      cursor: pointer;\n",
              "      display: none;\n",
              "      fill: #1967D2;\n",
              "      height: 32px;\n",
              "      padding: 0 0 0 0;\n",
              "      width: 32px;\n",
              "    }\n",
              "\n",
              "    .colab-df-convert:hover {\n",
              "      background-color: #E2EBFA;\n",
              "      box-shadow: 0px 1px 2px rgba(60, 64, 67, 0.3), 0px 1px 3px 1px rgba(60, 64, 67, 0.15);\n",
              "      fill: #174EA6;\n",
              "    }\n",
              "\n",
              "    [theme=dark] .colab-df-convert {\n",
              "      background-color: #3B4455;\n",
              "      fill: #D2E3FC;\n",
              "    }\n",
              "\n",
              "    [theme=dark] .colab-df-convert:hover {\n",
              "      background-color: #434B5C;\n",
              "      box-shadow: 0px 1px 3px 1px rgba(0, 0, 0, 0.15);\n",
              "      filter: drop-shadow(0px 1px 2px rgba(0, 0, 0, 0.3));\n",
              "      fill: #FFFFFF;\n",
              "    }\n",
              "  </style>\n",
              "\n",
              "      <script>\n",
              "        const buttonEl =\n",
              "          document.querySelector('#df-34869cd8-198a-4823-a52c-c353dd96a960 button.colab-df-convert');\n",
              "        buttonEl.style.display =\n",
              "          google.colab.kernel.accessAllowed ? 'block' : 'none';\n",
              "\n",
              "        async function convertToInteractive(key) {\n",
              "          const element = document.querySelector('#df-34869cd8-198a-4823-a52c-c353dd96a960');\n",
              "          const dataTable =\n",
              "            await google.colab.kernel.invokeFunction('convertToInteractive',\n",
              "                                                     [key], {});\n",
              "          if (!dataTable) return;\n",
              "\n",
              "          const docLinkHtml = 'Like what you see? Visit the ' +\n",
              "            '<a target=\"_blank\" href=https://colab.research.google.com/notebooks/data_table.ipynb>data table notebook</a>'\n",
              "            + ' to learn more about interactive tables.';\n",
              "          element.innerHTML = '';\n",
              "          dataTable['output_type'] = 'display_data';\n",
              "          await google.colab.output.renderOutput(dataTable, element);\n",
              "          const docLink = document.createElement('div');\n",
              "          docLink.innerHTML = docLinkHtml;\n",
              "          element.appendChild(docLink);\n",
              "        }\n",
              "      </script>\n",
              "    </div>\n",
              "  </div>\n",
              "  "
            ]
          },
          "metadata": {},
          "execution_count": 179
        }
      ]
    },
    {
      "cell_type": "code",
      "source": [
        "# Output the results\n",
        "print(\"Total Points Earned by Cluster Prediction: Training & Testing\")\n",
        "print('Cluster 1 Train : {}'.format(df_train['return'].loc[df_train.Target==0].sum())), 'Cluster 1 Train : {}'.format(df_train['return'].loc[df_train.Target==0].sum())\n",
        "print('Cluster 2 Train : {}'.format(df_train['return'].loc[df_train.Target==2].sum())), 'Cluster 2 Train : {}'.format(df_train['return'].loc[df_train.Target==2].sum())\n",
        "print('Cluster 3 Train : {}'.format(df_train['return'].loc[df_train.Target==3].sum())), 'Cluster 3 Train : {}'.format(df_train['return'].loc[df_train.Target==3].sum())"
      ],
      "metadata": {
        "id": "LdOwLN5CABbr",
        "colab": {
          "base_uri": "https://localhost:8080/"
        },
        "outputId": "6ad48b73-a461-4dba-96de-08dace0a518c"
      },
      "execution_count": 189,
      "outputs": [
        {
          "output_type": "stream",
          "name": "stdout",
          "text": [
            "Total Points Earned by Cluster Prediction: Training & Testing\n",
            "Cluster 1 Train : 0.2099099201758794\n",
            "Cluster 2 Train : 0.5996629109550828\n",
            "Cluster 3 Train : 0.33665413908535013\n"
          ]
        },
        {
          "output_type": "execute_result",
          "data": {
            "text/plain": [
              "(None, 'Cluster 3 Train : 0.33665413908535013')"
            ]
          },
          "metadata": {},
          "execution_count": 189
        }
      ]
    },
    {
      "cell_type": "code",
      "source": [
        "plt.plot(np.cumsum(df_train['return'].loc[df_train['Target'] == 0]),label='Cluster 1')\n",
        "plt.plot(np.cumsum(df_train['return'].loc[df_train['Target'] == 1]),label='Cluster 2')\n",
        "plt.plot(np.cumsum(df_train['return'].loc[df_train['Target'] == 2]),label='Cluster 3')\n",
        "plt.title('Total Points Gained')\n",
        "plt.legend()\n",
        "plt.show()"
      ],
      "metadata": {
        "colab": {
          "base_uri": "https://localhost:8080/",
          "height": 281
        },
        "id": "My2eax1U3sAx",
        "outputId": "3e82fc33-3da4-4a31-d597-bf7ebd5c6541"
      },
      "execution_count": 192,
      "outputs": [
        {
          "output_type": "display_data",
          "data": {
            "text/plain": [
              "<Figure size 432x288 with 1 Axes>"
            ],
            "image/png": "[encoded data removed]"
          },
          "metadata": {
            "needs_background": "light"
          }
        }
      ]
    },
    {
      "cell_type": "markdown",
      "source": [
        "# SOM (Self Organising Map)\n",
        "\n"
      ],
      "metadata": {
        "id": "q9f0FW647P6f"
      }
    },
    {
      "cell_type": "code",
      "source": [
        "# Read cluster file saved locally\n",
        "som = pd.read_csv('data/cluster.csv', index_col=0)\n",
        "som"
      ],
      "metadata": {
        "colab": {
          "base_uri": "https://localhost:8080/",
          "height": 551
        },
        "id": "KixxmM-H4FKG",
        "outputId": "1ef26f61-1655-4e31-b814-acfd0feae61d"
      },
      "execution_count": 201,
      "outputs": [
        {
          "output_type": "execute_result",
          "data": {
            "text/plain": [
              "    Clusters     Features\n",
              "0          0          rsi\n",
              "1          1       Volume\n",
              "2          2         Open\n",
              "3          3          ATR\n",
              "4          4          CCI\n",
              "5          5         VWAP\n",
              "6          6  Momentum_20\n",
              "7          7           %K\n",
              "8          8          SMA\n",
              "9          9           %D\n",
              "10        10          EMA\n",
              "11        11       return\n",
              "12        12        Close\n",
              "13        12    Adj Close\n",
              "14        13         High\n",
              "15        14          Low"
            ],
            "text/html": [
              "\n",
              "  <div id=\"df-f0640974-266e-426e-acb3-3edf859dc66e\">\n",
              "    <div class=\"colab-df-container\">\n",
              "      <div>\n",
              "<style scoped>\n",
              "    .dataframe tbody tr th:only-of-type {\n",
              "        vertical-align: middle;\n",
              "    }\n",
              "\n",
              "    .dataframe tbody tr th {\n",
              "        vertical-align: top;\n",
              "    }\n",
              "\n",
              "    .dataframe thead th {\n",
              "        text-align: right;\n",
              "    }\n",
              "</style>\n",
              "<table border=\"1\" class=\"dataframe\">\n",
              "  <thead>\n",
              "    <tr style=\"text-align: right;\">\n",
              "      <th></th>\n",
              "      <th>Clusters</th>\n",
              "      <th>Features</th>\n",
              "    </tr>\n",
              "  </thead>\n",
              "  <tbody>\n",
              "    <tr>\n",
              "      <th>0</th>\n",
              "      <td>0</td>\n",
              "      <td>rsi</td>\n",
              "    </tr>\n",
              "    <tr>\n",
              "      <th>1</th>\n",
              "      <td>1</td>\n",
              "      <td>Volume</td>\n",
              "    </tr>\n",
              "    <tr>\n",
              "      <th>2</th>\n",
              "      <td>2</td>\n",
              "      <td>Open</td>\n",
              "    </tr>\n",
              "    <tr>\n",
              "      <th>3</th>\n",
              "      <td>3</td>\n",
              "      <td>ATR</td>\n",
              "    </tr>\n",
              "    <tr>\n",
              "      <th>4</th>\n",
              "      <td>4</td>\n",
              "      <td>CCI</td>\n",
              "    </tr>\n",
              "    <tr>\n",
              "      <th>5</th>\n",
              "      <td>5</td>\n",
              "      <td>VWAP</td>\n",
              "    </tr>\n",
              "    <tr>\n",
              "      <th>6</th>\n",
              "      <td>6</td>\n",
              "      <td>Momentum_20</td>\n",
              "    </tr>\n",
              "    <tr>\n",
              "      <th>7</th>\n",
              "      <td>7</td>\n",
              "      <td>%K</td>\n",
              "    </tr>\n",
              "    <tr>\n",
              "      <th>8</th>\n",
              "      <td>8</td>\n",
              "      <td>SMA</td>\n",
              "    </tr>\n",
              "    <tr>\n",
              "      <th>9</th>\n",
              "      <td>9</td>\n",
              "      <td>%D</td>\n",
              "    </tr>\n",
              "    <tr>\n",
              "      <th>10</th>\n",
              "      <td>10</td>\n",
              "      <td>EMA</td>\n",
              "    </tr>\n",
              "    <tr>\n",
              "      <th>11</th>\n",
              "      <td>11</td>\n",
              "      <td>return</td>\n",
              "    </tr>\n",
              "    <tr>\n",
              "      <th>12</th>\n",
              "      <td>12</td>\n",
              "      <td>Close</td>\n",
              "    </tr>\n",
              "    <tr>\n",
              "      <th>13</th>\n",
              "      <td>12</td>\n",
              "      <td>Adj Close</td>\n",
              "    </tr>\n",
              "    <tr>\n",
              "      <th>14</th>\n",
              "      <td>13</td>\n",
              "      <td>High</td>\n",
              "    </tr>\n",
              "    <tr>\n",
              "      <th>15</th>\n",
              "      <td>14</td>\n",
              "      <td>Low</td>\n",
              "    </tr>\n",
              "  </tbody>\n",
              "</table>\n",
              "</div>\n",
              "      <button class=\"colab-df-convert\" onclick=\"convertToInteractive('df-f0640974-266e-426e-acb3-3edf859dc66e')\"\n",
              "              title=\"Convert this dataframe to an interactive table.\"\n",
              "              style=\"display:none;\">\n",
              "        \n",
              "  <svg xmlns=\"http://www.w3.org/2000/svg\" height=\"24px\"viewBox=\"0 0 24 24\"\n",
              "       width=\"24px\">\n",
              "    <path d=\"M0 0h24v24H0V0z\" fill=\"none\"/>\n",
              "    <path d=\"M18.56 5.44l.94 2.06.94-2.06 2.06-.94-2.06-.94-.94-2.06-.94 2.06-2.06.94zm-11 1L8.5 8.5l.94-2.06 2.06-.94-2.06-.94L8.5 2.5l-.94 2.06-2.06.94zm10 10l.94 2.06.94-2.06 2.06-.94-2.06-.94-.94-2.06-.94 2.06-2.06.94z\"/><path d=\"M17.41 7.96l-1.37-1.37c-.4-.4-.92-.59-1.43-.59-.52 0-1.04.2-1.43.59L10.3 9.45l-7.72 7.72c-.78.78-.78 2.05 0 2.83L4 21.41c.39.39.9.59 1.41.59.51 0 1.02-.2 1.41-.59l7.78-7.78 2.81-2.81c.8-.78.8-2.07 0-2.86zM5.41 20L4 18.59l7.72-7.72 1.47 1.35L5.41 20z\"/>\n",
              "  </svg>\n",
              "      </button>\n",
              "      \n",
              "  <style>\n",
              "    .colab-df-container {\n",
              "      display:flex;\n",
              "      flex-wrap:wrap;\n",
              "      gap: 12px;\n",
              "    }\n",
              "\n",
              "    .colab-df-convert {\n",
              "      background-color: #E8F0FE;\n",
              "      border: none;\n",
              "      border-radius: 50%;\n",
              "      cursor: pointer;\n",
              "      display: none;\n",
              "      fill: #1967D2;\n",
              "      height: 32px;\n",
              "      padding: 0 0 0 0;\n",
              "      width: 32px;\n",
              "    }\n",
              "\n",
              "    .colab-df-convert:hover {\n",
              "      background-color: #E2EBFA;\n",
              "      box-shadow: 0px 1px 2px rgba(60, 64, 67, 0.3), 0px 1px 3px 1px rgba(60, 64, 67, 0.15);\n",
              "      fill: #174EA6;\n",
              "    }\n",
              "\n",
              "    [theme=dark] .colab-df-convert {\n",
              "      background-color: #3B4455;\n",
              "      fill: #D2E3FC;\n",
              "    }\n",
              "\n",
              "    [theme=dark] .colab-df-convert:hover {\n",
              "      background-color: #434B5C;\n",
              "      box-shadow: 0px 1px 3px 1px rgba(0, 0, 0, 0.15);\n",
              "      filter: drop-shadow(0px 1px 2px rgba(0, 0, 0, 0.3));\n",
              "      fill: #FFFFFF;\n",
              "    }\n",
              "  </style>\n",
              "\n",
              "      <script>\n",
              "        const buttonEl =\n",
              "          document.querySelector('#df-f0640974-266e-426e-acb3-3edf859dc66e button.colab-df-convert');\n",
              "        buttonEl.style.display =\n",
              "          google.colab.kernel.accessAllowed ? 'block' : 'none';\n",
              "\n",
              "        async function convertToInteractive(key) {\n",
              "          const element = document.querySelector('#df-f0640974-266e-426e-acb3-3edf859dc66e');\n",
              "          const dataTable =\n",
              "            await google.colab.kernel.invokeFunction('convertToInteractive',\n",
              "                                                     [key], {});\n",
              "          if (!dataTable) return;\n",
              "\n",
              "          const docLinkHtml = 'Like what you see? Visit the ' +\n",
              "            '<a target=\"_blank\" href=https://colab.research.google.com/notebooks/data_table.ipynb>data table notebook</a>'\n",
              "            + ' to learn more about interactive tables.';\n",
              "          element.innerHTML = '';\n",
              "          dataTable['output_type'] = 'display_data';\n",
              "          await google.colab.output.renderOutput(dataTable, element);\n",
              "          const docLink = document.createElement('div');\n",
              "          docLink.innerHTML = docLinkHtml;\n",
              "          element.appendChild(docLink);\n",
              "        }\n",
              "      </script>\n",
              "    </div>\n",
              "  </div>\n",
              "  "
            ]
          },
          "metadata": {},
          "execution_count": 201
        }
      ]
    },
    {
      "cell_type": "markdown",
      "source": [
        "Define a Feature Matrix"
      ],
      "metadata": {
        "id": "uld89Y5c7ukE"
      }
    },
    {
      "cell_type": "code",
      "source": [
        "# Define feature matrix\n",
        "X = df[['ATR', 'CHG']]\n",
        "\n",
        "# Transfor feature matrix\n",
        "scaler = MinMaxScaler()\n",
        "X = scaler.fit_transform(X)\n",
        "X"
      ],
      "metadata": {
        "colab": {
          "base_uri": "https://localhost:8080/",
          "height": 380
        },
        "id": "u-H131v24FMf",
        "outputId": "97219bc5-7707-472f-d32b-3995d3e7cb6e"
      },
      "execution_count": 200,
      "outputs": [
        {
          "output_type": "error",
          "ename": "KeyError",
          "evalue": "ignored",
          "traceback": [
            "\u001b[0;31m---------------------------------------------------------------------------\u001b[0m",
            "\u001b[0;31mKeyError\u001b[0m                                  Traceback (most recent call last)",
            "\u001b[0;32m<ipython-input-200-fa11457467a5>\u001b[0m in \u001b[0;36m<module>\u001b[0;34m()\u001b[0m\n\u001b[1;32m      1\u001b[0m \u001b[0;31m# Define feature matrix\u001b[0m\u001b[0;34m\u001b[0m\u001b[0;34m\u001b[0m\u001b[0;34m\u001b[0m\u001b[0m\n\u001b[0;32m----> 2\u001b[0;31m \u001b[0mX\u001b[0m \u001b[0;34m=\u001b[0m \u001b[0mdf\u001b[0m\u001b[0;34m[\u001b[0m\u001b[0;34m[\u001b[0m\u001b[0;34m'Features'\u001b[0m\u001b[0;34m]\u001b[0m\u001b[0;34m]\u001b[0m\u001b[0;34m\u001b[0m\u001b[0;34m\u001b[0m\u001b[0m\n\u001b[0m\u001b[1;32m      3\u001b[0m \u001b[0;34m\u001b[0m\u001b[0m\n\u001b[1;32m      4\u001b[0m \u001b[0;31m# Transfor feature matrix\u001b[0m\u001b[0;34m\u001b[0m\u001b[0;34m\u001b[0m\u001b[0;34m\u001b[0m\u001b[0m\n\u001b[1;32m      5\u001b[0m \u001b[0mscaler\u001b[0m \u001b[0;34m=\u001b[0m \u001b[0mMinMaxScaler\u001b[0m\u001b[0;34m(\u001b[0m\u001b[0;34m)\u001b[0m\u001b[0;34m\u001b[0m\u001b[0;34m\u001b[0m\u001b[0m\n",
            "\u001b[0;32m/usr/local/lib/python3.7/dist-packages/pandas/core/frame.py\u001b[0m in \u001b[0;36m__getitem__\u001b[0;34m(self, key)\u001b[0m\n\u001b[1;32m   3462\u001b[0m             \u001b[0;32mif\u001b[0m \u001b[0mis_iterator\u001b[0m\u001b[0;34m(\u001b[0m\u001b[0mkey\u001b[0m\u001b[0;34m)\u001b[0m\u001b[0;34m:\u001b[0m\u001b[0;34m\u001b[0m\u001b[0;34m\u001b[0m\u001b[0m\n\u001b[1;32m   3463\u001b[0m                 \u001b[0mkey\u001b[0m \u001b[0;34m=\u001b[0m \u001b[0mlist\u001b[0m\u001b[0;34m(\u001b[0m\u001b[0mkey\u001b[0m\u001b[0;34m)\u001b[0m\u001b[0;34m\u001b[0m\u001b[0;34m\u001b[0m\u001b[0m\n\u001b[0;32m-> 3464\u001b[0;31m             \u001b[0mindexer\u001b[0m \u001b[0;34m=\u001b[0m \u001b[0mself\u001b[0m\u001b[0;34m.\u001b[0m\u001b[0mloc\u001b[0m\u001b[0;34m.\u001b[0m\u001b[0m_get_listlike_indexer\u001b[0m\u001b[0;34m(\u001b[0m\u001b[0mkey\u001b[0m\u001b[0;34m,\u001b[0m \u001b[0maxis\u001b[0m\u001b[0;34m=\u001b[0m\u001b[0;36m1\u001b[0m\u001b[0;34m)\u001b[0m\u001b[0;34m[\u001b[0m\u001b[0;36m1\u001b[0m\u001b[0;34m]\u001b[0m\u001b[0;34m\u001b[0m\u001b[0;34m\u001b[0m\u001b[0m\n\u001b[0m\u001b[1;32m   3465\u001b[0m \u001b[0;34m\u001b[0m\u001b[0m\n\u001b[1;32m   3466\u001b[0m         \u001b[0;31m# take() does not accept boolean indexers\u001b[0m\u001b[0;34m\u001b[0m\u001b[0;34m\u001b[0m\u001b[0;34m\u001b[0m\u001b[0m\n",
            "\u001b[0;32m/usr/local/lib/python3.7/dist-packages/pandas/core/indexing.py\u001b[0m in \u001b[0;36m_get_listlike_indexer\u001b[0;34m(self, key, axis)\u001b[0m\n\u001b[1;32m   1312\u001b[0m             \u001b[0mkeyarr\u001b[0m\u001b[0;34m,\u001b[0m \u001b[0mindexer\u001b[0m\u001b[0;34m,\u001b[0m \u001b[0mnew_indexer\u001b[0m \u001b[0;34m=\u001b[0m \u001b[0max\u001b[0m\u001b[0;34m.\u001b[0m\u001b[0m_reindex_non_unique\u001b[0m\u001b[0;34m(\u001b[0m\u001b[0mkeyarr\u001b[0m\u001b[0;34m)\u001b[0m\u001b[0;34m\u001b[0m\u001b[0;34m\u001b[0m\u001b[0m\n\u001b[1;32m   1313\u001b[0m \u001b[0;34m\u001b[0m\u001b[0m\n\u001b[0;32m-> 1314\u001b[0;31m         \u001b[0mself\u001b[0m\u001b[0;34m.\u001b[0m\u001b[0m_validate_read_indexer\u001b[0m\u001b[0;34m(\u001b[0m\u001b[0mkeyarr\u001b[0m\u001b[0;34m,\u001b[0m \u001b[0mindexer\u001b[0m\u001b[0;34m,\u001b[0m \u001b[0maxis\u001b[0m\u001b[0;34m)\u001b[0m\u001b[0;34m\u001b[0m\u001b[0;34m\u001b[0m\u001b[0m\n\u001b[0m\u001b[1;32m   1315\u001b[0m \u001b[0;34m\u001b[0m\u001b[0m\n\u001b[1;32m   1316\u001b[0m         if needs_i8_conversion(ax.dtype) or isinstance(\n",
            "\u001b[0;32m/usr/local/lib/python3.7/dist-packages/pandas/core/indexing.py\u001b[0m in \u001b[0;36m_validate_read_indexer\u001b[0;34m(self, key, indexer, axis)\u001b[0m\n\u001b[1;32m   1372\u001b[0m                 \u001b[0;32mif\u001b[0m \u001b[0muse_interval_msg\u001b[0m\u001b[0;34m:\u001b[0m\u001b[0;34m\u001b[0m\u001b[0;34m\u001b[0m\u001b[0m\n\u001b[1;32m   1373\u001b[0m                     \u001b[0mkey\u001b[0m \u001b[0;34m=\u001b[0m \u001b[0mlist\u001b[0m\u001b[0;34m(\u001b[0m\u001b[0mkey\u001b[0m\u001b[0;34m)\u001b[0m\u001b[0;34m\u001b[0m\u001b[0;34m\u001b[0m\u001b[0m\n\u001b[0;32m-> 1374\u001b[0;31m                 \u001b[0;32mraise\u001b[0m \u001b[0mKeyError\u001b[0m\u001b[0;34m(\u001b[0m\u001b[0;34mf\"None of [{key}] are in the [{axis_name}]\"\u001b[0m\u001b[0;34m)\u001b[0m\u001b[0;34m\u001b[0m\u001b[0;34m\u001b[0m\u001b[0m\n\u001b[0m\u001b[1;32m   1375\u001b[0m \u001b[0;34m\u001b[0m\u001b[0m\n\u001b[1;32m   1376\u001b[0m             \u001b[0mnot_found\u001b[0m \u001b[0;34m=\u001b[0m \u001b[0mlist\u001b[0m\u001b[0;34m(\u001b[0m\u001b[0mensure_index\u001b[0m\u001b[0;34m(\u001b[0m\u001b[0mkey\u001b[0m\u001b[0;34m)\u001b[0m\u001b[0;34m[\u001b[0m\u001b[0mmissing_mask\u001b[0m\u001b[0;34m.\u001b[0m\u001b[0mnonzero\u001b[0m\u001b[0;34m(\u001b[0m\u001b[0;34m)\u001b[0m\u001b[0;34m[\u001b[0m\u001b[0;36m0\u001b[0m\u001b[0;34m]\u001b[0m\u001b[0;34m]\u001b[0m\u001b[0;34m.\u001b[0m\u001b[0munique\u001b[0m\u001b[0;34m(\u001b[0m\u001b[0;34m)\u001b[0m\u001b[0;34m)\u001b[0m\u001b[0;34m\u001b[0m\u001b[0;34m\u001b[0m\u001b[0m\n",
            "\u001b[0;31mKeyError\u001b[0m: \"None of [Index(['Features'], dtype='object')] are in the [columns]\""
          ]
        }
      ]
    }
  ]
}