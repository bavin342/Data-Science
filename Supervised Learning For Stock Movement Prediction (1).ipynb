{
 "cells": [
  {
   "cell_type": "markdown",
   "metadata": {},
   "source": [
    "## Supervised Learning For Stock Prediction ## "
   ]
  },
  {
   "cell_type": "code",
   "execution_count": 87,
   "metadata": {},
   "outputs": [
    {
     "data": {
      "text/html": [
       "<div>\n",
       "<style scoped>\n",
       "    .dataframe tbody tr th:only-of-type {\n",
       "        vertical-align: middle;\n",
       "    }\n",
       "\n",
       "    .dataframe tbody tr th {\n",
       "        vertical-align: top;\n",
       "    }\n",
       "\n",
       "    .dataframe thead th {\n",
       "        text-align: right;\n",
       "    }\n",
       "</style>\n",
       "<table border=\"1\" class=\"dataframe\">\n",
       "  <thead>\n",
       "    <tr style=\"text-align: right;\">\n",
       "      <th></th>\n",
       "      <th>Open</th>\n",
       "      <th>High</th>\n",
       "      <th>Low</th>\n",
       "      <th>Close</th>\n",
       "      <th>Volume</th>\n",
       "    </tr>\n",
       "  </thead>\n",
       "  <tbody>\n",
       "    <tr>\n",
       "      <th>0</th>\n",
       "      <td>85.790001</td>\n",
       "      <td>85.849998</td>\n",
       "      <td>85.510002</td>\n",
       "      <td>85.540001</td>\n",
       "      <td>83500</td>\n",
       "    </tr>\n",
       "    <tr>\n",
       "      <th>1</th>\n",
       "      <td>85.639999</td>\n",
       "      <td>85.660004</td>\n",
       "      <td>84.339996</td>\n",
       "      <td>84.889999</td>\n",
       "      <td>154600</td>\n",
       "    </tr>\n",
       "    <tr>\n",
       "      <th>2</th>\n",
       "      <td>84.620003</td>\n",
       "      <td>84.930000</td>\n",
       "      <td>84.160004</td>\n",
       "      <td>84.269997</td>\n",
       "      <td>108500</td>\n",
       "    </tr>\n",
       "    <tr>\n",
       "      <th>3</th>\n",
       "      <td>84.300003</td>\n",
       "      <td>84.379997</td>\n",
       "      <td>83.690002</td>\n",
       "      <td>83.790001</td>\n",
       "      <td>81100</td>\n",
       "    </tr>\n",
       "    <tr>\n",
       "      <th>4</th>\n",
       "      <td>83.720001</td>\n",
       "      <td>84.250000</td>\n",
       "      <td>83.680000</td>\n",
       "      <td>83.720001</td>\n",
       "      <td>133800</td>\n",
       "    </tr>\n",
       "    <tr>\n",
       "      <th>...</th>\n",
       "      <td>...</td>\n",
       "      <td>...</td>\n",
       "      <td>...</td>\n",
       "      <td>...</td>\n",
       "      <td>...</td>\n",
       "    </tr>\n",
       "    <tr>\n",
       "      <th>1253</th>\n",
       "      <td>247.960007</td>\n",
       "      <td>248.619995</td>\n",
       "      <td>245.710007</td>\n",
       "      <td>246.979996</td>\n",
       "      <td>170200</td>\n",
       "    </tr>\n",
       "    <tr>\n",
       "      <th>1254</th>\n",
       "      <td>247.720001</td>\n",
       "      <td>249.649994</td>\n",
       "      <td>246.500000</td>\n",
       "      <td>249.160004</td>\n",
       "      <td>229400</td>\n",
       "    </tr>\n",
       "    <tr>\n",
       "      <th>1255</th>\n",
       "      <td>250.690002</td>\n",
       "      <td>252.139999</td>\n",
       "      <td>249.289993</td>\n",
       "      <td>249.889999</td>\n",
       "      <td>190400</td>\n",
       "    </tr>\n",
       "    <tr>\n",
       "      <th>1256</th>\n",
       "      <td>250.369995</td>\n",
       "      <td>252.750000</td>\n",
       "      <td>250.130005</td>\n",
       "      <td>250.630005</td>\n",
       "      <td>183400</td>\n",
       "    </tr>\n",
       "    <tr>\n",
       "      <th>1257</th>\n",
       "      <td>251.929993</td>\n",
       "      <td>253.130005</td>\n",
       "      <td>251.179993</td>\n",
       "      <td>253.000000</td>\n",
       "      <td>343700</td>\n",
       "    </tr>\n",
       "  </tbody>\n",
       "</table>\n",
       "<p>1258 rows × 5 columns</p>\n",
       "</div>"
      ],
      "text/plain": [
       "            Open        High         Low       Close  Volume\n",
       "0      85.790001   85.849998   85.510002   85.540001   83500\n",
       "1      85.639999   85.660004   84.339996   84.889999  154600\n",
       "2      84.620003   84.930000   84.160004   84.269997  108500\n",
       "3      84.300003   84.379997   83.690002   83.790001   81100\n",
       "4      83.720001   84.250000   83.680000   83.720001  133800\n",
       "...          ...         ...         ...         ...     ...\n",
       "1253  247.960007  248.619995  245.710007  246.979996  170200\n",
       "1254  247.720001  249.649994  246.500000  249.160004  229400\n",
       "1255  250.690002  252.139999  249.289993  249.889999  190400\n",
       "1256  250.369995  252.750000  250.130005  250.630005  183400\n",
       "1257  251.929993  253.130005  251.179993  253.000000  343700\n",
       "\n",
       "[1258 rows x 5 columns]"
      ]
     },
     "execution_count": 87,
     "metadata": {},
     "output_type": "execute_result"
    }
   ],
   "source": [
    "# Import all packages \n",
    "import pandas as pd \n",
    "import numpy as np\n",
    "import yfinance as yf\n",
    "import matplotlib.pyplot as plt\n",
    "import yfinance as yf\n",
    "import seaborn as sns\n",
    "import datetime \n",
    "\n",
    "# Downloaded data from yahoo finance as csv into excel, but yahoo finance api can work better\n",
    "# Here we are also going to drop the Adj Close and Date column as these are not needed for our model to learn and predict\n",
    "df_work = pd.read_csv(\"C:\\\\Users\\\\bavsr\\\\Downloads\\\\MGK.csv\",sep=',')\n",
    "df = df_work.copy()\n",
    "df.set_index(pd.DatetimeIndex(df['Date'].values))\n",
    "df.drop('Adj Close',axis=1,inplace = True) \n",
    "df.drop('Date',axis=1,inplace = True)\n",
    "df"
   ]
  },
  {
   "cell_type": "code",
   "execution_count": 88,
   "metadata": {
    "scrolled": true
   },
   "outputs": [
    {
     "data": {
      "text/plain": [
       "Text(0, 0.5, 'Close Price')"
      ]
     },
     "execution_count": 88,
     "metadata": {},
     "output_type": "execute_result"
    },
    {
     "data": {
      "image/png": "[encoded data removed]",
      "text/plain": [
       "<Figure size 432x288 with 1 Axes>"
      ]
     },
     "metadata": {
      "needs_background": "light"
     },
     "output_type": "display_data"
    }
   ],
   "source": [
    "# Simple plot of the MGK ETF data for visualistation\n",
    "plt.figure\n",
    "plt.plot(df['Close'])\n",
    "plt.xlabel('Date',fontsize=18)\n",
    "plt.ylabel('Close Price',fontsize=18)"
   ]
  },
  {
   "cell_type": "markdown",
   "metadata": {},
   "source": [
    "## Create Function For Technical Indicators ##\n"
   ]
  },
  {
   "cell_type": "code",
   "execution_count": 89,
   "metadata": {},
   "outputs": [],
   "source": [
    "def SMA(\n",
    "        data, \n",
    "        period=30,\n",
    "        column = 'Close'\n",
    "    ):\n",
    "  \n",
    "    return data[column].rolling(window = period).mean()\n",
    "\n",
    "\n",
    "\n",
    "def EMA(\n",
    "        data, \n",
    "        period = None,\n",
    "        column = 'Close',\n",
    "    ):\n",
    "\n",
    "\n",
    "    return data[column].ewm(span=14).mean()"
   ]
  },
  {
   "cell_type": "code",
   "execution_count": 90,
   "metadata": {},
   "outputs": [
    {
     "data": {
      "text/html": [
       "<div>\n",
       "<style scoped>\n",
       "    .dataframe tbody tr th:only-of-type {\n",
       "        vertical-align: middle;\n",
       "    }\n",
       "\n",
       "    .dataframe tbody tr th {\n",
       "        vertical-align: top;\n",
       "    }\n",
       "\n",
       "    .dataframe thead th {\n",
       "        text-align: right;\n",
       "    }\n",
       "</style>\n",
       "<table border=\"1\" class=\"dataframe\">\n",
       "  <thead>\n",
       "    <tr style=\"text-align: right;\">\n",
       "      <th></th>\n",
       "      <th>Open</th>\n",
       "      <th>High</th>\n",
       "      <th>Low</th>\n",
       "      <th>Close</th>\n",
       "      <th>Volume</th>\n",
       "      <th>SMA20</th>\n",
       "      <th>EMA</th>\n",
       "    </tr>\n",
       "  </thead>\n",
       "  <tbody>\n",
       "    <tr>\n",
       "      <th>19</th>\n",
       "      <td>87.050003</td>\n",
       "      <td>87.190002</td>\n",
       "      <td>86.760002</td>\n",
       "      <td>86.790001</td>\n",
       "      <td>64400</td>\n",
       "      <td>85.763000</td>\n",
       "      <td>86.351498</td>\n",
       "    </tr>\n",
       "    <tr>\n",
       "      <th>20</th>\n",
       "      <td>86.760002</td>\n",
       "      <td>87.290001</td>\n",
       "      <td>86.760002</td>\n",
       "      <td>87.059998</td>\n",
       "      <td>80100</td>\n",
       "      <td>85.839000</td>\n",
       "      <td>86.450888</td>\n",
       "    </tr>\n",
       "    <tr>\n",
       "      <th>21</th>\n",
       "      <td>87.239998</td>\n",
       "      <td>87.239998</td>\n",
       "      <td>86.370003</td>\n",
       "      <td>86.370003</td>\n",
       "      <td>118100</td>\n",
       "      <td>85.913000</td>\n",
       "      <td>86.439619</td>\n",
       "    </tr>\n",
       "    <tr>\n",
       "      <th>22</th>\n",
       "      <td>86.440002</td>\n",
       "      <td>86.440002</td>\n",
       "      <td>85.269997</td>\n",
       "      <td>85.449997</td>\n",
       "      <td>81300</td>\n",
       "      <td>85.972000</td>\n",
       "      <td>86.302571</td>\n",
       "    </tr>\n",
       "    <tr>\n",
       "      <th>23</th>\n",
       "      <td>85.339996</td>\n",
       "      <td>85.800003</td>\n",
       "      <td>85.320000</td>\n",
       "      <td>85.519997</td>\n",
       "      <td>136100</td>\n",
       "      <td>86.058500</td>\n",
       "      <td>86.194751</td>\n",
       "    </tr>\n",
       "    <tr>\n",
       "      <th>...</th>\n",
       "      <td>...</td>\n",
       "      <td>...</td>\n",
       "      <td>...</td>\n",
       "      <td>...</td>\n",
       "      <td>...</td>\n",
       "      <td>...</td>\n",
       "      <td>...</td>\n",
       "    </tr>\n",
       "    <tr>\n",
       "      <th>1253</th>\n",
       "      <td>247.960007</td>\n",
       "      <td>248.619995</td>\n",
       "      <td>245.710007</td>\n",
       "      <td>246.979996</td>\n",
       "      <td>170200</td>\n",
       "      <td>240.207498</td>\n",
       "      <td>243.537685</td>\n",
       "    </tr>\n",
       "    <tr>\n",
       "      <th>1254</th>\n",
       "      <td>247.720001</td>\n",
       "      <td>249.649994</td>\n",
       "      <td>246.500000</td>\n",
       "      <td>249.160004</td>\n",
       "      <td>229400</td>\n",
       "      <td>240.459998</td>\n",
       "      <td>244.287327</td>\n",
       "    </tr>\n",
       "    <tr>\n",
       "      <th>1255</th>\n",
       "      <td>250.690002</td>\n",
       "      <td>252.139999</td>\n",
       "      <td>249.289993</td>\n",
       "      <td>249.889999</td>\n",
       "      <td>190400</td>\n",
       "      <td>241.109499</td>\n",
       "      <td>245.034350</td>\n",
       "    </tr>\n",
       "    <tr>\n",
       "      <th>1256</th>\n",
       "      <td>250.369995</td>\n",
       "      <td>252.750000</td>\n",
       "      <td>250.130005</td>\n",
       "      <td>250.630005</td>\n",
       "      <td>183400</td>\n",
       "      <td>241.824499</td>\n",
       "      <td>245.780438</td>\n",
       "    </tr>\n",
       "    <tr>\n",
       "      <th>1257</th>\n",
       "      <td>251.929993</td>\n",
       "      <td>253.130005</td>\n",
       "      <td>251.179993</td>\n",
       "      <td>253.000000</td>\n",
       "      <td>343700</td>\n",
       "      <td>242.734499</td>\n",
       "      <td>246.743046</td>\n",
       "    </tr>\n",
       "  </tbody>\n",
       "</table>\n",
       "<p>1239 rows × 7 columns</p>\n",
       "</div>"
      ],
      "text/plain": [
       "            Open        High         Low       Close  Volume       SMA20  \\\n",
       "19     87.050003   87.190002   86.760002   86.790001   64400   85.763000   \n",
       "20     86.760002   87.290001   86.760002   87.059998   80100   85.839000   \n",
       "21     87.239998   87.239998   86.370003   86.370003  118100   85.913000   \n",
       "22     86.440002   86.440002   85.269997   85.449997   81300   85.972000   \n",
       "23     85.339996   85.800003   85.320000   85.519997  136100   86.058500   \n",
       "...          ...         ...         ...         ...     ...         ...   \n",
       "1253  247.960007  248.619995  245.710007  246.979996  170200  240.207498   \n",
       "1254  247.720001  249.649994  246.500000  249.160004  229400  240.459998   \n",
       "1255  250.690002  252.139999  249.289993  249.889999  190400  241.109499   \n",
       "1256  250.369995  252.750000  250.130005  250.630005  183400  241.824499   \n",
       "1257  251.929993  253.130005  251.179993  253.000000  343700  242.734499   \n",
       "\n",
       "             EMA  \n",
       "19     86.351498  \n",
       "20     86.450888  \n",
       "21     86.439619  \n",
       "22     86.302571  \n",
       "23     86.194751  \n",
       "...          ...  \n",
       "1253  243.537685  \n",
       "1254  244.287327  \n",
       "1255  245.034350  \n",
       "1256  245.780438  \n",
       "1257  246.743046  \n",
       "\n",
       "[1239 rows x 7 columns]"
      ]
     },
     "execution_count": 90,
     "metadata": {},
     "output_type": "execute_result"
    }
   ],
   "source": [
    "df['SMA20'] = SMA(df,20)\n",
    "df['EMA'] = df['Close'].ewm(span=14).mean()\n",
    "df.dropna(subset = [\"SMA20\"], inplace=True)\n",
    "df.reset_index(drop=True)  \n",
    "df"
   ]
  },
  {
   "cell_type": "code",
   "execution_count": 91,
   "metadata": {},
   "outputs": [],
   "source": [
    "def momentum(df, n):\n",
    "    M = pd.Series(df['Close'].diff(n), name='Momentum_' + str(n))\n",
    "    df = df.join(M)\n",
    "    return df"
   ]
  },
  {
   "cell_type": "code",
   "execution_count": 92,
   "metadata": {},
   "outputs": [
    {
     "data": {
      "text/html": [
       "<div>\n",
       "<style scoped>\n",
       "    .dataframe tbody tr th:only-of-type {\n",
       "        vertical-align: middle;\n",
       "    }\n",
       "\n",
       "    .dataframe tbody tr th {\n",
       "        vertical-align: top;\n",
       "    }\n",
       "\n",
       "    .dataframe thead th {\n",
       "        text-align: right;\n",
       "    }\n",
       "</style>\n",
       "<table border=\"1\" class=\"dataframe\">\n",
       "  <thead>\n",
       "    <tr style=\"text-align: right;\">\n",
       "      <th></th>\n",
       "      <th>Open</th>\n",
       "      <th>High</th>\n",
       "      <th>Low</th>\n",
       "      <th>Close</th>\n",
       "      <th>Volume</th>\n",
       "      <th>SMA20</th>\n",
       "      <th>EMA</th>\n",
       "      <th>Momentum_20</th>\n",
       "    </tr>\n",
       "  </thead>\n",
       "  <tbody>\n",
       "    <tr>\n",
       "      <th>19</th>\n",
       "      <td>87.050003</td>\n",
       "      <td>87.190002</td>\n",
       "      <td>86.760002</td>\n",
       "      <td>86.790001</td>\n",
       "      <td>64400</td>\n",
       "      <td>85.763000</td>\n",
       "      <td>86.351498</td>\n",
       "      <td>NaN</td>\n",
       "    </tr>\n",
       "    <tr>\n",
       "      <th>20</th>\n",
       "      <td>86.760002</td>\n",
       "      <td>87.290001</td>\n",
       "      <td>86.760002</td>\n",
       "      <td>87.059998</td>\n",
       "      <td>80100</td>\n",
       "      <td>85.839000</td>\n",
       "      <td>86.450888</td>\n",
       "      <td>NaN</td>\n",
       "    </tr>\n",
       "    <tr>\n",
       "      <th>21</th>\n",
       "      <td>87.239998</td>\n",
       "      <td>87.239998</td>\n",
       "      <td>86.370003</td>\n",
       "      <td>86.370003</td>\n",
       "      <td>118100</td>\n",
       "      <td>85.913000</td>\n",
       "      <td>86.439619</td>\n",
       "      <td>NaN</td>\n",
       "    </tr>\n",
       "    <tr>\n",
       "      <th>22</th>\n",
       "      <td>86.440002</td>\n",
       "      <td>86.440002</td>\n",
       "      <td>85.269997</td>\n",
       "      <td>85.449997</td>\n",
       "      <td>81300</td>\n",
       "      <td>85.972000</td>\n",
       "      <td>86.302571</td>\n",
       "      <td>NaN</td>\n",
       "    </tr>\n",
       "    <tr>\n",
       "      <th>23</th>\n",
       "      <td>85.339996</td>\n",
       "      <td>85.800003</td>\n",
       "      <td>85.320000</td>\n",
       "      <td>85.519997</td>\n",
       "      <td>136100</td>\n",
       "      <td>86.058500</td>\n",
       "      <td>86.194751</td>\n",
       "      <td>NaN</td>\n",
       "    </tr>\n",
       "    <tr>\n",
       "      <th>...</th>\n",
       "      <td>...</td>\n",
       "      <td>...</td>\n",
       "      <td>...</td>\n",
       "      <td>...</td>\n",
       "      <td>...</td>\n",
       "      <td>...</td>\n",
       "      <td>...</td>\n",
       "      <td>...</td>\n",
       "    </tr>\n",
       "    <tr>\n",
       "      <th>1253</th>\n",
       "      <td>247.960007</td>\n",
       "      <td>248.619995</td>\n",
       "      <td>245.710007</td>\n",
       "      <td>246.979996</td>\n",
       "      <td>170200</td>\n",
       "      <td>240.207498</td>\n",
       "      <td>243.537685</td>\n",
       "      <td>0.699997</td>\n",
       "    </tr>\n",
       "    <tr>\n",
       "      <th>1254</th>\n",
       "      <td>247.720001</td>\n",
       "      <td>249.649994</td>\n",
       "      <td>246.500000</td>\n",
       "      <td>249.160004</td>\n",
       "      <td>229400</td>\n",
       "      <td>240.459998</td>\n",
       "      <td>244.287327</td>\n",
       "      <td>5.050003</td>\n",
       "    </tr>\n",
       "    <tr>\n",
       "      <th>1255</th>\n",
       "      <td>250.690002</td>\n",
       "      <td>252.139999</td>\n",
       "      <td>249.289993</td>\n",
       "      <td>249.889999</td>\n",
       "      <td>190400</td>\n",
       "      <td>241.109499</td>\n",
       "      <td>245.034350</td>\n",
       "      <td>12.990005</td>\n",
       "    </tr>\n",
       "    <tr>\n",
       "      <th>1256</th>\n",
       "      <td>250.369995</td>\n",
       "      <td>252.750000</td>\n",
       "      <td>250.130005</td>\n",
       "      <td>250.630005</td>\n",
       "      <td>183400</td>\n",
       "      <td>241.824499</td>\n",
       "      <td>245.780438</td>\n",
       "      <td>14.300003</td>\n",
       "    </tr>\n",
       "    <tr>\n",
       "      <th>1257</th>\n",
       "      <td>251.929993</td>\n",
       "      <td>253.130005</td>\n",
       "      <td>251.179993</td>\n",
       "      <td>253.000000</td>\n",
       "      <td>343700</td>\n",
       "      <td>242.734499</td>\n",
       "      <td>246.743046</td>\n",
       "      <td>18.199997</td>\n",
       "    </tr>\n",
       "  </tbody>\n",
       "</table>\n",
       "<p>1239 rows × 8 columns</p>\n",
       "</div>"
      ],
      "text/plain": [
       "            Open        High         Low       Close  Volume       SMA20  \\\n",
       "19     87.050003   87.190002   86.760002   86.790001   64400   85.763000   \n",
       "20     86.760002   87.290001   86.760002   87.059998   80100   85.839000   \n",
       "21     87.239998   87.239998   86.370003   86.370003  118100   85.913000   \n",
       "22     86.440002   86.440002   85.269997   85.449997   81300   85.972000   \n",
       "23     85.339996   85.800003   85.320000   85.519997  136100   86.058500   \n",
       "...          ...         ...         ...         ...     ...         ...   \n",
       "1253  247.960007  248.619995  245.710007  246.979996  170200  240.207498   \n",
       "1254  247.720001  249.649994  246.500000  249.160004  229400  240.459998   \n",
       "1255  250.690002  252.139999  249.289993  249.889999  190400  241.109499   \n",
       "1256  250.369995  252.750000  250.130005  250.630005  183400  241.824499   \n",
       "1257  251.929993  253.130005  251.179993  253.000000  343700  242.734499   \n",
       "\n",
       "             EMA  Momentum_20  \n",
       "19     86.351498          NaN  \n",
       "20     86.450888          NaN  \n",
       "21     86.439619          NaN  \n",
       "22     86.302571          NaN  \n",
       "23     86.194751          NaN  \n",
       "...          ...          ...  \n",
       "1253  243.537685     0.699997  \n",
       "1254  244.287327     5.050003  \n",
       "1255  245.034350    12.990005  \n",
       "1256  245.780438    14.300003  \n",
       "1257  246.743046    18.199997  \n",
       "\n",
       "[1239 rows x 8 columns]"
      ]
     },
     "execution_count": 92,
     "metadata": {},
     "output_type": "execute_result"
    }
   ],
   "source": [
    "df=momentum(df,20)\n",
    "df"
   ]
  },
  {
   "cell_type": "code",
   "execution_count": 93,
   "metadata": {},
   "outputs": [
    {
     "data": {
      "text/html": [
       "<div>\n",
       "<style scoped>\n",
       "    .dataframe tbody tr th:only-of-type {\n",
       "        vertical-align: middle;\n",
       "    }\n",
       "\n",
       "    .dataframe tbody tr th {\n",
       "        vertical-align: top;\n",
       "    }\n",
       "\n",
       "    .dataframe thead th {\n",
       "        text-align: right;\n",
       "    }\n",
       "</style>\n",
       "<table border=\"1\" class=\"dataframe\">\n",
       "  <thead>\n",
       "    <tr style=\"text-align: right;\">\n",
       "      <th></th>\n",
       "      <th>Open</th>\n",
       "      <th>High</th>\n",
       "      <th>Low</th>\n",
       "      <th>Close</th>\n",
       "      <th>Volume</th>\n",
       "      <th>SMA20</th>\n",
       "      <th>EMA</th>\n",
       "      <th>Momentum_20</th>\n",
       "    </tr>\n",
       "  </thead>\n",
       "  <tbody>\n",
       "    <tr>\n",
       "      <th>0</th>\n",
       "      <td>88.099998</td>\n",
       "      <td>88.559998</td>\n",
       "      <td>88.070000</td>\n",
       "      <td>88.290001</td>\n",
       "      <td>79200</td>\n",
       "      <td>87.513001</td>\n",
       "      <td>87.881816</td>\n",
       "      <td>1.500000</td>\n",
       "    </tr>\n",
       "    <tr>\n",
       "      <th>1</th>\n",
       "      <td>88.440002</td>\n",
       "      <td>88.440002</td>\n",
       "      <td>87.599998</td>\n",
       "      <td>87.629997</td>\n",
       "      <td>74900</td>\n",
       "      <td>87.541501</td>\n",
       "      <td>87.848145</td>\n",
       "      <td>0.569999</td>\n",
       "    </tr>\n",
       "    <tr>\n",
       "      <th>2</th>\n",
       "      <td>87.610001</td>\n",
       "      <td>87.739998</td>\n",
       "      <td>87.459999</td>\n",
       "      <td>87.660004</td>\n",
       "      <td>60900</td>\n",
       "      <td>87.606001</td>\n",
       "      <td>87.822998</td>\n",
       "      <td>1.290001</td>\n",
       "    </tr>\n",
       "    <tr>\n",
       "      <th>3</th>\n",
       "      <td>87.730003</td>\n",
       "      <td>87.730003</td>\n",
       "      <td>86.830002</td>\n",
       "      <td>87.110001</td>\n",
       "      <td>60600</td>\n",
       "      <td>87.689001</td>\n",
       "      <td>87.727729</td>\n",
       "      <td>1.660004</td>\n",
       "    </tr>\n",
       "    <tr>\n",
       "      <th>4</th>\n",
       "      <td>87.559998</td>\n",
       "      <td>88.070000</td>\n",
       "      <td>87.330002</td>\n",
       "      <td>87.760002</td>\n",
       "      <td>112500</td>\n",
       "      <td>87.801001</td>\n",
       "      <td>87.732040</td>\n",
       "      <td>2.240005</td>\n",
       "    </tr>\n",
       "    <tr>\n",
       "      <th>...</th>\n",
       "      <td>...</td>\n",
       "      <td>...</td>\n",
       "      <td>...</td>\n",
       "      <td>...</td>\n",
       "      <td>...</td>\n",
       "      <td>...</td>\n",
       "      <td>...</td>\n",
       "      <td>...</td>\n",
       "    </tr>\n",
       "    <tr>\n",
       "      <th>1214</th>\n",
       "      <td>247.960007</td>\n",
       "      <td>248.619995</td>\n",
       "      <td>245.710007</td>\n",
       "      <td>246.979996</td>\n",
       "      <td>170200</td>\n",
       "      <td>240.207498</td>\n",
       "      <td>243.537685</td>\n",
       "      <td>0.699997</td>\n",
       "    </tr>\n",
       "    <tr>\n",
       "      <th>1215</th>\n",
       "      <td>247.720001</td>\n",
       "      <td>249.649994</td>\n",
       "      <td>246.500000</td>\n",
       "      <td>249.160004</td>\n",
       "      <td>229400</td>\n",
       "      <td>240.459998</td>\n",
       "      <td>244.287327</td>\n",
       "      <td>5.050003</td>\n",
       "    </tr>\n",
       "    <tr>\n",
       "      <th>1216</th>\n",
       "      <td>250.690002</td>\n",
       "      <td>252.139999</td>\n",
       "      <td>249.289993</td>\n",
       "      <td>249.889999</td>\n",
       "      <td>190400</td>\n",
       "      <td>241.109499</td>\n",
       "      <td>245.034350</td>\n",
       "      <td>12.990005</td>\n",
       "    </tr>\n",
       "    <tr>\n",
       "      <th>1217</th>\n",
       "      <td>250.369995</td>\n",
       "      <td>252.750000</td>\n",
       "      <td>250.130005</td>\n",
       "      <td>250.630005</td>\n",
       "      <td>183400</td>\n",
       "      <td>241.824499</td>\n",
       "      <td>245.780438</td>\n",
       "      <td>14.300003</td>\n",
       "    </tr>\n",
       "    <tr>\n",
       "      <th>1218</th>\n",
       "      <td>251.929993</td>\n",
       "      <td>253.130005</td>\n",
       "      <td>251.179993</td>\n",
       "      <td>253.000000</td>\n",
       "      <td>343700</td>\n",
       "      <td>242.734499</td>\n",
       "      <td>246.743046</td>\n",
       "      <td>18.199997</td>\n",
       "    </tr>\n",
       "  </tbody>\n",
       "</table>\n",
       "<p>1219 rows × 8 columns</p>\n",
       "</div>"
      ],
      "text/plain": [
       "            Open        High         Low       Close  Volume       SMA20  \\\n",
       "0      88.099998   88.559998   88.070000   88.290001   79200   87.513001   \n",
       "1      88.440002   88.440002   87.599998   87.629997   74900   87.541501   \n",
       "2      87.610001   87.739998   87.459999   87.660004   60900   87.606001   \n",
       "3      87.730003   87.730003   86.830002   87.110001   60600   87.689001   \n",
       "4      87.559998   88.070000   87.330002   87.760002  112500   87.801001   \n",
       "...          ...         ...         ...         ...     ...         ...   \n",
       "1214  247.960007  248.619995  245.710007  246.979996  170200  240.207498   \n",
       "1215  247.720001  249.649994  246.500000  249.160004  229400  240.459998   \n",
       "1216  250.690002  252.139999  249.289993  249.889999  190400  241.109499   \n",
       "1217  250.369995  252.750000  250.130005  250.630005  183400  241.824499   \n",
       "1218  251.929993  253.130005  251.179993  253.000000  343700  242.734499   \n",
       "\n",
       "             EMA  Momentum_20  \n",
       "0      87.881816     1.500000  \n",
       "1      87.848145     0.569999  \n",
       "2      87.822998     1.290001  \n",
       "3      87.727729     1.660004  \n",
       "4      87.732040     2.240005  \n",
       "...          ...          ...  \n",
       "1214  243.537685     0.699997  \n",
       "1215  244.287327     5.050003  \n",
       "1216  245.034350    12.990005  \n",
       "1217  245.780438    14.300003  \n",
       "1218  246.743046    18.199997  \n",
       "\n",
       "[1219 rows x 8 columns]"
      ]
     },
     "execution_count": 93,
     "metadata": {},
     "output_type": "execute_result"
    }
   ],
   "source": [
    "df.dropna(subset=['Momentum_20'],inplace=True)\n",
    "final_df=df.reset_index(drop=True)\n",
    "final_df"
   ]
  },
  {
   "cell_type": "code",
   "execution_count": 94,
   "metadata": {},
   "outputs": [
    {
     "data": {
      "text/html": [
       "<div>\n",
       "<style scoped>\n",
       "    .dataframe tbody tr th:only-of-type {\n",
       "        vertical-align: middle;\n",
       "    }\n",
       "\n",
       "    .dataframe tbody tr th {\n",
       "        vertical-align: top;\n",
       "    }\n",
       "\n",
       "    .dataframe thead th {\n",
       "        text-align: right;\n",
       "    }\n",
       "</style>\n",
       "<table border=\"1\" class=\"dataframe\">\n",
       "  <thead>\n",
       "    <tr style=\"text-align: right;\">\n",
       "      <th></th>\n",
       "      <th>Open</th>\n",
       "      <th>High</th>\n",
       "      <th>Low</th>\n",
       "      <th>Close</th>\n",
       "      <th>SMA20</th>\n",
       "      <th>EMA</th>\n",
       "      <th>Momentum_20</th>\n",
       "    </tr>\n",
       "  </thead>\n",
       "  <tbody>\n",
       "    <tr>\n",
       "      <th>0</th>\n",
       "      <td>88.099998</td>\n",
       "      <td>88.559998</td>\n",
       "      <td>88.070000</td>\n",
       "      <td>88.290001</td>\n",
       "      <td>87.513001</td>\n",
       "      <td>87.881816</td>\n",
       "      <td>1.500000</td>\n",
       "    </tr>\n",
       "    <tr>\n",
       "      <th>1</th>\n",
       "      <td>88.440002</td>\n",
       "      <td>88.440002</td>\n",
       "      <td>87.599998</td>\n",
       "      <td>87.629997</td>\n",
       "      <td>87.541501</td>\n",
       "      <td>87.848145</td>\n",
       "      <td>0.569999</td>\n",
       "    </tr>\n",
       "    <tr>\n",
       "      <th>2</th>\n",
       "      <td>87.610001</td>\n",
       "      <td>87.739998</td>\n",
       "      <td>87.459999</td>\n",
       "      <td>87.660004</td>\n",
       "      <td>87.606001</td>\n",
       "      <td>87.822998</td>\n",
       "      <td>1.290001</td>\n",
       "    </tr>\n",
       "    <tr>\n",
       "      <th>3</th>\n",
       "      <td>87.730003</td>\n",
       "      <td>87.730003</td>\n",
       "      <td>86.830002</td>\n",
       "      <td>87.110001</td>\n",
       "      <td>87.689001</td>\n",
       "      <td>87.727729</td>\n",
       "      <td>1.660004</td>\n",
       "    </tr>\n",
       "    <tr>\n",
       "      <th>4</th>\n",
       "      <td>87.559998</td>\n",
       "      <td>88.070000</td>\n",
       "      <td>87.330002</td>\n",
       "      <td>87.760002</td>\n",
       "      <td>87.801001</td>\n",
       "      <td>87.732040</td>\n",
       "      <td>2.240005</td>\n",
       "    </tr>\n",
       "    <tr>\n",
       "      <th>...</th>\n",
       "      <td>...</td>\n",
       "      <td>...</td>\n",
       "      <td>...</td>\n",
       "      <td>...</td>\n",
       "      <td>...</td>\n",
       "      <td>...</td>\n",
       "      <td>...</td>\n",
       "    </tr>\n",
       "    <tr>\n",
       "      <th>1214</th>\n",
       "      <td>247.960007</td>\n",
       "      <td>248.619995</td>\n",
       "      <td>245.710007</td>\n",
       "      <td>246.979996</td>\n",
       "      <td>240.207498</td>\n",
       "      <td>243.537685</td>\n",
       "      <td>0.699997</td>\n",
       "    </tr>\n",
       "    <tr>\n",
       "      <th>1215</th>\n",
       "      <td>247.720001</td>\n",
       "      <td>249.649994</td>\n",
       "      <td>246.500000</td>\n",
       "      <td>249.160004</td>\n",
       "      <td>240.459998</td>\n",
       "      <td>244.287327</td>\n",
       "      <td>5.050003</td>\n",
       "    </tr>\n",
       "    <tr>\n",
       "      <th>1216</th>\n",
       "      <td>250.690002</td>\n",
       "      <td>252.139999</td>\n",
       "      <td>249.289993</td>\n",
       "      <td>249.889999</td>\n",
       "      <td>241.109499</td>\n",
       "      <td>245.034350</td>\n",
       "      <td>12.990005</td>\n",
       "    </tr>\n",
       "    <tr>\n",
       "      <th>1217</th>\n",
       "      <td>250.369995</td>\n",
       "      <td>252.750000</td>\n",
       "      <td>250.130005</td>\n",
       "      <td>250.630005</td>\n",
       "      <td>241.824499</td>\n",
       "      <td>245.780438</td>\n",
       "      <td>14.300003</td>\n",
       "    </tr>\n",
       "    <tr>\n",
       "      <th>1218</th>\n",
       "      <td>251.929993</td>\n",
       "      <td>253.130005</td>\n",
       "      <td>251.179993</td>\n",
       "      <td>253.000000</td>\n",
       "      <td>242.734499</td>\n",
       "      <td>246.743046</td>\n",
       "      <td>18.199997</td>\n",
       "    </tr>\n",
       "  </tbody>\n",
       "</table>\n",
       "<p>1219 rows × 7 columns</p>\n",
       "</div>"
      ],
      "text/plain": [
       "            Open        High         Low       Close       SMA20         EMA  \\\n",
       "0      88.099998   88.559998   88.070000   88.290001   87.513001   87.881816   \n",
       "1      88.440002   88.440002   87.599998   87.629997   87.541501   87.848145   \n",
       "2      87.610001   87.739998   87.459999   87.660004   87.606001   87.822998   \n",
       "3      87.730003   87.730003   86.830002   87.110001   87.689001   87.727729   \n",
       "4      87.559998   88.070000   87.330002   87.760002   87.801001   87.732040   \n",
       "...          ...         ...         ...         ...         ...         ...   \n",
       "1214  247.960007  248.619995  245.710007  246.979996  240.207498  243.537685   \n",
       "1215  247.720001  249.649994  246.500000  249.160004  240.459998  244.287327   \n",
       "1216  250.690002  252.139999  249.289993  249.889999  241.109499  245.034350   \n",
       "1217  250.369995  252.750000  250.130005  250.630005  241.824499  245.780438   \n",
       "1218  251.929993  253.130005  251.179993  253.000000  242.734499  246.743046   \n",
       "\n",
       "      Momentum_20  \n",
       "0        1.500000  \n",
       "1        0.569999  \n",
       "2        1.290001  \n",
       "3        1.660004  \n",
       "4        2.240005  \n",
       "...           ...  \n",
       "1214     0.699997  \n",
       "1215     5.050003  \n",
       "1216    12.990005  \n",
       "1217    14.300003  \n",
       "1218    18.199997  \n",
       "\n",
       "[1219 rows x 7 columns]"
      ]
     },
     "execution_count": 94,
     "metadata": {},
     "output_type": "execute_result"
    }
   ],
   "source": [
    "# filter out the features df we use to train our logistic regression model\n",
    "features=df.filter(['Open','High','Low','Close','SMA20','EMA','Momentum_20'])\n",
    "features=features.reset_index(drop=True)\n",
    "features"
   ]
  },
  {
   "cell_type": "code",
   "execution_count": 95,
   "metadata": {},
   "outputs": [],
   "source": [
    "# This code is assinging binary labels 1 and 0 depending if the stock previous close price is either above or below, \n",
    "# the nex days one respectively\n",
    "is_first = True\n",
    "target_vec = []\n",
    "prev_close = 0\n",
    "for i in final_df['Close']:\n",
    "    if is_first:\n",
    "        target_vec.append(0)\n",
    "        is_first = False\n",
    "    else:\n",
    "        val = 1 if (i>prev_close) else 0\n",
    "        target_vec.append(val)\n",
    "    prev_close = i\n",
    "final_df['target'] = target_vec"
   ]
  },
  {
   "cell_type": "code",
   "execution_count": 96,
   "metadata": {},
   "outputs": [
    {
     "data": {
      "text/html": [
       "<div>\n",
       "<style scoped>\n",
       "    .dataframe tbody tr th:only-of-type {\n",
       "        vertical-align: middle;\n",
       "    }\n",
       "\n",
       "    .dataframe tbody tr th {\n",
       "        vertical-align: top;\n",
       "    }\n",
       "\n",
       "    .dataframe thead th {\n",
       "        text-align: right;\n",
       "    }\n",
       "</style>\n",
       "<table border=\"1\" class=\"dataframe\">\n",
       "  <thead>\n",
       "    <tr style=\"text-align: right;\">\n",
       "      <th></th>\n",
       "      <th>Open</th>\n",
       "      <th>High</th>\n",
       "      <th>Low</th>\n",
       "      <th>Close</th>\n",
       "      <th>SMA20</th>\n",
       "      <th>EMA</th>\n",
       "      <th>Momentum_20</th>\n",
       "      <th>target</th>\n",
       "    </tr>\n",
       "  </thead>\n",
       "  <tbody>\n",
       "    <tr>\n",
       "      <th>0</th>\n",
       "      <td>88.099998</td>\n",
       "      <td>88.559998</td>\n",
       "      <td>88.070000</td>\n",
       "      <td>88.290001</td>\n",
       "      <td>87.513001</td>\n",
       "      <td>87.881816</td>\n",
       "      <td>1.500000</td>\n",
       "      <td>0</td>\n",
       "    </tr>\n",
       "    <tr>\n",
       "      <th>1</th>\n",
       "      <td>88.440002</td>\n",
       "      <td>88.440002</td>\n",
       "      <td>87.599998</td>\n",
       "      <td>87.629997</td>\n",
       "      <td>87.541501</td>\n",
       "      <td>87.848145</td>\n",
       "      <td>0.569999</td>\n",
       "      <td>0</td>\n",
       "    </tr>\n",
       "    <tr>\n",
       "      <th>2</th>\n",
       "      <td>87.610001</td>\n",
       "      <td>87.739998</td>\n",
       "      <td>87.459999</td>\n",
       "      <td>87.660004</td>\n",
       "      <td>87.606001</td>\n",
       "      <td>87.822998</td>\n",
       "      <td>1.290001</td>\n",
       "      <td>1</td>\n",
       "    </tr>\n",
       "    <tr>\n",
       "      <th>3</th>\n",
       "      <td>87.730003</td>\n",
       "      <td>87.730003</td>\n",
       "      <td>86.830002</td>\n",
       "      <td>87.110001</td>\n",
       "      <td>87.689001</td>\n",
       "      <td>87.727729</td>\n",
       "      <td>1.660004</td>\n",
       "      <td>0</td>\n",
       "    </tr>\n",
       "    <tr>\n",
       "      <th>4</th>\n",
       "      <td>87.559998</td>\n",
       "      <td>88.070000</td>\n",
       "      <td>87.330002</td>\n",
       "      <td>87.760002</td>\n",
       "      <td>87.801001</td>\n",
       "      <td>87.732040</td>\n",
       "      <td>2.240005</td>\n",
       "      <td>1</td>\n",
       "    </tr>\n",
       "    <tr>\n",
       "      <th>...</th>\n",
       "      <td>...</td>\n",
       "      <td>...</td>\n",
       "      <td>...</td>\n",
       "      <td>...</td>\n",
       "      <td>...</td>\n",
       "      <td>...</td>\n",
       "      <td>...</td>\n",
       "      <td>...</td>\n",
       "    </tr>\n",
       "    <tr>\n",
       "      <th>1214</th>\n",
       "      <td>247.960007</td>\n",
       "      <td>248.619995</td>\n",
       "      <td>245.710007</td>\n",
       "      <td>246.979996</td>\n",
       "      <td>240.207498</td>\n",
       "      <td>243.537685</td>\n",
       "      <td>0.699997</td>\n",
       "      <td>0</td>\n",
       "    </tr>\n",
       "    <tr>\n",
       "      <th>1215</th>\n",
       "      <td>247.720001</td>\n",
       "      <td>249.649994</td>\n",
       "      <td>246.500000</td>\n",
       "      <td>249.160004</td>\n",
       "      <td>240.459998</td>\n",
       "      <td>244.287327</td>\n",
       "      <td>5.050003</td>\n",
       "      <td>1</td>\n",
       "    </tr>\n",
       "    <tr>\n",
       "      <th>1216</th>\n",
       "      <td>250.690002</td>\n",
       "      <td>252.139999</td>\n",
       "      <td>249.289993</td>\n",
       "      <td>249.889999</td>\n",
       "      <td>241.109499</td>\n",
       "      <td>245.034350</td>\n",
       "      <td>12.990005</td>\n",
       "      <td>1</td>\n",
       "    </tr>\n",
       "    <tr>\n",
       "      <th>1217</th>\n",
       "      <td>250.369995</td>\n",
       "      <td>252.750000</td>\n",
       "      <td>250.130005</td>\n",
       "      <td>250.630005</td>\n",
       "      <td>241.824499</td>\n",
       "      <td>245.780438</td>\n",
       "      <td>14.300003</td>\n",
       "      <td>1</td>\n",
       "    </tr>\n",
       "    <tr>\n",
       "      <th>1218</th>\n",
       "      <td>251.929993</td>\n",
       "      <td>253.130005</td>\n",
       "      <td>251.179993</td>\n",
       "      <td>253.000000</td>\n",
       "      <td>242.734499</td>\n",
       "      <td>246.743046</td>\n",
       "      <td>18.199997</td>\n",
       "      <td>1</td>\n",
       "    </tr>\n",
       "  </tbody>\n",
       "</table>\n",
       "<p>1219 rows × 8 columns</p>\n",
       "</div>"
      ],
      "text/plain": [
       "            Open        High         Low       Close       SMA20         EMA  \\\n",
       "0      88.099998   88.559998   88.070000   88.290001   87.513001   87.881816   \n",
       "1      88.440002   88.440002   87.599998   87.629997   87.541501   87.848145   \n",
       "2      87.610001   87.739998   87.459999   87.660004   87.606001   87.822998   \n",
       "3      87.730003   87.730003   86.830002   87.110001   87.689001   87.727729   \n",
       "4      87.559998   88.070000   87.330002   87.760002   87.801001   87.732040   \n",
       "...          ...         ...         ...         ...         ...         ...   \n",
       "1214  247.960007  248.619995  245.710007  246.979996  240.207498  243.537685   \n",
       "1215  247.720001  249.649994  246.500000  249.160004  240.459998  244.287327   \n",
       "1216  250.690002  252.139999  249.289993  249.889999  241.109499  245.034350   \n",
       "1217  250.369995  252.750000  250.130005  250.630005  241.824499  245.780438   \n",
       "1218  251.929993  253.130005  251.179993  253.000000  242.734499  246.743046   \n",
       "\n",
       "      Momentum_20  target  \n",
       "0        1.500000       0  \n",
       "1        0.569999       0  \n",
       "2        1.290001       1  \n",
       "3        1.660004       0  \n",
       "4        2.240005       1  \n",
       "...           ...     ...  \n",
       "1214     0.699997       0  \n",
       "1215     5.050003       1  \n",
       "1216    12.990005       1  \n",
       "1217    14.300003       1  \n",
       "1218    18.199997       1  \n",
       "\n",
       "[1219 rows x 8 columns]"
      ]
     },
     "execution_count": 96,
     "metadata": {},
     "output_type": "execute_result"
    }
   ],
   "source": [
    "final_df.drop('Volume',axis=1,inplace=True)\n",
    "final_df"
   ]
  },
  {
   "cell_type": "markdown",
   "metadata": {},
   "source": [
    "# Correlation Matrix "
   ]
  },
  {
   "cell_type": "code",
   "execution_count": 97,
   "metadata": {},
   "outputs": [
    {
     "data": {
      "text/plain": [
       "<AxesSubplot:>"
      ]
     },
     "execution_count": 97,
     "metadata": {},
     "output_type": "execute_result"
    },
    {
     "data": {
      "image/png": "[encoded data removed]",
      "text/plain": [
       "<Figure size 432x288 with 2 Axes>"
      ]
     },
     "metadata": {
      "needs_background": "light"
     },
     "output_type": "display_data"
    }
   ],
   "source": [
    "# Here we build a correlation matrix and visualse.\n",
    "corr=features.corr()\n",
    "sns.heatmap(corr,annot=True,cmap='coolwarm')"
   ]
  },
  {
   "cell_type": "markdown",
   "metadata": {},
   "source": [
    "# Features Scaling MinMax, Standard Scaling\n"
   ]
  },
  {
   "cell_type": "markdown",
   "metadata": {},
   "source": [
    "# StandardScaling"
   ]
  },
  {
   "cell_type": "code",
   "execution_count": 13,
   "metadata": {},
   "outputs": [],
   "source": [
    "from sklearn.preprocessing import StandardScaler\n",
    "scaled_features =StandardScaler().fit_transform(features.values)"
   ]
  },
  {
   "cell_type": "code",
   "execution_count": 14,
   "metadata": {},
   "outputs": [
    {
     "data": {
      "text/html": [
       "<div>\n",
       "<style scoped>\n",
       "    .dataframe tbody tr th:only-of-type {\n",
       "        vertical-align: middle;\n",
       "    }\n",
       "\n",
       "    .dataframe tbody tr th {\n",
       "        vertical-align: top;\n",
       "    }\n",
       "\n",
       "    .dataframe thead th {\n",
       "        text-align: right;\n",
       "    }\n",
       "</style>\n",
       "<table border=\"1\" class=\"dataframe\">\n",
       "  <thead>\n",
       "    <tr style=\"text-align: right;\">\n",
       "      <th></th>\n",
       "      <th>Open</th>\n",
       "      <th>High</th>\n",
       "      <th>Low</th>\n",
       "      <th>Close</th>\n",
       "      <th>SMA20</th>\n",
       "      <th>EMA</th>\n",
       "      <th>Momentum_20</th>\n",
       "    </tr>\n",
       "  </thead>\n",
       "  <tbody>\n",
       "    <tr>\n",
       "      <th>0</th>\n",
       "      <td>-1.281171</td>\n",
       "      <td>-1.281545</td>\n",
       "      <td>-1.270074</td>\n",
       "      <td>-1.276920</td>\n",
       "      <td>-1.288508</td>\n",
       "      <td>-1.283263</td>\n",
       "      <td>-0.134953</td>\n",
       "    </tr>\n",
       "    <tr>\n",
       "      <th>1</th>\n",
       "      <td>-1.273531</td>\n",
       "      <td>-1.284224</td>\n",
       "      <td>-1.280720</td>\n",
       "      <td>-1.291746</td>\n",
       "      <td>-1.287857</td>\n",
       "      <td>-1.284029</td>\n",
       "      <td>-0.254718</td>\n",
       "    </tr>\n",
       "    <tr>\n",
       "      <th>2</th>\n",
       "      <td>-1.292182</td>\n",
       "      <td>-1.299853</td>\n",
       "      <td>-1.283891</td>\n",
       "      <td>-1.291072</td>\n",
       "      <td>-1.286383</td>\n",
       "      <td>-1.284602</td>\n",
       "      <td>-0.161996</td>\n",
       "    </tr>\n",
       "    <tr>\n",
       "      <th>3</th>\n",
       "      <td>-1.289485</td>\n",
       "      <td>-1.300076</td>\n",
       "      <td>-1.298160</td>\n",
       "      <td>-1.303428</td>\n",
       "      <td>-1.284486</td>\n",
       "      <td>-1.286769</td>\n",
       "      <td>-0.114347</td>\n",
       "    </tr>\n",
       "    <tr>\n",
       "      <th>4</th>\n",
       "      <td>-1.293305</td>\n",
       "      <td>-1.292485</td>\n",
       "      <td>-1.286835</td>\n",
       "      <td>-1.288826</td>\n",
       "      <td>-1.281927</td>\n",
       "      <td>-1.286671</td>\n",
       "      <td>-0.039655</td>\n",
       "    </tr>\n",
       "    <tr>\n",
       "      <th>...</th>\n",
       "      <td>...</td>\n",
       "      <td>...</td>\n",
       "      <td>...</td>\n",
       "      <td>...</td>\n",
       "      <td>...</td>\n",
       "      <td>...</td>\n",
       "      <td>...</td>\n",
       "    </tr>\n",
       "    <tr>\n",
       "      <th>1214</th>\n",
       "      <td>2.311031</td>\n",
       "      <td>2.292086</td>\n",
       "      <td>2.300517</td>\n",
       "      <td>2.287965</td>\n",
       "      <td>2.200883</td>\n",
       "      <td>2.258199</td>\n",
       "      <td>-0.237977</td>\n",
       "    </tr>\n",
       "    <tr>\n",
       "      <th>1215</th>\n",
       "      <td>2.305638</td>\n",
       "      <td>2.315083</td>\n",
       "      <td>2.318411</td>\n",
       "      <td>2.336938</td>\n",
       "      <td>2.206653</td>\n",
       "      <td>2.275255</td>\n",
       "      <td>0.322216</td>\n",
       "    </tr>\n",
       "    <tr>\n",
       "      <th>1216</th>\n",
       "      <td>2.372377</td>\n",
       "      <td>2.370677</td>\n",
       "      <td>2.381605</td>\n",
       "      <td>2.353337</td>\n",
       "      <td>2.221495</td>\n",
       "      <td>2.292251</td>\n",
       "      <td>1.344729</td>\n",
       "    </tr>\n",
       "    <tr>\n",
       "      <th>1217</th>\n",
       "      <td>2.365186</td>\n",
       "      <td>2.384296</td>\n",
       "      <td>2.400631</td>\n",
       "      <td>2.369961</td>\n",
       "      <td>2.237834</td>\n",
       "      <td>2.309226</td>\n",
       "      <td>1.513430</td>\n",
       "    </tr>\n",
       "    <tr>\n",
       "      <th>1218</th>\n",
       "      <td>2.400240</td>\n",
       "      <td>2.392780</td>\n",
       "      <td>2.424414</td>\n",
       "      <td>2.423201</td>\n",
       "      <td>2.258630</td>\n",
       "      <td>2.331127</td>\n",
       "      <td>2.015671</td>\n",
       "    </tr>\n",
       "  </tbody>\n",
       "</table>\n",
       "<p>1219 rows × 7 columns</p>\n",
       "</div>"
      ],
      "text/plain": [
       "          Open      High       Low     Close     SMA20       EMA  Momentum_20\n",
       "0    -1.281171 -1.281545 -1.270074 -1.276920 -1.288508 -1.283263    -0.134953\n",
       "1    -1.273531 -1.284224 -1.280720 -1.291746 -1.287857 -1.284029    -0.254718\n",
       "2    -1.292182 -1.299853 -1.283891 -1.291072 -1.286383 -1.284602    -0.161996\n",
       "3    -1.289485 -1.300076 -1.298160 -1.303428 -1.284486 -1.286769    -0.114347\n",
       "4    -1.293305 -1.292485 -1.286835 -1.288826 -1.281927 -1.286671    -0.039655\n",
       "...        ...       ...       ...       ...       ...       ...          ...\n",
       "1214  2.311031  2.292086  2.300517  2.287965  2.200883  2.258199    -0.237977\n",
       "1215  2.305638  2.315083  2.318411  2.336938  2.206653  2.275255     0.322216\n",
       "1216  2.372377  2.370677  2.381605  2.353337  2.221495  2.292251     1.344729\n",
       "1217  2.365186  2.384296  2.400631  2.369961  2.237834  2.309226     1.513430\n",
       "1218  2.400240  2.392780  2.424414  2.423201  2.258630  2.331127     2.015671\n",
       "\n",
       "[1219 rows x 7 columns]"
      ]
     },
     "execution_count": 14,
     "metadata": {},
     "output_type": "execute_result"
    }
   ],
   "source": [
    "# This is our scaled features df\n",
    "scaled_features_df=pd.DataFrame(scaled_features, index=features.index, columns=features.columns)\n",
    "scaled_features_df"
   ]
  },
  {
   "cell_type": "markdown",
   "metadata": {},
   "source": [
    "MinMax Scaler"
   ]
  },
  {
   "cell_type": "code",
   "execution_count": 15,
   "metadata": {},
   "outputs": [],
   "source": [
    "#from sklearn import preprocessing\n",
    "#minmax_scale = preprocessing.MinMaxScaler(feature_range=(0,1))\n",
    "#minmax_scaled_f=minmax_scale.fit_transform(features.values)\n",
    "#minmax_scaled_df=pd.DataFrame(minmax_scaled_f,index=features.index,columns=features.columns)\n",
    "#minmax_scaled_df"
   ]
  },
  {
   "cell_type": "markdown",
   "metadata": {},
   "source": [
    "Define features and targets(labels)"
   ]
  },
  {
   "cell_type": "code",
   "execution_count": 16,
   "metadata": {},
   "outputs": [],
   "source": [
    "X=scaled_features_df.values\n",
    "y=final_df['target'].values"
   ]
  },
  {
   "cell_type": "markdown",
   "metadata": {},
   "source": [
    "# Train test and split."
   ]
  },
  {
   "cell_type": "code",
   "execution_count": 17,
   "metadata": {},
   "outputs": [
    {
     "name": "stdout",
     "output_type": "stream",
     "text": [
      "Train and Test Size 731, 488\n"
     ]
    }
   ],
   "source": [
    "# Running imports from sklearn to split train and test\n",
    "from sklearn.model_selection import train_test_split\n",
    "from sklearn.preprocessing import StandardScaler\n",
    "from sklearn.pipeline import Pipeline\n",
    "from sklearn.linear_model import LogisticRegression, Lasso, Ridge\n",
    "\n",
    "# Metrics\n",
    "from sklearn.metrics import mean_squared_error\n",
    "\n",
    "X_train, X_test, y_train, y_test = train_test_split(X, y, test_size=0.4, random_state=0)\n",
    "print(f\"Train and Test Size {len(X_train)}, {len(X_test)}\")\n"
   ]
  },
  {
   "cell_type": "markdown",
   "metadata": {},
   "source": [
    "# Logit Regression and Predicting "
   ]
  },
  {
   "cell_type": "code",
   "execution_count": 18,
   "metadata": {},
   "outputs": [
    {
     "data": {
      "text/plain": [
       "0.6347469220246238"
      ]
     },
     "execution_count": 18,
     "metadata": {},
     "output_type": "execute_result"
    }
   ],
   "source": [
    "#Method 1 logstic regression and predicitng\n",
    "logreg = LogisticRegression()\n",
    "logreg.fit(X_train, y_train)\n",
    "y_pred = logreg.predict(X_test)\n",
    "logreg.score(X_train, y_train)"
   ]
  },
  {
   "cell_type": "markdown",
   "metadata": {},
   "source": [
    "# Confusion Matrix and scores "
   ]
  },
  {
   "cell_type": "code",
   "execution_count": 19,
   "metadata": {},
   "outputs": [
    {
     "data": {
      "text/plain": [
       "array([[ 52, 151],\n",
       "       [ 32, 253]], dtype=int64)"
      ]
     },
     "execution_count": 19,
     "metadata": {},
     "output_type": "execute_result"
    }
   ],
   "source": [
    "# Calculating the accuary of our model via confusion matrix\n",
    "from sklearn.metrics import(confusion_matrix,accuracy_score) \n",
    "from sklearn import metrics\n",
    "cm=metrics.confusion_matrix(y_test,y_pred)\n",
    "cm"
   ]
  },
  {
   "cell_type": "code",
   "execution_count": 20,
   "metadata": {},
   "outputs": [
    {
     "name": "stdout",
     "output_type": "stream",
     "text": [
      "              precision    recall  f1-score   support\n",
      "\n",
      "           0       0.62      0.26      0.36       203\n",
      "           1       0.63      0.89      0.73       285\n",
      "\n",
      "    accuracy                           0.62       488\n",
      "   macro avg       0.62      0.57      0.55       488\n",
      "weighted avg       0.62      0.62      0.58       488\n",
      "\n",
      "f1 score:0.7343976777939043\n",
      "precision:0.6262376237623762\n",
      "recall_score:0.887719298245614\n"
     ]
    }
   ],
   "source": [
    "from sklearn.metrics import classification_report\n",
    "logreg = LogisticRegression()\n",
    "logreg.fit(X_train, y_train)\n",
    "y_pred = logreg.predict(X_test)\n",
    "print(classification_report(y_test, y_pred))\n",
    "#Calcuating Recall and Precision: (Summary)\n",
    "from sklearn.metrics import f1_score,precision_score,recall_score\n",
    "print(f'f1 score:{f1_score(y_test,y_pred)}')\n",
    "print(f'precision:{precision_score(y_test,y_pred)}')\n",
    "print(f'recall_score:{recall_score(y_test,y_pred)}')"
   ]
  },
  {
   "cell_type": "code",
   "execution_count": 21,
   "metadata": {},
   "outputs": [
    {
     "data": {
      "text/plain": [
       "<sklearn.metrics._plot.confusion_matrix.ConfusionMatrixDisplay at 0x29140396c40>"
      ]
     },
     "execution_count": 21,
     "metadata": {},
     "output_type": "execute_result"
    },
    {
     "data": {
      "image/png": "[encoded data removed]",
      "text/plain": [
       "<Figure size 432x288 with 2 Axes>"
      ]
     },
     "metadata": {
      "needs_background": "light"
     },
     "output_type": "display_data"
    }
   ],
   "source": [
    "from sklearn.metrics import confusion_matrix, ConfusionMatrixDisplay\n",
    "disp = ConfusionMatrixDisplay(confusion_matrix=cm, display_labels=logreg.classes_)\n",
    "disp.plot()"
   ]
  },
  {
   "cell_type": "code",
   "execution_count": 22,
   "metadata": {},
   "outputs": [
    {
     "name": "stdout",
     "output_type": "stream",
     "text": [
      "[0.58196721 0.58196721 0.63934426 0.62295082 0.71311475 0.68032787\n",
      " 0.64754098 0.62295082 0.67213115 0.69421488]\n",
      "0.645650995800027\n"
     ]
    }
   ],
   "source": [
    "from sklearn.linear_model import LogisticRegression\n",
    "from sklearn import metrics\n",
    "from sklearn.model_selection import cross_val_score\n",
    "cross_val = cross_val_score(LogisticRegression(), X, y, scoring='accuracy', cv=10)\n",
    "print(cross_val)\n",
    "print(cross_val.mean())"
   ]
  },
  {
   "cell_type": "markdown",
   "metadata": {},
   "source": [
    "As you can see the CV mean score is very similar to the actual score, hence we know the model is working fine."
   ]
  },
  {
   "cell_type": "code",
   "execution_count": 23,
   "metadata": {
    "scrolled": true
   },
   "outputs": [
    {
     "name": "stdout",
     "output_type": "stream",
     "text": [
      "[[-2.36428427 -0.12418921  0.60266798  3.22779982 -0.1729457  -1.20431848\n",
      "   0.33840344]]\n"
     ]
    }
   ],
   "source": [
    "print(logreg.coef_)"
   ]
  },
  {
   "cell_type": "markdown",
   "metadata": {},
   "source": [
    "# LASSO Logsitic regression L1 Penatly \n",
    "\n",
    "Penalty Terms\n",
    "L1 regularization adds an L1 penalty equal to the absolute value of the magnitude of coefficients\n",
    "\n",
    "A regression model that uses L1 regularization technique is called Lasso Regression and model which uses L2 is called Ridge Regression.\n",
    "The key difference between these two is the penalty term.\n",
    "\n",
    "\n",
    "Lasso Regression (Least Absolute Shrinkage and Selection Operator) adds “absolute value of magnitude” of coefficient as penalty term to the loss function."
   ]
  },
  {
   "cell_type": "code",
   "execution_count": 61,
   "metadata": {},
   "outputs": [],
   "source": [
    "from sklearn import linear_model\n",
    "log_reg_L1=linear_model.LogisticRegression(C=1,penalty='l1', solver='liblinear')"
   ]
  },
  {
   "cell_type": "code",
   "execution_count": 62,
   "metadata": {},
   "outputs": [
    {
     "data": {
      "text/plain": [
       "0.7745901639344263"
      ]
     },
     "execution_count": 62,
     "metadata": {},
     "output_type": "execute_result"
    }
   ],
   "source": [
    "log_reg_L1.fit(X_train,y_train)\n",
    "log_reg_L1.score(X_test,y_test) #You can see L1 has penalised those features that do not contribute much. hence the score has \n",
    "#improved abit."
   ]
  },
  {
   "cell_type": "code",
   "execution_count": 63,
   "metadata": {},
   "outputs": [
    {
     "name": "stdout",
     "output_type": "stream",
     "text": [
      "[[-28.53492397   0.           0.          34.43521307   0.\n",
      "   -5.85621281   0.13307604]]\n"
     ]
    }
   ],
   "source": [
    "print(log_reg_L1.coef_)"
   ]
  },
  {
   "cell_type": "markdown",
   "metadata": {},
   "source": [
    "As you can see Lasso L1 penealises the features that do not contribute. And the most contribute features are; <br>\n",
    "1)Open <br> \n",
    "2)Close <br>\n",
    "3)EMA <br>\n",
    "4)Momentum_20 <br>\n",
    " "
   ]
  },
  {
   "cell_type": "code",
   "execution_count": 64,
   "metadata": {},
   "outputs": [
    {
     "name": "stderr",
     "output_type": "stream",
     "text": [
      "C:\\Users\\bavsr\\OneDrive\\Documents\\lib\\site-packages\\sklearn\\svm\\_base.py:976: ConvergenceWarning: Liblinear failed to converge, increase the number of iterations.\n",
      "  warnings.warn(\"Liblinear failed to converge, increase \"\n",
      "C:\\Users\\bavsr\\OneDrive\\Documents\\lib\\site-packages\\sklearn\\svm\\_base.py:976: ConvergenceWarning: Liblinear failed to converge, increase the number of iterations.\n",
      "  warnings.warn(\"Liblinear failed to converge, increase \"\n",
      "C:\\Users\\bavsr\\OneDrive\\Documents\\lib\\site-packages\\sklearn\\svm\\_base.py:976: ConvergenceWarning: Liblinear failed to converge, increase the number of iterations.\n",
      "  warnings.warn(\"Liblinear failed to converge, increase \"\n",
      "C:\\Users\\bavsr\\OneDrive\\Documents\\lib\\site-packages\\sklearn\\svm\\_base.py:976: ConvergenceWarning: Liblinear failed to converge, increase the number of iterations.\n",
      "  warnings.warn(\"Liblinear failed to converge, increase \"\n",
      "C:\\Users\\bavsr\\OneDrive\\Documents\\lib\\site-packages\\sklearn\\svm\\_base.py:976: ConvergenceWarning: Liblinear failed to converge, increase the number of iterations.\n",
      "  warnings.warn(\"Liblinear failed to converge, increase \"\n",
      "C:\\Users\\bavsr\\OneDrive\\Documents\\lib\\site-packages\\sklearn\\svm\\_base.py:976: ConvergenceWarning: Liblinear failed to converge, increase the number of iterations.\n",
      "  warnings.warn(\"Liblinear failed to converge, increase \"\n"
     ]
    },
    {
     "data": {
      "text/plain": [
       "GridSearchCV(estimator=LogisticRegression(C=1, penalty='l1',\n",
       "                                          solver='liblinear'),\n",
       "             param_grid={'C': [0.001, 0.01, 0.1, 10]})"
      ]
     },
     "execution_count": 64,
     "metadata": {},
     "output_type": "execute_result"
    }
   ],
   "source": [
    "#Hyperparamter Tuning and finding the optimal 'C' through grid search method \n",
    "from sklearn.model_selection import GridSearchCV\n",
    "grid=GridSearchCV(log_reg_L1,{'C':[.001,.01,.1,10]})\n",
    "grid.fit(X_train,y_train)"
   ]
  },
  {
   "cell_type": "code",
   "execution_count": 65,
   "metadata": {},
   "outputs": [
    {
     "name": "stdout",
     "output_type": "stream",
     "text": [
      "Best value of C is:{'C': 10}\n",
      "Best Score value is0.8016401080980338\n"
     ]
    }
   ],
   "source": [
    "print(f'Best value of C is:{grid.best_params_}')\n",
    "print(f'Best Score value is{grid.best_score_}')\n"
   ]
  },
  {
   "cell_type": "markdown",
   "metadata": {},
   "source": [
    "# Ridge Regression L2"
   ]
  },
  {
   "cell_type": "code",
   "execution_count": 66,
   "metadata": {},
   "outputs": [],
   "source": [
    "#Method 2\n",
    "rid = Pipeline([\n",
    "    ('scaler', StandardScaler()),\n",
    "    ('regressor', Ridge(alpha=1))\n",
    "])"
   ]
  },
  {
   "cell_type": "code",
   "execution_count": 67,
   "metadata": {},
   "outputs": [
    {
     "name": "stdout",
     "output_type": "stream",
     "text": [
      "R^2 Train: 0.2276\n",
      "R^2 Test: 0.2214\n"
     ]
    }
   ],
   "source": [
    "rid.fit(X, y)\n",
    "print(f'R^2 Train: {rid.score(X_train, y_train):0.4}')\n",
    "print(f'R^2 Test: {rid.score(X_test, y_test):0.4}')"
   ]
  },
  {
   "cell_type": "code",
   "execution_count": 68,
   "metadata": {},
   "outputs": [
    {
     "data": {
      "text/plain": [
       "array([-2.82438954, -0.15626795,  0.41067267,  3.49676034,  0.21227235,\n",
       "       -1.13881937,  0.02784599])"
      ]
     },
     "execution_count": 68,
     "metadata": {},
     "output_type": "execute_result"
    }
   ],
   "source": [
    "rid['regressor'].coef_ "
   ]
  },
  {
   "cell_type": "code",
   "execution_count": 69,
   "metadata": {},
   "outputs": [],
   "source": [
    "# alpha_range = np.arange(1,2000,100)\n",
    "alpha_range = 10**np.linspace(6,-2,100)*0.5\n",
    "rid_coef = []\n",
    "\n",
    "for i in alpha_range:\n",
    "    rid = Pipeline([('scaler', StandardScaler()), ('regressor', Ridge(alpha=i))])\n",
    "    rid.fit(X, y)\n",
    "    rid_coef.append(rid['regressor'].coef_)"
   ]
  },
  {
   "cell_type": "code",
   "execution_count": 70,
   "metadata": {},
   "outputs": [],
   "source": [
    "def plot_coeff(alpha_range, coef, modelname):\n",
    "    \n",
    "    # Plot Coefficients\n",
    "    fig = plt.figure(figsize=(20,8))\n",
    "    ax = plt.axes()\n",
    "    \n",
    "    ax.plot(alpha_range, coef)\n",
    "    ax.set_xscale('log')\n",
    "    ax.set_xlim(ax.get_xlim()[::-1])  # reverse axis\n",
    "    ax.set_title(f'{modelname} coefficients as a function of the regularization')\n",
    "    ax.set_xlabel('$\\lambda$')\n",
    "    ax.set_ylabel('$\\mathbf{w}$')\n",
    "    "
   ]
  },
  {
   "cell_type": "code",
   "execution_count": 71,
   "metadata": {},
   "outputs": [
    {
     "data": {
      "image/png": "[encoded data removed]",
      "text/plain": [
       "<Figure size 1440x576 with 1 Axes>"
      ]
     },
     "metadata": {
      "needs_background": "light"
     },
     "output_type": "display_data"
    }
   ],
   "source": [
    "# Plot Coefficients\n",
    "plot_coeff(alpha_range, rid_coef, 'Ridge')"
   ]
  },
  {
   "cell_type": "markdown",
   "metadata": {},
   "source": [
    "As you can see, the 3 highest coffiecent(features) is Close, Low price and SMA20"
   ]
  },
  {
   "cell_type": "markdown",
   "metadata": {},
   "source": [
    "PLotting and comparing the features that Lasso and Ridge gave us."
   ]
  },
  {
   "cell_type": "markdown",
   "metadata": {},
   "source": [
    "Lasso (L1) vs Ridge(L2)"
   ]
  },
  {
   "cell_type": "code",
   "execution_count": 72,
   "metadata": {},
   "outputs": [
    {
     "data": {
      "text/html": [
       "<div>\n",
       "<style scoped>\n",
       "    .dataframe tbody tr th:only-of-type {\n",
       "        vertical-align: middle;\n",
       "    }\n",
       "\n",
       "    .dataframe tbody tr th {\n",
       "        vertical-align: top;\n",
       "    }\n",
       "\n",
       "    .dataframe thead th {\n",
       "        text-align: right;\n",
       "    }\n",
       "</style>\n",
       "<table border=\"1\" class=\"dataframe\">\n",
       "  <thead>\n",
       "    <tr style=\"text-align: right;\">\n",
       "      <th></th>\n",
       "      <th>Open</th>\n",
       "      <th>High</th>\n",
       "      <th>Low</th>\n",
       "      <th>Close</th>\n",
       "      <th>SM20</th>\n",
       "      <th>EMA</th>\n",
       "      <th>Momentum_20</th>\n",
       "    </tr>\n",
       "  </thead>\n",
       "  <tbody>\n",
       "    <tr>\n",
       "      <th>LASSO L1</th>\n",
       "      <td>-28.534924</td>\n",
       "      <td>0.0</td>\n",
       "      <td>0.0</td>\n",
       "      <td>34.435213</td>\n",
       "      <td>0.0</td>\n",
       "      <td>-5.856213</td>\n",
       "      <td>0.133076</td>\n",
       "    </tr>\n",
       "  </tbody>\n",
       "</table>\n",
       "</div>"
      ],
      "text/plain": [
       "               Open  High  Low      Close  SM20       EMA  Momentum_20\n",
       "LASSO L1 -28.534924   0.0  0.0  34.435213   0.0 -5.856213     0.133076"
      ]
     },
     "execution_count": 72,
     "metadata": {},
     "output_type": "execute_result"
    }
   ],
   "source": [
    "lasso_df=pd.DataFrame(log_reg_L1.coef_,columns=['Open','High','Low','Close','SM20','EMA','Momentum_20'],index=['LASSO L1'])\n",
    "lasso_df\n"
   ]
  },
  {
   "cell_type": "code",
   "execution_count": 73,
   "metadata": {},
   "outputs": [
    {
     "data": {
      "text/html": [
       "<div>\n",
       "<style scoped>\n",
       "    .dataframe tbody tr th:only-of-type {\n",
       "        vertical-align: middle;\n",
       "    }\n",
       "\n",
       "    .dataframe tbody tr th {\n",
       "        vertical-align: top;\n",
       "    }\n",
       "\n",
       "    .dataframe thead th {\n",
       "        text-align: right;\n",
       "    }\n",
       "</style>\n",
       "<table border=\"1\" class=\"dataframe\">\n",
       "  <thead>\n",
       "    <tr style=\"text-align: right;\">\n",
       "      <th></th>\n",
       "      <th>RIDEG L2</th>\n",
       "    </tr>\n",
       "  </thead>\n",
       "  <tbody>\n",
       "    <tr>\n",
       "      <th>Open</th>\n",
       "      <td>-2.82438954</td>\n",
       "    </tr>\n",
       "    <tr>\n",
       "      <th>High</th>\n",
       "      <td>-0.15626795</td>\n",
       "    </tr>\n",
       "    <tr>\n",
       "      <th>Low</th>\n",
       "      <td>0.41067267</td>\n",
       "    </tr>\n",
       "    <tr>\n",
       "      <th>Close</th>\n",
       "      <td>3.49676034</td>\n",
       "    </tr>\n",
       "    <tr>\n",
       "      <th>SM20</th>\n",
       "      <td>0.21227235</td>\n",
       "    </tr>\n",
       "    <tr>\n",
       "      <th>EMA</th>\n",
       "      <td>-1.13881937</td>\n",
       "    </tr>\n",
       "    <tr>\n",
       "      <th>Momentum_20</th>\n",
       "      <td>0.02784599</td>\n",
       "    </tr>\n",
       "  </tbody>\n",
       "</table>\n",
       "</div>"
      ],
      "text/plain": [
       "                RIDEG L2\n",
       "Open         -2.82438954\n",
       "High         -0.15626795\n",
       "Low           0.41067267\n",
       "Close         3.49676034\n",
       "SM20          0.21227235\n",
       "EMA          -1.13881937\n",
       "Momentum_20   0.02784599"
      ]
     },
     "execution_count": 73,
     "metadata": {},
     "output_type": "execute_result"
    }
   ],
   "source": [
    "dic={'RIDEG L2':['-2.82438954', '-0.15626795',  '0.41067267',  '3.49676034',  '0.21227235','-1.13881937',  '0.02784599']}\n",
    "rid_df=pd.DataFrame(dic, index =['Open','High','Low','Close','SM20','EMA','Momentum_20'])  \n",
    "rid_df"
   ]
  },
  {
   "cell_type": "code",
   "execution_count": 74,
   "metadata": {},
   "outputs": [
    {
     "data": {
      "text/html": [
       "<div>\n",
       "<style scoped>\n",
       "    .dataframe tbody tr th:only-of-type {\n",
       "        vertical-align: middle;\n",
       "    }\n",
       "\n",
       "    .dataframe tbody tr th {\n",
       "        vertical-align: top;\n",
       "    }\n",
       "\n",
       "    .dataframe thead th {\n",
       "        text-align: right;\n",
       "    }\n",
       "</style>\n",
       "<table border=\"1\" class=\"dataframe\">\n",
       "  <thead>\n",
       "    <tr style=\"text-align: right;\">\n",
       "      <th></th>\n",
       "      <th>Open</th>\n",
       "      <th>High</th>\n",
       "      <th>Low</th>\n",
       "      <th>Close</th>\n",
       "      <th>SM20</th>\n",
       "      <th>EMA</th>\n",
       "      <th>Momentum_20</th>\n",
       "    </tr>\n",
       "  </thead>\n",
       "  <tbody>\n",
       "    <tr>\n",
       "      <th>LASSO L1</th>\n",
       "      <td>-28.5349</td>\n",
       "      <td>0</td>\n",
       "      <td>0</td>\n",
       "      <td>34.4352</td>\n",
       "      <td>0</td>\n",
       "      <td>-5.85621</td>\n",
       "      <td>0.133076</td>\n",
       "    </tr>\n",
       "    <tr>\n",
       "      <th>RIDEG L2</th>\n",
       "      <td>-2.82438954</td>\n",
       "      <td>-0.15626795</td>\n",
       "      <td>0.41067267</td>\n",
       "      <td>3.49676034</td>\n",
       "      <td>0.21227235</td>\n",
       "      <td>-1.13881937</td>\n",
       "      <td>0.02784599</td>\n",
       "    </tr>\n",
       "  </tbody>\n",
       "</table>\n",
       "</div>"
      ],
      "text/plain": [
       "                 Open         High         Low       Close        SM20  \\\n",
       "LASSO L1     -28.5349            0           0     34.4352           0   \n",
       "RIDEG L2  -2.82438954  -0.15626795  0.41067267  3.49676034  0.21227235   \n",
       "\n",
       "                  EMA Momentum_20  \n",
       "LASSO L1     -5.85621    0.133076  \n",
       "RIDEG L2  -1.13881937  0.02784599  "
      ]
     },
     "execution_count": 74,
     "metadata": {},
     "output_type": "execute_result"
    }
   ],
   "source": [
    "frames=[lasso_df,rid_df.T]\n",
    "df_merge=pd.concat(frames)\n",
    "df_merge"
   ]
  },
  {
   "cell_type": "markdown",
   "metadata": {},
   "source": [
    "## LASSO (L1) VS RIDGE (L2) ##\n",
    "In supervised learning, ML models get trained on training data , there are the possibilities that the model performs accurately on training data but fails to perform well on test data. This is known as overfitting. It also produces high error due to several factors such as collinearity, bias-variance impact and over modeling on train data.\n",
    "\n",
    "Overfitting simply states that there is low error with respect to training dataset, and high error with respect to test datasets. \n",
    "\n",
    "Firstly Let's take a look at what the Bias-Variance trade off states:<br>\n",
    "In statistics and machine learning, the bias–variance tradeoff is the property of a model that the variance of the parameter estimated across samples can be reduced by increasing the bias in the estimated parameters. The bias–variance dilemma or bias–variance problem is the conflict in trying to simultaneously minimize these two sources of error that prevent supervised learning algorithms from generalizing beyond their training set\n",
    "\n",
    "The bias error is an error from erroneous assumptions in the learning algorithm. High bias can cause an algorithm to miss the relevant relations between features and target outputs (underfitting).\n",
    "The variance is an error from sensitivity to small fluctuations in the training set. High variance may result from an algorithm modeling the random noise in the training data (overfitting).\n",
    "\n",
    "Therefore, for a generalized data model, we must keep bias possibly low while modelling that leads to high accuracy. And, one should not obtain greatly varied results from output, therefore, low variance is recommended for a model to perform good.\n",
    "\n",
    "Comparision<br>\n",
    "\n",
    "Both L1 and L2 can add a penalty to the cost depending upon the model complexity, so at the place of computing the cost by using a loss function, there will be an auxiliary component, known as regularization terms, added in order to panelizing complex models.\n",
    "\n",
    "**L2 is likely to have low variance and high bias than L1**\n"
   ]
  },
  {
   "cell_type": "markdown",
   "metadata": {},
   "source": [
    "# Plotting Logstic Sigmoid For The Three Best Features\n",
    "1)Open <br>\n",
    "2)Close <br>\n",
    "3)Momentum_20"
   ]
  },
  {
   "cell_type": "code",
   "execution_count": 75,
   "metadata": {},
   "outputs": [],
   "source": [
    "Mo_20=scaled_features_df['Momentum_20']\n",
    "Close_v=scaled_features_df['Close']\n",
    "Open_v=scaled_features_df['Open']"
   ]
  },
  {
   "cell_type": "code",
   "execution_count": 76,
   "metadata": {},
   "outputs": [
    {
     "data": {
      "image/png": "[encoded data removed]",
      "text/plain": [
       "<Figure size 432x288 with 1 Axes>"
      ]
     },
     "metadata": {
      "needs_background": "light"
     },
     "output_type": "display_data"
    },
    {
     "data": {
      "image/png": "[encoded data removed]",
      "text/plain": [
       "<Figure size 432x288 with 1 Axes>"
      ]
     },
     "metadata": {
      "needs_background": "light"
     },
     "output_type": "display_data"
    },
    {
     "data": {
      "image/png": "[encoded data removed]",
      "text/plain": [
       "<Figure size 432x288 with 1 Axes>"
      ]
     },
     "metadata": {
      "needs_background": "light"
     },
     "output_type": "display_data"
    }
   ],
   "source": [
    "import numpy as np\n",
    "import matplotlib.pyplot as plt\n",
    " \n",
    "# Sigmoid function\n",
    "#\n",
    "def sigmoid(z):\n",
    "    return 1 / (1 + np.exp(-z))\n",
    "label_list=['Momentum','Close Price','Open Price']\n",
    "# Creating sample Z points\n",
    "for i,z in enumerate([Mo_20,Close_v,Open_v]):\n",
    "    phi_z = sigmoid(z)\n",
    " \n",
    "    # Plotting the Sigmoid function\n",
    "    #\n",
    "    plt.plot(z, phi_z)\n",
    "    plt.axvline(0.0, color='k')\n",
    "    plt.xlabel(label_list[i])\n",
    "    plt.ylabel('$\\phi(z)$')\n",
    "    plt.yticks([0.0, 0.5, 1.0])\n",
    "    ax = plt.gca()\n",
    "    ax.yaxis.grid(True)\n",
    "    plt.tight_layout()\n",
    "    plt.show()"
   ]
  },
  {
   "cell_type": "markdown",
   "metadata": {},
   "source": [
    "# Features Selection Methods \n",
    "Feature selection methods are approaches to reduce the number of input variables that are believed to be most useful to a model. It is primarily focused on removing non-informative or redundant predictors from the model. We'll focus on few methods in relation to logstic regression."
   ]
  },
  {
   "cell_type": "code",
   "execution_count": 77,
   "metadata": {},
   "outputs": [
    {
     "data": {
      "text/html": [
       "<div>\n",
       "<style scoped>\n",
       "    .dataframe tbody tr th:only-of-type {\n",
       "        vertical-align: middle;\n",
       "    }\n",
       "\n",
       "    .dataframe tbody tr th {\n",
       "        vertical-align: top;\n",
       "    }\n",
       "\n",
       "    .dataframe thead th {\n",
       "        text-align: right;\n",
       "    }\n",
       "</style>\n",
       "<table border=\"1\" class=\"dataframe\">\n",
       "  <thead>\n",
       "    <tr style=\"text-align: right;\">\n",
       "      <th></th>\n",
       "      <th>Open</th>\n",
       "      <th>High</th>\n",
       "      <th>Low</th>\n",
       "      <th>Close</th>\n",
       "      <th>SMA20</th>\n",
       "      <th>EMA</th>\n",
       "      <th>Momentum_20</th>\n",
       "    </tr>\n",
       "  </thead>\n",
       "  <tbody>\n",
       "    <tr>\n",
       "      <th>0</th>\n",
       "      <td>-1.281171</td>\n",
       "      <td>-1.281545</td>\n",
       "      <td>-1.270074</td>\n",
       "      <td>-1.276920</td>\n",
       "      <td>-1.288508</td>\n",
       "      <td>-1.283263</td>\n",
       "      <td>-0.134953</td>\n",
       "    </tr>\n",
       "    <tr>\n",
       "      <th>1</th>\n",
       "      <td>-1.273531</td>\n",
       "      <td>-1.284224</td>\n",
       "      <td>-1.280720</td>\n",
       "      <td>-1.291746</td>\n",
       "      <td>-1.287857</td>\n",
       "      <td>-1.284029</td>\n",
       "      <td>-0.254718</td>\n",
       "    </tr>\n",
       "    <tr>\n",
       "      <th>2</th>\n",
       "      <td>-1.292182</td>\n",
       "      <td>-1.299853</td>\n",
       "      <td>-1.283891</td>\n",
       "      <td>-1.291072</td>\n",
       "      <td>-1.286383</td>\n",
       "      <td>-1.284602</td>\n",
       "      <td>-0.161996</td>\n",
       "    </tr>\n",
       "    <tr>\n",
       "      <th>3</th>\n",
       "      <td>-1.289485</td>\n",
       "      <td>-1.300076</td>\n",
       "      <td>-1.298160</td>\n",
       "      <td>-1.303428</td>\n",
       "      <td>-1.284486</td>\n",
       "      <td>-1.286769</td>\n",
       "      <td>-0.114347</td>\n",
       "    </tr>\n",
       "    <tr>\n",
       "      <th>4</th>\n",
       "      <td>-1.293305</td>\n",
       "      <td>-1.292485</td>\n",
       "      <td>-1.286835</td>\n",
       "      <td>-1.288826</td>\n",
       "      <td>-1.281927</td>\n",
       "      <td>-1.286671</td>\n",
       "      <td>-0.039655</td>\n",
       "    </tr>\n",
       "    <tr>\n",
       "      <th>...</th>\n",
       "      <td>...</td>\n",
       "      <td>...</td>\n",
       "      <td>...</td>\n",
       "      <td>...</td>\n",
       "      <td>...</td>\n",
       "      <td>...</td>\n",
       "      <td>...</td>\n",
       "    </tr>\n",
       "    <tr>\n",
       "      <th>1214</th>\n",
       "      <td>2.311031</td>\n",
       "      <td>2.292086</td>\n",
       "      <td>2.300517</td>\n",
       "      <td>2.287965</td>\n",
       "      <td>2.200883</td>\n",
       "      <td>2.258199</td>\n",
       "      <td>-0.237977</td>\n",
       "    </tr>\n",
       "    <tr>\n",
       "      <th>1215</th>\n",
       "      <td>2.305638</td>\n",
       "      <td>2.315083</td>\n",
       "      <td>2.318411</td>\n",
       "      <td>2.336938</td>\n",
       "      <td>2.206653</td>\n",
       "      <td>2.275255</td>\n",
       "      <td>0.322216</td>\n",
       "    </tr>\n",
       "    <tr>\n",
       "      <th>1216</th>\n",
       "      <td>2.372377</td>\n",
       "      <td>2.370677</td>\n",
       "      <td>2.381605</td>\n",
       "      <td>2.353337</td>\n",
       "      <td>2.221495</td>\n",
       "      <td>2.292251</td>\n",
       "      <td>1.344729</td>\n",
       "    </tr>\n",
       "    <tr>\n",
       "      <th>1217</th>\n",
       "      <td>2.365186</td>\n",
       "      <td>2.384296</td>\n",
       "      <td>2.400631</td>\n",
       "      <td>2.369961</td>\n",
       "      <td>2.237834</td>\n",
       "      <td>2.309226</td>\n",
       "      <td>1.513430</td>\n",
       "    </tr>\n",
       "    <tr>\n",
       "      <th>1218</th>\n",
       "      <td>2.400240</td>\n",
       "      <td>2.392780</td>\n",
       "      <td>2.424414</td>\n",
       "      <td>2.423201</td>\n",
       "      <td>2.258630</td>\n",
       "      <td>2.331127</td>\n",
       "      <td>2.015671</td>\n",
       "    </tr>\n",
       "  </tbody>\n",
       "</table>\n",
       "<p>1219 rows × 7 columns</p>\n",
       "</div>"
      ],
      "text/plain": [
       "          Open      High       Low     Close     SMA20       EMA  Momentum_20\n",
       "0    -1.281171 -1.281545 -1.270074 -1.276920 -1.288508 -1.283263    -0.134953\n",
       "1    -1.273531 -1.284224 -1.280720 -1.291746 -1.287857 -1.284029    -0.254718\n",
       "2    -1.292182 -1.299853 -1.283891 -1.291072 -1.286383 -1.284602    -0.161996\n",
       "3    -1.289485 -1.300076 -1.298160 -1.303428 -1.284486 -1.286769    -0.114347\n",
       "4    -1.293305 -1.292485 -1.286835 -1.288826 -1.281927 -1.286671    -0.039655\n",
       "...        ...       ...       ...       ...       ...       ...          ...\n",
       "1214  2.311031  2.292086  2.300517  2.287965  2.200883  2.258199    -0.237977\n",
       "1215  2.305638  2.315083  2.318411  2.336938  2.206653  2.275255     0.322216\n",
       "1216  2.372377  2.370677  2.381605  2.353337  2.221495  2.292251     1.344729\n",
       "1217  2.365186  2.384296  2.400631  2.369961  2.237834  2.309226     1.513430\n",
       "1218  2.400240  2.392780  2.424414  2.423201  2.258630  2.331127     2.015671\n",
       "\n",
       "[1219 rows x 7 columns]"
      ]
     },
     "execution_count": 77,
     "metadata": {},
     "output_type": "execute_result"
    }
   ],
   "source": [
    "scaled_features_df"
   ]
  },
  {
   "cell_type": "code",
   "execution_count": 78,
   "metadata": {},
   "outputs": [
    {
     "data": {
      "text/html": [
       "<div>\n",
       "<style scoped>\n",
       "    .dataframe tbody tr th:only-of-type {\n",
       "        vertical-align: middle;\n",
       "    }\n",
       "\n",
       "    .dataframe tbody tr th {\n",
       "        vertical-align: top;\n",
       "    }\n",
       "\n",
       "    .dataframe thead th {\n",
       "        text-align: right;\n",
       "    }\n",
       "</style>\n",
       "<table border=\"1\" class=\"dataframe\">\n",
       "  <thead>\n",
       "    <tr style=\"text-align: right;\">\n",
       "      <th></th>\n",
       "      <th>Open</th>\n",
       "      <th>High</th>\n",
       "      <th>Low</th>\n",
       "      <th>Close</th>\n",
       "      <th>SMA20</th>\n",
       "      <th>EMA</th>\n",
       "      <th>Momentum_20</th>\n",
       "    </tr>\n",
       "  </thead>\n",
       "  <tbody>\n",
       "    <tr>\n",
       "      <th>0</th>\n",
       "      <td>88.099998</td>\n",
       "      <td>88.559998</td>\n",
       "      <td>88.070000</td>\n",
       "      <td>88.290001</td>\n",
       "      <td>87.513001</td>\n",
       "      <td>87.881816</td>\n",
       "      <td>1.500000</td>\n",
       "    </tr>\n",
       "    <tr>\n",
       "      <th>1</th>\n",
       "      <td>88.440002</td>\n",
       "      <td>88.440002</td>\n",
       "      <td>87.599998</td>\n",
       "      <td>87.629997</td>\n",
       "      <td>87.541501</td>\n",
       "      <td>87.848145</td>\n",
       "      <td>0.569999</td>\n",
       "    </tr>\n",
       "    <tr>\n",
       "      <th>2</th>\n",
       "      <td>87.610001</td>\n",
       "      <td>87.739998</td>\n",
       "      <td>87.459999</td>\n",
       "      <td>87.660004</td>\n",
       "      <td>87.606001</td>\n",
       "      <td>87.822998</td>\n",
       "      <td>1.290001</td>\n",
       "    </tr>\n",
       "    <tr>\n",
       "      <th>3</th>\n",
       "      <td>87.730003</td>\n",
       "      <td>87.730003</td>\n",
       "      <td>86.830002</td>\n",
       "      <td>87.110001</td>\n",
       "      <td>87.689001</td>\n",
       "      <td>87.727729</td>\n",
       "      <td>1.660004</td>\n",
       "    </tr>\n",
       "    <tr>\n",
       "      <th>4</th>\n",
       "      <td>87.559998</td>\n",
       "      <td>88.070000</td>\n",
       "      <td>87.330002</td>\n",
       "      <td>87.760002</td>\n",
       "      <td>87.801001</td>\n",
       "      <td>87.732040</td>\n",
       "      <td>2.240005</td>\n",
       "    </tr>\n",
       "    <tr>\n",
       "      <th>...</th>\n",
       "      <td>...</td>\n",
       "      <td>...</td>\n",
       "      <td>...</td>\n",
       "      <td>...</td>\n",
       "      <td>...</td>\n",
       "      <td>...</td>\n",
       "      <td>...</td>\n",
       "    </tr>\n",
       "    <tr>\n",
       "      <th>1214</th>\n",
       "      <td>247.960007</td>\n",
       "      <td>248.619995</td>\n",
       "      <td>245.710007</td>\n",
       "      <td>246.979996</td>\n",
       "      <td>240.207498</td>\n",
       "      <td>243.537685</td>\n",
       "      <td>0.699997</td>\n",
       "    </tr>\n",
       "    <tr>\n",
       "      <th>1215</th>\n",
       "      <td>247.720001</td>\n",
       "      <td>249.649994</td>\n",
       "      <td>246.500000</td>\n",
       "      <td>249.160004</td>\n",
       "      <td>240.459998</td>\n",
       "      <td>244.287327</td>\n",
       "      <td>5.050003</td>\n",
       "    </tr>\n",
       "    <tr>\n",
       "      <th>1216</th>\n",
       "      <td>250.690002</td>\n",
       "      <td>252.139999</td>\n",
       "      <td>249.289993</td>\n",
       "      <td>249.889999</td>\n",
       "      <td>241.109499</td>\n",
       "      <td>245.034350</td>\n",
       "      <td>12.990005</td>\n",
       "    </tr>\n",
       "    <tr>\n",
       "      <th>1217</th>\n",
       "      <td>250.369995</td>\n",
       "      <td>252.750000</td>\n",
       "      <td>250.130005</td>\n",
       "      <td>250.630005</td>\n",
       "      <td>241.824499</td>\n",
       "      <td>245.780438</td>\n",
       "      <td>14.300003</td>\n",
       "    </tr>\n",
       "    <tr>\n",
       "      <th>1218</th>\n",
       "      <td>251.929993</td>\n",
       "      <td>253.130005</td>\n",
       "      <td>251.179993</td>\n",
       "      <td>253.000000</td>\n",
       "      <td>242.734499</td>\n",
       "      <td>246.743046</td>\n",
       "      <td>18.199997</td>\n",
       "    </tr>\n",
       "  </tbody>\n",
       "</table>\n",
       "<p>1219 rows × 7 columns</p>\n",
       "</div>"
      ],
      "text/plain": [
       "            Open        High         Low       Close       SMA20         EMA  \\\n",
       "0      88.099998   88.559998   88.070000   88.290001   87.513001   87.881816   \n",
       "1      88.440002   88.440002   87.599998   87.629997   87.541501   87.848145   \n",
       "2      87.610001   87.739998   87.459999   87.660004   87.606001   87.822998   \n",
       "3      87.730003   87.730003   86.830002   87.110001   87.689001   87.727729   \n",
       "4      87.559998   88.070000   87.330002   87.760002   87.801001   87.732040   \n",
       "...          ...         ...         ...         ...         ...         ...   \n",
       "1214  247.960007  248.619995  245.710007  246.979996  240.207498  243.537685   \n",
       "1215  247.720001  249.649994  246.500000  249.160004  240.459998  244.287327   \n",
       "1216  250.690002  252.139999  249.289993  249.889999  241.109499  245.034350   \n",
       "1217  250.369995  252.750000  250.130005  250.630005  241.824499  245.780438   \n",
       "1218  251.929993  253.130005  251.179993  253.000000  242.734499  246.743046   \n",
       "\n",
       "      Momentum_20  \n",
       "0        1.500000  \n",
       "1        0.569999  \n",
       "2        1.290001  \n",
       "3        1.660004  \n",
       "4        2.240005  \n",
       "...           ...  \n",
       "1214     0.699997  \n",
       "1215     5.050003  \n",
       "1216    12.990005  \n",
       "1217    14.300003  \n",
       "1218    18.199997  \n",
       "\n",
       "[1219 rows x 7 columns]"
      ]
     },
     "execution_count": 78,
     "metadata": {},
     "output_type": "execute_result"
    }
   ],
   "source": [
    "X=features\n",
    "X"
   ]
  },
  {
   "cell_type": "markdown",
   "metadata": {},
   "source": [
    "# Method 1 VIF:\n",
    "Multicollinearity occurs when two or more independent variables are highly correlated with one another in a regression model. This means that an independent variable can be predicted from another independent variable in a regression model.\n",
    "\n",
    "Multicollinearity can be detected using various methods and one such method is Variable Inflation Factors (VIF). VIF determines the strength of the correlation between the independent variables. It is predicted by taking a variable and regressing it against every other variable.\n",
    "\n",
    "VIF score of an independent variable represents how well the variable is explained by other independent variables.\n",
    "\n",
    "$$VIF=\\frac{1}{1-R^2}$$ <br>\n",
    "Where A high value of $R^2$ means that the variable is highly correlated with the other variables.\n",
    "\n",
    "\n",
    "VIF starts at 1 and has no upper limit <br>\n",
    "VIF = 1, no correlation between the independent variable and the other variables <br>\n",
    "VIF exceeding 5 or 10 indicates high multicollinearity between this independent variable and the others <br>"
   ]
  },
  {
   "cell_type": "code",
   "execution_count": 79,
   "metadata": {},
   "outputs": [],
   "source": [
    "from statsmodels.stats.outliers_influence import variance_inflation_factor\n",
    "def vif(X):\n",
    "    scaler = StandardScaler()\n",
    "    xs = scaler.fit_transform(X)\n",
    "    \n",
    "    # subsume into a dataframe\n",
    "    vif = pd.DataFrame()\n",
    "    vif[\"Features\"] = X.columns\n",
    "    vif[\"VIF Factor\"] = [variance_inflation_factor(xs, i) for i in range(xs.shape[1])]\n",
    "    \n",
    "    return vif"
   ]
  },
  {
   "cell_type": "code",
   "execution_count": 80,
   "metadata": {},
   "outputs": [
    {
     "data": {
      "text/html": [
       "<div>\n",
       "<style scoped>\n",
       "    .dataframe tbody tr th:only-of-type {\n",
       "        vertical-align: middle;\n",
       "    }\n",
       "\n",
       "    .dataframe tbody tr th {\n",
       "        vertical-align: top;\n",
       "    }\n",
       "\n",
       "    .dataframe thead th {\n",
       "        text-align: right;\n",
       "    }\n",
       "</style>\n",
       "<table border=\"1\" class=\"dataframe\">\n",
       "  <thead>\n",
       "    <tr style=\"text-align: right;\">\n",
       "      <th></th>\n",
       "      <th>Features</th>\n",
       "      <th>VIF Factor</th>\n",
       "    </tr>\n",
       "  </thead>\n",
       "  <tbody>\n",
       "    <tr>\n",
       "      <th>0</th>\n",
       "      <td>Open</td>\n",
       "      <td>4773.2584</td>\n",
       "    </tr>\n",
       "    <tr>\n",
       "      <th>1</th>\n",
       "      <td>High</td>\n",
       "      <td>6286.6998</td>\n",
       "    </tr>\n",
       "    <tr>\n",
       "      <th>2</th>\n",
       "      <td>Low</td>\n",
       "      <td>3837.3607</td>\n",
       "    </tr>\n",
       "    <tr>\n",
       "      <th>3</th>\n",
       "      <td>Close</td>\n",
       "      <td>4139.8333</td>\n",
       "    </tr>\n",
       "    <tr>\n",
       "      <th>4</th>\n",
       "      <td>SMA20</td>\n",
       "      <td>3435.3284</td>\n",
       "    </tr>\n",
       "    <tr>\n",
       "      <th>5</th>\n",
       "      <td>EMA</td>\n",
       "      <td>5684.0165</td>\n",
       "    </tr>\n",
       "    <tr>\n",
       "      <th>6</th>\n",
       "      <td>Momentum_20</td>\n",
       "      <td>4.3588</td>\n",
       "    </tr>\n",
       "  </tbody>\n",
       "</table>\n",
       "</div>"
      ],
      "text/plain": [
       "      Features  VIF Factor\n",
       "0         Open   4773.2584\n",
       "1         High   6286.6998\n",
       "2          Low   3837.3607\n",
       "3        Close   4139.8333\n",
       "4        SMA20   3435.3284\n",
       "5          EMA   5684.0165\n",
       "6  Momentum_20      4.3588"
      ]
     },
     "execution_count": 80,
     "metadata": {},
     "output_type": "execute_result"
    }
   ],
   "source": [
    "vif(X).round(4)"
   ]
  },
  {
   "cell_type": "markdown",
   "metadata": {},
   "source": [
    "Any features that has a higher VIF than 5 needs to be removed. In this case on Momentum_20 will remain"
   ]
  },
  {
   "cell_type": "markdown",
   "metadata": {},
   "source": [
    "# Method 2: SelectKBest\n"
   ]
  },
  {
   "cell_type": "code",
   "execution_count": 81,
   "metadata": {},
   "outputs": [
    {
     "data": {
      "text/plain": [
       "array([0, 1, 2, 3, 5, 6], dtype=int64)"
      ]
     },
     "execution_count": 81,
     "metadata": {},
     "output_type": "execute_result"
    }
   ],
   "source": [
    "from sklearn.feature_selection import SelectKBest, SelectPercentile,f_classif\n",
    "method2=SelectKBest(f_classif,k=6)\n",
    "method2.fit(X_train,y_train)\n",
    "method2.get_support(indices=True)"
   ]
  },
  {
   "cell_type": "code",
   "execution_count": 82,
   "metadata": {},
   "outputs": [
    {
     "name": "stdout",
     "output_type": "stream",
     "text": [
      "F-score: 0.0798 for feature Open\n",
      "F-score: 0.1851 for feature High\n",
      "F-score: 0.334 for feature Low\n",
      "F-score: 0.5791 for feature Close\n",
      "F-score: 0.0009789 for feature SMA20\n",
      "F-score: 0.01093 for feature EMA\n",
      "F-score: 26.74 for feature Momentum_20\n"
     ]
    }
   ],
   "source": [
    "for f, s in zip(X.columns, method2.scores_):\n",
    "    print(f'F-score: {s:0.4} for feature {f}')"
   ]
  },
  {
   "cell_type": "markdown",
   "metadata": {},
   "source": [
    "F-Scores can be seen as a measure of how informative each feature is for the dataset. The F-scores represents the ratio between the explained and the unexplained Variance. In our case Momentum is a clear winner."
   ]
  },
  {
   "cell_type": "markdown",
   "metadata": {},
   "source": [
    "# Method 3: Shapley Values"
   ]
  },
  {
   "cell_type": "code",
   "execution_count": 86,
   "metadata": {},
   "outputs": [],
   "source": [
    "from sklearn.pipeline import Pipeline\n",
    "logstic=linear_model.LogisticRegression()\n",
    "pipe = Pipeline([\n",
    "    ('scaler', StandardScaler()),\n",
    "    ('regressor', LogisticRegression())\n",
    "])"
   ]
  },
  {
   "cell_type": "code",
   "execution_count": 87,
   "metadata": {},
   "outputs": [
    {
     "data": {
      "text/plain": [
       "Pipeline(steps=[('scaler', StandardScaler()),\n",
       "                ('regressor', LogisticRegression())])"
      ]
     },
     "execution_count": 87,
     "metadata": {},
     "output_type": "execute_result"
    }
   ],
   "source": [
    "pipe.fit(X,y)"
   ]
  },
  {
   "cell_type": "code",
   "execution_count": 88,
   "metadata": {},
   "outputs": [
    {
     "data": {
      "image/png": "[encoded data removed]",
      "text/plain": [
       "<Figure size 576x309.6 with 2 Axes>"
      ]
     },
     "metadata": {
      "needs_background": "light"
     },
     "output_type": "display_data"
    }
   ],
   "source": [
    "import shap\n",
    "X100 = shap.utils.sample(X, 100, random_state=42)\n",
    "explainer = shap.Explainer(pipe.predict, X100)\n",
    "shap_values = explainer(X)\n",
    "shap_values\n",
    "shap.plots.beeswarm(shap_values, max_display=14)"
   ]
  },
  {
   "cell_type": "code",
   "execution_count": 89,
   "metadata": {},
   "outputs": [
    {
     "data": {
      "text/html": [
       "<div>\n",
       "<style scoped>\n",
       "    .dataframe tbody tr th:only-of-type {\n",
       "        vertical-align: middle;\n",
       "    }\n",
       "\n",
       "    .dataframe tbody tr th {\n",
       "        vertical-align: top;\n",
       "    }\n",
       "\n",
       "    .dataframe thead th {\n",
       "        text-align: right;\n",
       "    }\n",
       "</style>\n",
       "<table border=\"1\" class=\"dataframe\">\n",
       "  <thead>\n",
       "    <tr style=\"text-align: right;\">\n",
       "      <th></th>\n",
       "      <th>Close</th>\n",
       "      <th>EMA</th>\n",
       "      <th>High</th>\n",
       "      <th>Momentum_20</th>\n",
       "    </tr>\n",
       "  </thead>\n",
       "  <tbody>\n",
       "    <tr>\n",
       "      <th>0</th>\n",
       "      <td>88.290001</td>\n",
       "      <td>87.881816</td>\n",
       "      <td>88.559998</td>\n",
       "      <td>1.500000</td>\n",
       "    </tr>\n",
       "    <tr>\n",
       "      <th>1</th>\n",
       "      <td>87.629997</td>\n",
       "      <td>87.848145</td>\n",
       "      <td>88.440002</td>\n",
       "      <td>0.569999</td>\n",
       "    </tr>\n",
       "    <tr>\n",
       "      <th>2</th>\n",
       "      <td>87.660004</td>\n",
       "      <td>87.822998</td>\n",
       "      <td>87.739998</td>\n",
       "      <td>1.290001</td>\n",
       "    </tr>\n",
       "    <tr>\n",
       "      <th>3</th>\n",
       "      <td>87.110001</td>\n",
       "      <td>87.727729</td>\n",
       "      <td>87.730003</td>\n",
       "      <td>1.660004</td>\n",
       "    </tr>\n",
       "    <tr>\n",
       "      <th>4</th>\n",
       "      <td>87.760002</td>\n",
       "      <td>87.732040</td>\n",
       "      <td>88.070000</td>\n",
       "      <td>2.240005</td>\n",
       "    </tr>\n",
       "    <tr>\n",
       "      <th>...</th>\n",
       "      <td>...</td>\n",
       "      <td>...</td>\n",
       "      <td>...</td>\n",
       "      <td>...</td>\n",
       "    </tr>\n",
       "    <tr>\n",
       "      <th>1214</th>\n",
       "      <td>246.979996</td>\n",
       "      <td>243.537685</td>\n",
       "      <td>248.619995</td>\n",
       "      <td>0.699997</td>\n",
       "    </tr>\n",
       "    <tr>\n",
       "      <th>1215</th>\n",
       "      <td>249.160004</td>\n",
       "      <td>244.287327</td>\n",
       "      <td>249.649994</td>\n",
       "      <td>5.050003</td>\n",
       "    </tr>\n",
       "    <tr>\n",
       "      <th>1216</th>\n",
       "      <td>249.889999</td>\n",
       "      <td>245.034350</td>\n",
       "      <td>252.139999</td>\n",
       "      <td>12.990005</td>\n",
       "    </tr>\n",
       "    <tr>\n",
       "      <th>1217</th>\n",
       "      <td>250.630005</td>\n",
       "      <td>245.780438</td>\n",
       "      <td>252.750000</td>\n",
       "      <td>14.300003</td>\n",
       "    </tr>\n",
       "    <tr>\n",
       "      <th>1218</th>\n",
       "      <td>253.000000</td>\n",
       "      <td>246.743046</td>\n",
       "      <td>253.130005</td>\n",
       "      <td>18.199997</td>\n",
       "    </tr>\n",
       "  </tbody>\n",
       "</table>\n",
       "<p>1219 rows × 4 columns</p>\n",
       "</div>"
      ],
      "text/plain": [
       "           Close         EMA        High  Momentum_20\n",
       "0      88.290001   87.881816   88.559998     1.500000\n",
       "1      87.629997   87.848145   88.440002     0.569999\n",
       "2      87.660004   87.822998   87.739998     1.290001\n",
       "3      87.110001   87.727729   87.730003     1.660004\n",
       "4      87.760002   87.732040   88.070000     2.240005\n",
       "...          ...         ...         ...          ...\n",
       "1214  246.979996  243.537685  248.619995     0.699997\n",
       "1215  249.160004  244.287327  249.649994     5.050003\n",
       "1216  249.889999  245.034350  252.139999    12.990005\n",
       "1217  250.630005  245.780438  252.750000    14.300003\n",
       "1218  253.000000  246.743046  253.130005    18.199997\n",
       "\n",
       "[1219 rows x 4 columns]"
      ]
     },
     "execution_count": 89,
     "metadata": {},
     "output_type": "execute_result"
    }
   ],
   "source": [
    "shap_method=features[['Close','EMA','High','Momentum_20']]\n",
    "shap_method"
   ]
  },
  {
   "cell_type": "code",
   "execution_count": 90,
   "metadata": {},
   "outputs": [
    {
     "name": "stdout",
     "output_type": "stream",
     "text": [
      "[1 1 1 ... 1 1 1]\n",
      "R^2: 0.6292\n"
     ]
    }
   ],
   "source": [
    "pipe.fit(shap_method, y)\n",
    "# predict labels\n",
    "y_pred = pipe.predict(shap_method)\n",
    "print(y_pred)\n",
    "print(f'R^2: {pipe.score(shap_method, y):0.4}')"
   ]
  },
  {
   "cell_type": "markdown",
   "metadata": {},
   "source": [
    "# Plot Logistic Sigmoid (Best winning Features)\n",
    "Winning Features:<br>\n",
    "1)Momentum <br>\n",
    "2)Close <br>\n",
    "3)Low <br>\n"
   ]
  },
  {
   "cell_type": "code",
   "execution_count": 94,
   "metadata": {},
   "outputs": [
    {
     "data": {
      "text/plain": [
       "0      -1.270074\n",
       "1      -1.280720\n",
       "2      -1.283891\n",
       "3      -1.298160\n",
       "4      -1.286835\n",
       "          ...   \n",
       "1214    2.300517\n",
       "1215    2.318411\n",
       "1216    2.381605\n",
       "1217    2.400631\n",
       "1218    2.424414\n",
       "Name: Low, Length: 1219, dtype: float64"
      ]
     },
     "execution_count": 94,
     "metadata": {},
     "output_type": "execute_result"
    }
   ],
   "source": [
    "low_v=scaled_features_df['Low']\n",
    "low_v"
   ]
  },
  {
   "cell_type": "code",
   "execution_count": 96,
   "metadata": {},
   "outputs": [
    {
     "data": {
      "image/png": "[encoded data removed]",
      "text/plain": [
       "<Figure size 432x288 with 1 Axes>"
      ]
     },
     "metadata": {
      "needs_background": "light"
     },
     "output_type": "display_data"
    },
    {
     "data": {
      "image/png": "[encoded data removed]",
      "text/plain": [
       "<Figure size 432x288 with 1 Axes>"
      ]
     },
     "metadata": {
      "needs_background": "light"
     },
     "output_type": "display_data"
    },
    {
     "data": {
      "image/png": "[encoded data removed]",
      "text/plain": [
       "<Figure size 432x288 with 1 Axes>"
      ]
     },
     "metadata": {
      "needs_background": "light"
     },
     "output_type": "display_data"
    }
   ],
   "source": [
    "label_list=['Momentum','Close Price','Low Price']\n",
    "# Creating sample Z points\n",
    "for i,z in enumerate([Mo_20,Close_v,low_v]):\n",
    "    phi_z = sigmoid(z)\n",
    " \n",
    "    # Plotting the Sigmoid function\n",
    "    #\n",
    "    plt.plot(z, phi_z)\n",
    "    plt.axvline(0.0, color='k')\n",
    "    plt.xlabel(label_list[i])\n",
    "    plt.ylabel('$\\phi(z)$')\n",
    "    plt.yticks([0.0, 0.5, 1.0])\n",
    "    ax = plt.gca()\n",
    "    ax.yaxis.grid(True)\n",
    "    plt.tight_layout()\n",
    "    plt.show()"
   ]
  },
  {
   "cell_type": "markdown",
   "metadata": {},
   "source": [
    "Features Restricted To:<br>\n",
    "1)Close <br>\n",
    "2)EMA <br>\n",
    "3)Momentum <br>"
   ]
  },
  {
   "cell_type": "code",
   "execution_count": 97,
   "metadata": {},
   "outputs": [],
   "source": [
    "y4=log_reg_L1.predict(X_test)"
   ]
  },
  {
   "cell_type": "code",
   "execution_count": 98,
   "metadata": {},
   "outputs": [
    {
     "data": {
      "text/plain": [
       "array([[107,  96],\n",
       "       [ 14, 271]], dtype=int64)"
      ]
     },
     "execution_count": 98,
     "metadata": {},
     "output_type": "execute_result"
    }
   ],
   "source": [
    "from sklearn.metrics import(confusion_matrix,accuracy_score) #Confusion matrix and visualing it\n",
    "from sklearn import metrics\n",
    "cm=metrics.confusion_matrix(y_test,y4)\n",
    "cm"
   ]
  },
  {
   "cell_type": "code",
   "execution_count": 99,
   "metadata": {},
   "outputs": [
    {
     "data": {
      "text/plain": [
       "<sklearn.metrics._plot.confusion_matrix.ConfusionMatrixDisplay at 0x29145800d90>"
      ]
     },
     "execution_count": 99,
     "metadata": {},
     "output_type": "execute_result"
    },
    {
     "data": {
      "image/png": "[encoded data removed]",
      "text/plain": [
       "<Figure size 432x288 with 2 Axes>"
      ]
     },
     "metadata": {
      "needs_background": "light"
     },
     "output_type": "display_data"
    }
   ],
   "source": [
    "from sklearn.metrics import confusion_matrix, ConfusionMatrixDisplay\n",
    "disp = ConfusionMatrixDisplay(confusion_matrix=cm, display_labels=logreg.classes_)\n",
    "disp.plot()"
   ]
  },
  {
   "cell_type": "markdown",
   "metadata": {},
   "source": [
    "\n",
    "\n",
    "$$Precision=\\frac{True Positive}{True Positive+False Positive}$$ <br>\n",
    "\n",
    "$$Recall=\\frac{True Positive}{True Positive+False Negative}$$"
   ]
  },
  {
   "cell_type": "markdown",
   "metadata": {},
   "source": [
    "ROC Curve"
   ]
  },
  {
   "cell_type": "code",
   "execution_count": 100,
   "metadata": {},
   "outputs": [
    {
     "data": {
      "text/plain": [
       "<sklearn.metrics._plot.roc_curve.RocCurveDisplay at 0x29141500160>"
      ]
     },
     "execution_count": 100,
     "metadata": {},
     "output_type": "execute_result"
    },
    {
     "data": {
      "image/png": "[encoded data removed]",
      "text/plain": [
       "<Figure size 432x288 with 1 Axes>"
      ]
     },
     "metadata": {
      "needs_background": "light"
     },
     "output_type": "display_data"
    }
   ],
   "source": [
    "from sklearn.metrics import roc_curve, auc\n",
    "from sklearn.metrics import roc_auc_score\n",
    "from matplotlib import pyplot\n",
    "metrics.plot_roc_curve(log_reg_L1, X_test, y_test) "
   ]
  },
  {
   "cell_type": "code",
   "execution_count": 101,
   "metadata": {},
   "outputs": [
    {
     "data": {
      "text/plain": [
       "(array([[0.24710177, 0.75289823],\n",
       "        [0.40247186, 0.59752814],\n",
       "        [0.28687277, 0.71312723],\n",
       "        [0.32370038, 0.67629962],\n",
       "        [0.34569459, 0.65430541],\n",
       "        [0.17203246, 0.82796754],\n",
       "        [0.36333137, 0.63666863],\n",
       "        [0.44781749, 0.55218251],\n",
       "        [0.32768708, 0.67231292],\n",
       "        [0.42355925, 0.57644075],\n",
       "        [0.42814746, 0.57185254],\n",
       "        [0.15332705, 0.84667295],\n",
       "        [0.16746559, 0.83253441],\n",
       "        [0.36864961, 0.63135039],\n",
       "        [0.43358145, 0.56641855],\n",
       "        [0.37662543, 0.62337457],\n",
       "        [0.39518301, 0.60481699],\n",
       "        [0.43784757, 0.56215243],\n",
       "        [0.31725018, 0.68274982],\n",
       "        [0.39072957, 0.60927043],\n",
       "        [0.1567421 , 0.8432579 ],\n",
       "        [0.19865635, 0.80134365],\n",
       "        [0.37915224, 0.62084776],\n",
       "        [0.36038324, 0.63961676],\n",
       "        [0.36721413, 0.63278587],\n",
       "        [0.20135812, 0.79864188],\n",
       "        [0.33655427, 0.66344573],\n",
       "        [0.35977585, 0.64022415],\n",
       "        [0.43845785, 0.56154215],\n",
       "        [0.29257133, 0.70742867],\n",
       "        [0.30196518, 0.69803482],\n",
       "        [0.4690452 , 0.5309548 ],\n",
       "        [0.35650535, 0.64349465],\n",
       "        [0.36904218, 0.63095782],\n",
       "        [0.31359434, 0.68640566],\n",
       "        [0.20622107, 0.79377893],\n",
       "        [0.49355247, 0.50644753],\n",
       "        [0.41990002, 0.58009998],\n",
       "        [0.39033868, 0.60966132],\n",
       "        [0.39876422, 0.60123578],\n",
       "        [0.17410662, 0.82589338],\n",
       "        [0.31319108, 0.68680892],\n",
       "        [0.07987431, 0.92012569],\n",
       "        [0.10939603, 0.89060397],\n",
       "        [0.21420569, 0.78579431],\n",
       "        [0.39915027, 0.60084973],\n",
       "        [0.30161105, 0.69838895],\n",
       "        [0.11139802, 0.88860198],\n",
       "        [0.29385698, 0.70614302],\n",
       "        [0.4570371 , 0.5429629 ],\n",
       "        [0.3093507 , 0.6906493 ],\n",
       "        [0.33304004, 0.66695996],\n",
       "        [0.26835442, 0.73164558],\n",
       "        [0.44086734, 0.55913266],\n",
       "        [0.43182045, 0.56817955],\n",
       "        [0.23653197, 0.76346803],\n",
       "        [0.47014997, 0.52985003],\n",
       "        [0.40216885, 0.59783115],\n",
       "        [0.32888257, 0.67111743],\n",
       "        [0.43252048, 0.56747952],\n",
       "        [0.4435198 , 0.5564802 ],\n",
       "        [0.3447147 , 0.6552853 ],\n",
       "        [0.39701372, 0.60298628],\n",
       "        [0.10896261, 0.89103739],\n",
       "        [0.43282154, 0.56717846],\n",
       "        [0.34837781, 0.65162219],\n",
       "        [0.45159572, 0.54840428],\n",
       "        [0.19835272, 0.80164728],\n",
       "        [0.2304432 , 0.7695568 ],\n",
       "        [0.41221889, 0.58778111],\n",
       "        [0.1898258 , 0.8101742 ],\n",
       "        [0.27075223, 0.72924777],\n",
       "        [0.46594914, 0.53405086],\n",
       "        [0.12957599, 0.87042401],\n",
       "        [0.0832383 , 0.9167617 ],\n",
       "        [0.38935131, 0.61064869],\n",
       "        [0.49567726, 0.50432274],\n",
       "        [0.43222002, 0.56777998],\n",
       "        [0.44783676, 0.55216324],\n",
       "        [0.29865189, 0.70134811],\n",
       "        [0.44114777, 0.55885223],\n",
       "        [0.43245531, 0.56754469],\n",
       "        [0.29434394, 0.70565606],\n",
       "        [0.27074517, 0.72925483],\n",
       "        [0.38677562, 0.61322438],\n",
       "        [0.40500628, 0.59499372],\n",
       "        [0.29071074, 0.70928926],\n",
       "        [0.23061435, 0.76938565],\n",
       "        [0.10511637, 0.89488363],\n",
       "        [0.35897352, 0.64102648],\n",
       "        [0.35531556, 0.64468444],\n",
       "        [0.32856916, 0.67143084],\n",
       "        [0.29790038, 0.70209962],\n",
       "        [0.07875397, 0.92124603],\n",
       "        [0.40401175, 0.59598825],\n",
       "        [0.47507966, 0.52492034],\n",
       "        [0.45808296, 0.54191704],\n",
       "        [0.39029259, 0.60970741],\n",
       "        [0.46627614, 0.53372386],\n",
       "        [0.42910184, 0.57089816],\n",
       "        [0.2837358 , 0.7162642 ],\n",
       "        [0.44528147, 0.55471853],\n",
       "        [0.35086356, 0.64913644],\n",
       "        [0.46218125, 0.53781875],\n",
       "        [0.41370408, 0.58629592],\n",
       "        [0.40578399, 0.59421601],\n",
       "        [0.35729407, 0.64270593],\n",
       "        [0.19659107, 0.80340893],\n",
       "        [0.47389638, 0.52610362],\n",
       "        [0.18924888, 0.81075112],\n",
       "        [0.47801257, 0.52198743],\n",
       "        [0.14399162, 0.85600838],\n",
       "        [0.29273286, 0.70726714],\n",
       "        [0.11494069, 0.88505931],\n",
       "        [0.20378511, 0.79621489],\n",
       "        [0.47882573, 0.52117427],\n",
       "        [0.37818082, 0.62181918],\n",
       "        [0.09446551, 0.90553449],\n",
       "        [0.23958001, 0.76041999],\n",
       "        [0.35715612, 0.64284388],\n",
       "        [0.39966857, 0.60033143],\n",
       "        [0.06218039, 0.93781961],\n",
       "        [0.43655819, 0.56344181],\n",
       "        [0.30620613, 0.69379387],\n",
       "        [0.44551145, 0.55448855],\n",
       "        [0.35722195, 0.64277805],\n",
       "        [0.29115155, 0.70884845],\n",
       "        [0.45002484, 0.54997516],\n",
       "        [0.43667268, 0.56332732],\n",
       "        [0.38074664, 0.61925336],\n",
       "        [0.41351444, 0.58648556],\n",
       "        [0.34845906, 0.65154094],\n",
       "        [0.44058196, 0.55941804],\n",
       "        [0.40428381, 0.59571619],\n",
       "        [0.4575539 , 0.5424461 ],\n",
       "        [0.28601621, 0.71398379],\n",
       "        [0.41015238, 0.58984762],\n",
       "        [0.33731174, 0.66268826],\n",
       "        [0.34948059, 0.65051941],\n",
       "        [0.17252582, 0.82747418],\n",
       "        [0.31657433, 0.68342567],\n",
       "        [0.1391626 , 0.8608374 ],\n",
       "        [0.4382615 , 0.5617385 ],\n",
       "        [0.03606426, 0.96393574],\n",
       "        [0.2432648 , 0.7567352 ],\n",
       "        [0.39711089, 0.60288911],\n",
       "        [0.29938045, 0.70061955],\n",
       "        [0.34303908, 0.65696092],\n",
       "        [0.40990368, 0.59009632],\n",
       "        [0.47681885, 0.52318115],\n",
       "        [0.46978216, 0.53021784],\n",
       "        [0.37052729, 0.62947271],\n",
       "        [0.426044  , 0.573956  ],\n",
       "        [0.31947716, 0.68052284],\n",
       "        [0.46847579, 0.53152421],\n",
       "        [0.17108287, 0.82891713],\n",
       "        [0.23150001, 0.76849999],\n",
       "        [0.3801639 , 0.6198361 ],\n",
       "        [0.13590038, 0.86409962],\n",
       "        [0.46296649, 0.53703351],\n",
       "        [0.20580924, 0.79419076],\n",
       "        [0.26601027, 0.73398973],\n",
       "        [0.20191772, 0.79808228],\n",
       "        [0.27036034, 0.72963966],\n",
       "        [0.47831595, 0.52168405],\n",
       "        [0.08505168, 0.91494832],\n",
       "        [0.48247427, 0.51752573],\n",
       "        [0.20699748, 0.79300252],\n",
       "        [0.24763819, 0.75236181],\n",
       "        [0.19511171, 0.80488829],\n",
       "        [0.49746978, 0.50253022],\n",
       "        [0.13765196, 0.86234804],\n",
       "        [0.09827201, 0.90172799],\n",
       "        [0.31515338, 0.68484662],\n",
       "        [0.20517422, 0.79482578],\n",
       "        [0.38836956, 0.61163044],\n",
       "        [0.43565036, 0.56434964],\n",
       "        [0.26907813, 0.73092187],\n",
       "        [0.49039232, 0.50960768],\n",
       "        [0.47672021, 0.52327979],\n",
       "        [0.46384185, 0.53615815],\n",
       "        [0.26417534, 0.73582466],\n",
       "        [0.25267576, 0.74732424],\n",
       "        [0.22068211, 0.77931789],\n",
       "        [0.28647396, 0.71352604],\n",
       "        [0.33512751, 0.66487249],\n",
       "        [0.19286727, 0.80713273],\n",
       "        [0.19832375, 0.80167625],\n",
       "        [0.38311864, 0.61688136],\n",
       "        [0.3575644 , 0.6424356 ],\n",
       "        [0.44404773, 0.55595227],\n",
       "        [0.34120836, 0.65879164],\n",
       "        [0.37752814, 0.62247186],\n",
       "        [0.31919634, 0.68080366],\n",
       "        [0.14926621, 0.85073379],\n",
       "        [0.48386174, 0.51613826],\n",
       "        [0.49609826, 0.50390174],\n",
       "        [0.26306613, 0.73693387],\n",
       "        [0.28559624, 0.71440376],\n",
       "        [0.38735045, 0.61264955],\n",
       "        [0.41955047, 0.58044953],\n",
       "        [0.19206106, 0.80793894],\n",
       "        [0.4656181 , 0.5343819 ],\n",
       "        [0.15094718, 0.84905282],\n",
       "        [0.47384438, 0.52615562],\n",
       "        [0.43012007, 0.56987993],\n",
       "        [0.18046769, 0.81953231],\n",
       "        [0.43017822, 0.56982178],\n",
       "        [0.3360511 , 0.6639489 ],\n",
       "        [0.25502576, 0.74497424],\n",
       "        [0.46171404, 0.53828596],\n",
       "        [0.22874405, 0.77125595],\n",
       "        [0.44360973, 0.55639027],\n",
       "        [0.25124819, 0.74875181],\n",
       "        [0.38821641, 0.61178359],\n",
       "        [0.03536793, 0.96463207],\n",
       "        [0.48076794, 0.51923206],\n",
       "        [0.31926875, 0.68073125],\n",
       "        [0.35624425, 0.64375575],\n",
       "        [0.14143852, 0.85856148],\n",
       "        [0.34961843, 0.65038157],\n",
       "        [0.47521192, 0.52478808],\n",
       "        [0.36094498, 0.63905502],\n",
       "        [0.22740092, 0.77259908],\n",
       "        [0.43135608, 0.56864392],\n",
       "        [0.26425431, 0.73574569],\n",
       "        [0.34734539, 0.65265461],\n",
       "        [0.30147108, 0.69852892],\n",
       "        [0.45826956, 0.54173044],\n",
       "        [0.2412033 , 0.7587967 ],\n",
       "        [0.37783272, 0.62216728],\n",
       "        [0.28453132, 0.71546868],\n",
       "        [0.32710425, 0.67289575],\n",
       "        [0.31177269, 0.68822731],\n",
       "        [0.49985014, 0.50014986],\n",
       "        [0.33364736, 0.66635264],\n",
       "        [0.49578032, 0.50421968],\n",
       "        [0.33862907, 0.66137093],\n",
       "        [0.1950475 , 0.8049525 ],\n",
       "        [0.37620788, 0.62379212],\n",
       "        [0.30268422, 0.69731578],\n",
       "        [0.38326273, 0.61673727],\n",
       "        [0.39137906, 0.60862094],\n",
       "        [0.28854682, 0.71145318],\n",
       "        [0.3676814 , 0.6323186 ],\n",
       "        [0.20805488, 0.79194512],\n",
       "        [0.28033923, 0.71966077],\n",
       "        [0.44863786, 0.55136214],\n",
       "        [0.29047347, 0.70952653],\n",
       "        [0.43856691, 0.56143309],\n",
       "        [0.27218775, 0.72781225],\n",
       "        [0.451133  , 0.548867  ],\n",
       "        [0.17627397, 0.82372603],\n",
       "        [0.31279644, 0.68720356],\n",
       "        [0.27410829, 0.72589171],\n",
       "        [0.37243247, 0.62756753],\n",
       "        [0.23378266, 0.76621734],\n",
       "        [0.20597566, 0.79402434],\n",
       "        [0.36759092, 0.63240908],\n",
       "        [0.43119842, 0.56880158],\n",
       "        [0.20265436, 0.79734564],\n",
       "        [0.25205699, 0.74794301],\n",
       "        [0.42518149, 0.57481851],\n",
       "        [0.45771131, 0.54228869],\n",
       "        [0.15212112, 0.84787888],\n",
       "        [0.41109206, 0.58890794],\n",
       "        [0.1434603 , 0.8565397 ],\n",
       "        [0.4104535 , 0.5895465 ],\n",
       "        [0.19021524, 0.80978476],\n",
       "        [0.42831045, 0.57168955],\n",
       "        [0.37443805, 0.62556195],\n",
       "        [0.35162484, 0.64837516],\n",
       "        [0.16194467, 0.83805533],\n",
       "        [0.20026084, 0.79973916],\n",
       "        [0.19736111, 0.80263889],\n",
       "        [0.45002584, 0.54997416],\n",
       "        [0.45005788, 0.54994212],\n",
       "        [0.21371554, 0.78628446],\n",
       "        [0.16591641, 0.83408359],\n",
       "        [0.08467842, 0.91532158],\n",
       "        [0.36139966, 0.63860034],\n",
       "        [0.4164822 , 0.5835178 ],\n",
       "        [0.48940769, 0.51059231],\n",
       "        [0.40689994, 0.59310006],\n",
       "        [0.12998141, 0.87001859],\n",
       "        [0.38185537, 0.61814463],\n",
       "        [0.427233  , 0.572767  ],\n",
       "        [0.45808793, 0.54191207],\n",
       "        [0.07438646, 0.92561354],\n",
       "        [0.24617615, 0.75382385],\n",
       "        [0.14692158, 0.85307842],\n",
       "        [0.34889743, 0.65110257],\n",
       "        [0.33043178, 0.66956822],\n",
       "        [0.43993938, 0.56006062],\n",
       "        [0.34819072, 0.65180928],\n",
       "        [0.20506559, 0.79493441],\n",
       "        [0.35498393, 0.64501607],\n",
       "        [0.46077801, 0.53922199],\n",
       "        [0.22899044, 0.77100956],\n",
       "        [0.28054904, 0.71945096],\n",
       "        [0.34070867, 0.65929133],\n",
       "        [0.04389011, 0.95610989],\n",
       "        [0.47178427, 0.52821573],\n",
       "        [0.17646419, 0.82353581],\n",
       "        [0.44486196, 0.55513804],\n",
       "        [0.46708003, 0.53291997],\n",
       "        [0.31694193, 0.68305807],\n",
       "        [0.39714927, 0.60285073],\n",
       "        [0.13631391, 0.86368609],\n",
       "        [0.16193921, 0.83806079],\n",
       "        [0.45285769, 0.54714231],\n",
       "        [0.32606252, 0.67393748],\n",
       "        [0.31807565, 0.68192435],\n",
       "        [0.40576551, 0.59423449],\n",
       "        [0.21024721, 0.78975279],\n",
       "        [0.18761268, 0.81238732],\n",
       "        [0.14831073, 0.85168927],\n",
       "        [0.33353673, 0.66646327],\n",
       "        [0.33989799, 0.66010201],\n",
       "        [0.05569372, 0.94430628],\n",
       "        [0.34845855, 0.65154145],\n",
       "        [0.48531537, 0.51468463],\n",
       "        [0.19864487, 0.80135513],\n",
       "        [0.39761338, 0.60238662],\n",
       "        [0.08721052, 0.91278948],\n",
       "        [0.45701626, 0.54298374],\n",
       "        [0.36688825, 0.63311175],\n",
       "        [0.42191063, 0.57808937],\n",
       "        [0.41842925, 0.58157075],\n",
       "        [0.18424739, 0.81575261],\n",
       "        [0.39304624, 0.60695376],\n",
       "        [0.10693551, 0.89306449],\n",
       "        [0.33820017, 0.66179983],\n",
       "        [0.29213873, 0.70786127],\n",
       "        [0.20227073, 0.79772927],\n",
       "        [0.42038504, 0.57961496],\n",
       "        [0.29257723, 0.70742277],\n",
       "        [0.44996947, 0.55003053],\n",
       "        [0.29532767, 0.70467233],\n",
       "        [0.33851066, 0.66148934],\n",
       "        [0.43482897, 0.56517103],\n",
       "        [0.45612916, 0.54387084],\n",
       "        [0.34633596, 0.65366404],\n",
       "        [0.20216209, 0.79783791],\n",
       "        [0.08183822, 0.91816178],\n",
       "        [0.09683482, 0.90316518],\n",
       "        [0.29473258, 0.70526742],\n",
       "        [0.39224353, 0.60775647],\n",
       "        [0.47537648, 0.52462352],\n",
       "        [0.42045128, 0.57954872],\n",
       "        [0.09492919, 0.90507081],\n",
       "        [0.338753  , 0.661247  ],\n",
       "        [0.42950858, 0.57049142],\n",
       "        [0.34941878, 0.65058122],\n",
       "        [0.38882289, 0.61117711],\n",
       "        [0.45117028, 0.54882972],\n",
       "        [0.36735076, 0.63264924],\n",
       "        [0.38830205, 0.61169795],\n",
       "        [0.3211457 , 0.6788543 ],\n",
       "        [0.36823261, 0.63176739],\n",
       "        [0.11838984, 0.88161016],\n",
       "        [0.38395848, 0.61604152],\n",
       "        [0.36624167, 0.63375833],\n",
       "        [0.33595178, 0.66404822],\n",
       "        [0.39125701, 0.60874299],\n",
       "        [0.31731073, 0.68268927],\n",
       "        [0.39045409, 0.60954591]]),\n",
       " array([[0.59079228, 0.40920772],\n",
       "        [0.90975918, 0.09024082],\n",
       "        [0.7096407 , 0.2903593 ],\n",
       "        [0.96992068, 0.03007932],\n",
       "        [0.58163185, 0.41836815],\n",
       "        [0.85544283, 0.14455717],\n",
       "        [0.56385341, 0.43614659],\n",
       "        [0.96162019, 0.03837981],\n",
       "        [0.60862605, 0.39137395],\n",
       "        [0.69252756, 0.30747244],\n",
       "        [0.60587699, 0.39412301],\n",
       "        [0.70839832, 0.29160168],\n",
       "        [0.94071529, 0.05928471],\n",
       "        [0.66320273, 0.33679727],\n",
       "        [0.50911654, 0.49088346],\n",
       "        [0.62536128, 0.37463872],\n",
       "        [0.55541194, 0.44458806],\n",
       "        [0.78565385, 0.21434615],\n",
       "        [0.73783531, 0.26216469],\n",
       "        [0.67897527, 0.32102473],\n",
       "        [0.83739334, 0.16260666],\n",
       "        [0.68069549, 0.31930451],\n",
       "        [0.54063973, 0.45936027],\n",
       "        [0.81049974, 0.18950026],\n",
       "        [0.87648793, 0.12351207],\n",
       "        [0.55876679, 0.44123321],\n",
       "        [0.55398469, 0.44601531],\n",
       "        [0.68399468, 0.31600532],\n",
       "        [0.84334888, 0.15665112],\n",
       "        [0.79289317, 0.20710683],\n",
       "        [0.5023906 , 0.4976094 ],\n",
       "        [0.77469341, 0.22530659],\n",
       "        [0.77513382, 0.22486618],\n",
       "        [0.58747441, 0.41252559],\n",
       "        [0.68532307, 0.31467693],\n",
       "        [0.51344782, 0.48655218],\n",
       "        [0.57211293, 0.42788707],\n",
       "        [0.50205244, 0.49794756],\n",
       "        [0.89611658, 0.10388342],\n",
       "        [0.9897312 , 0.0102688 ],\n",
       "        [0.63552903, 0.36447097],\n",
       "        [0.90673506, 0.09326494],\n",
       "        [0.98810334, 0.01189666],\n",
       "        [0.76643386, 0.23356614],\n",
       "        [0.8494018 , 0.1505982 ],\n",
       "        [0.74434459, 0.25565541],\n",
       "        [0.89724518, 0.10275482],\n",
       "        [0.64263349, 0.35736651],\n",
       "        [0.61848526, 0.38151474],\n",
       "        [0.54769265, 0.45230735],\n",
       "        [0.88626702, 0.11373298],\n",
       "        [0.71948418, 0.28051582],\n",
       "        [0.98304338, 0.01695662],\n",
       "        [0.58032887, 0.41967113],\n",
       "        [0.51190638, 0.48809362],\n",
       "        [0.53704745, 0.46295255],\n",
       "        [0.63418201, 0.36581799],\n",
       "        [0.73630421, 0.26369579],\n",
       "        [0.56794363, 0.43205637],\n",
       "        [0.93105229, 0.06894771],\n",
       "        [0.77203582, 0.22796418],\n",
       "        [0.52370798, 0.47629202],\n",
       "        [0.53536036, 0.46463964],\n",
       "        [0.98718963, 0.01281037],\n",
       "        [0.7335025 , 0.2664975 ],\n",
       "        [0.81688858, 0.18311142],\n",
       "        [0.91367867, 0.08632133],\n",
       "        [0.72386292, 0.27613708],\n",
       "        [0.53760071, 0.46239929],\n",
       "        [0.98063933, 0.01936067],\n",
       "        [0.9547186 , 0.0452814 ],\n",
       "        [0.6458135 , 0.3541865 ],\n",
       "        [0.53187597, 0.46812403],\n",
       "        [0.63312735, 0.36687265],\n",
       "        [0.82337251, 0.17662749],\n",
       "        [0.87969699, 0.12030301],\n",
       "        [0.56520395, 0.43479605],\n",
       "        [0.98602583, 0.01397417],\n",
       "        [0.72866088, 0.27133912],\n",
       "        [0.69729571, 0.30270429],\n",
       "        [0.85489308, 0.14510692],\n",
       "        [0.50593804, 0.49406196],\n",
       "        [0.89245675, 0.10754325],\n",
       "        [0.54764601, 0.45235399],\n",
       "        [0.51397768, 0.48602232],\n",
       "        [0.51424915, 0.48575085],\n",
       "        [0.63893012, 0.36106988],\n",
       "        [0.86784249, 0.13215751],\n",
       "        [0.53253323, 0.46746677],\n",
       "        [0.51194365, 0.48805635],\n",
       "        [0.79775349, 0.20224651],\n",
       "        [0.84161148, 0.15838852],\n",
       "        [0.5354179 , 0.4645821 ],\n",
       "        [0.95527138, 0.04472862],\n",
       "        [0.94187851, 0.05812149],\n",
       "        [0.56093416, 0.43906584],\n",
       "        [0.93802812, 0.06197188],\n",
       "        [0.8563672 , 0.1436328 ],\n",
       "        [0.60952049, 0.39047951],\n",
       "        [0.8178204 , 0.1821796 ],\n",
       "        [0.53040106, 0.46959894],\n",
       "        [0.6938014 , 0.3061986 ],\n",
       "        [0.94273923, 0.05726077],\n",
       "        [0.75504657, 0.24495343],\n",
       "        [0.81298068, 0.18701932],\n",
       "        [0.57238655, 0.42761345],\n",
       "        [0.76101699, 0.23898301],\n",
       "        [0.67082661, 0.32917339],\n",
       "        [0.56883466, 0.43116534],\n",
       "        [0.6550828 , 0.3449172 ],\n",
       "        [0.66936914, 0.33063086],\n",
       "        [0.5493789 , 0.4506211 ],\n",
       "        [0.51497048, 0.48502952],\n",
       "        [0.68069543, 0.31930457],\n",
       "        [0.51981774, 0.48018226],\n",
       "        [0.76527133, 0.23472867],\n",
       "        [0.77730069, 0.22269931],\n",
       "        [0.73650301, 0.26349699],\n",
       "        [0.53882079, 0.46117921],\n",
       "        [0.67389591, 0.32610409],\n",
       "        [0.78376506, 0.21623494]]))"
      ]
     },
     "execution_count": 101,
     "metadata": {},
     "output_type": "execute_result"
    }
   ],
   "source": [
    "s=log_reg_L1.predict_proba(X_test)\n",
    "up=s[s[:,1]>0.5]\n",
    "down=s[s[:,1]<0.5]\n",
    "up,down"
   ]
  },
  {
   "cell_type": "code",
   "execution_count": 102,
   "metadata": {},
   "outputs": [
    {
     "data": {
      "text/plain": [
       "<matplotlib.collections.PathCollection at 0x29143b6d5b0>"
      ]
     },
     "execution_count": 102,
     "metadata": {},
     "output_type": "execute_result"
    },
    {
     "data": {
      "image/png": "[encoded data removed]",
      "text/plain": [
       "<Figure size 432x288 with 1 Axes>"
      ]
     },
     "metadata": {
      "needs_background": "light"
     },
     "output_type": "display_data"
    }
   ],
   "source": [
    "plt.scatter(up[:,0],up[:,1])"
   ]
  },
  {
   "cell_type": "code",
   "execution_count": 103,
   "metadata": {},
   "outputs": [
    {
     "data": {
      "text/plain": [
       "<matplotlib.collections.PathCollection at 0x29143f98b80>"
      ]
     },
     "execution_count": 103,
     "metadata": {},
     "output_type": "execute_result"
    },
    {
     "data": {
      "image/png": "[encoded data removed]",
      "text/plain": [
       "<Figure size 432x288 with 1 Axes>"
      ]
     },
     "metadata": {
      "needs_background": "light"
     },
     "output_type": "display_data"
    }
   ],
   "source": [
    "plt.scatter(down[:,0],down[:,1],marker='x')"
   ]
  },
  {
   "cell_type": "markdown",
   "metadata": {},
   "source": [
    "**References**<br>\n",
    "[Python Labs Introduction to ML using Scikit-learn - II](Kannan Singaravelu Certificate in Quantitative Finance, June 2021)<br>\n",
    "[Logistic regression](https://en.wikipedia.org/wiki/Logistic_regression)<br>\n",
    "[Logistic Regression - THE MATH YOU SHOULD KNOW!](https://www.youtube.com/watch?v=YMJtsYIp4kg)<br>\n",
    "[Sklearn Documentation ](https://scikit-learn.org/stable/)<br>\n",
    "[Bias and Variance Trade-Off](https://en.wikipedia.org/wiki/Bias%E2%80%93variance_tradeoff) <br>"
   ]
  }
 ],
 "metadata": {
  "kernelspec": {
   "display_name": "Python 3",
   "language": "python",
   "name": "python3"
  },
  "language_info": {
   "codemirror_mode": {
    "name": "ipython",
    "version": 3
   },
   "file_extension": ".py",
   "mimetype": "text/x-python",
   "name": "python",
   "nbconvert_exporter": "python",
   "pygments_lexer": "ipython3",
   "version": "3.8.5"
  }
 },
 "nbformat": 4,
 "nbformat_minor": 4
}
